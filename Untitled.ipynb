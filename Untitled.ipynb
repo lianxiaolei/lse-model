{
 "cells": [
  {
   "cell_type": "code",
   "execution_count": 135,
   "metadata": {
    "collapsed": true
   },
   "outputs": [],
   "source": [
    "from collections import OrderedDict\n",
    "import numpy as np\n",
    "import numpy.linalg as llg\n",
    "from scipy.optimize import minimize\n",
    "from lse_model import LSEModel"
   ]
  },
  {
   "cell_type": "code",
   "execution_count": 136,
   "metadata": {},
   "outputs": [],
   "source": [
    "lsee = LSEModel()\n",
    "sigma = 1\n",
    "k = 2  # 学生能力维度\n",
    "m = 40  # 学生数\n",
    "n = 1  # 题目数"
   ]
  },
  {
   "cell_type": "code",
   "execution_count": 137,
   "metadata": {},
   "outputs": [
    {
     "data": {
      "text/plain": [
       "array([[ 0.26638963,  0.45230867],\n",
       "       [ 0.47938897,  0.41288363],\n",
       "       [ 1.0938855 ,  1.39168455],\n",
       "       [ 1.30867404,  1.48088851],\n",
       "       [ 1.0938855 ,  0.89168455],\n",
       "       [ 1.30867404,  0.98088851],\n",
       "       [ 0.5938855 ,  1.39168455],\n",
       "       [ 0.80867404,  1.48088851]])"
      ]
     },
     "execution_count": 137,
     "metadata": {},
     "output_type": "execute_result"
    }
   ],
   "source": [
    "s = np.array([[ 0.26638963,0.45230867],\n",
    " [ 0.47938897,0.41288363],\n",
    " [ 1.0938855, 1.39168455],\n",
    " [ 1.30867404,1.48088851],\n",
    " [ 1.0938855, 0.89168455],\n",
    " [ 1.30867404,0.98088851],\n",
    " [ 0.5938855, 1.39168455],\n",
    " [ 0.80867404,1.48088851],])\n",
    "s"
   ]
  },
  {
   "cell_type": "code",
   "execution_count": 138,
   "metadata": {},
   "outputs": [],
   "source": [
    "# 定义真实课程增益和课程要求\n",
    "l = np.array([0.80, 0.50]).reshape(2, 1)\n",
    "q = np.array([0.60, 0.20]).reshape(2, 1)"
   ]
  },
  {
   "cell_type": "code",
   "execution_count": 139,
   "metadata": {},
   "outputs": [
    {
     "data": {
      "text/plain": [
       "array([[ 0.44109886],\n",
       "       [ 0.48822669],\n",
       "       [ 0.69959808],\n",
       "       [ 0.74599401],\n",
       "       [ 0.66535952],\n",
       "       [ 0.71488842],\n",
       "       [ 0.59171098],\n",
       "       [ 0.64634649]])"
      ]
     },
     "execution_count": 139,
     "metadata": {},
     "output_type": "execute_result"
    }
   ],
   "source": [
    "dots = np.dot(s, q)\n",
    "norm_q = llg.norm(q, axis=0).reshape(1, -1)\n",
    "delta = lsee.vec_delta(dots, norm_q)\n",
    "probability = lsee.prob(delta)  # 计算学生获得课程增益的百分比\n",
    "probability"
   ]
  },
  {
   "cell_type": "code",
   "execution_count": 140,
   "metadata": {},
   "outputs": [
    {
     "data": {
      "text/plain": [
       "array([[ 0.61926872,  0.6728581 ],\n",
       "       [ 0.86997032,  0.65699697],\n",
       "       [ 1.65356396,  1.74148359],\n",
       "       [ 1.90546925,  1.85388552],\n",
       "       [ 1.62617312,  1.22436431],\n",
       "       [ 1.88058477,  1.33833272],\n",
       "       [ 1.06725429,  1.68754004],\n",
       "       [ 1.32575123,  1.80406176]])"
      ]
     },
     "execution_count": 140,
     "metadata": {},
     "output_type": "execute_result"
    }
   ],
   "source": [
    "s1 = s + np.dot(probability, l.T)  # 学生增长后的能力\n",
    "s1"
   ]
  },
  {
   "cell_type": "code",
   "execution_count": 141,
   "metadata": {},
   "outputs": [],
   "source": [
    "mu = s + np.dot(probability, l.T)\n",
    "sigma_matrix = np.diag((np.ones(s.shape[1]) ** 2).tolist())"
   ]
  },
  {
   "cell_type": "code",
   "execution_count": 142,
   "metadata": {},
   "outputs": [
    {
     "data": {
      "text/plain": [
       "117.62413225019807"
      ]
     },
     "execution_count": 142,
     "metadata": {},
     "output_type": "execute_result"
    }
   ],
   "source": [
    "likelihood = -np.sum(\n",
    "    (s1 - mu).dot(llg.inv(sigma_matrix)).dot((s1 - mu).T) / -2.0\n",
    "    + np.log(1 / (np.sqrt((2 * np.pi) ** s.shape[1] * llg.det(sigma_matrix))))\n",
    ")\n",
    "likelihood"
   ]
  },
  {
   "cell_type": "markdown",
   "metadata": {},
   "source": [
    "**---**"
   ]
  },
  {
   "cell_type": "code",
   "execution_count": 143,
   "metadata": {},
   "outputs": [],
   "source": [
    "ll = np.array([[ 0.82818864],\n",
    " [ 0.51761527]] )\n",
    "qq = np.array([[ 0.27609257],\n",
    " [ 0.80405195]])"
   ]
  },
  {
   "cell_type": "code",
   "execution_count": 144,
   "metadata": {},
   "outputs": [
    {
     "data": {
      "text/plain": [
       "array([[ 0.44109886],\n",
       "       [ 0.48822669],\n",
       "       [ 0.69959808],\n",
       "       [ 0.74599401],\n",
       "       [ 0.66535952],\n",
       "       [ 0.71488842],\n",
       "       [ 0.59171098],\n",
       "       [ 0.64634649]])"
      ]
     },
     "execution_count": 144,
     "metadata": {},
     "output_type": "execute_result"
    }
   ],
   "source": [
    "dotss = np.dot(s, qq)\n",
    "norm_qq = llg.norm(qq, axis=0).reshape(1, -1)\n",
    "deltaa = lsee.vec_delta(dotss, norm_qq)\n",
    "probabilityy = lsee.prob(deltaa)  # 计算学生获得课程增益的百分比\n",
    "probability"
   ]
  },
  {
   "cell_type": "code",
   "execution_count": 145,
   "metadata": {
    "collapsed": true
   },
   "outputs": [],
   "source": [
    "muu = s + np.dot(probabilityy, ll.T)\n",
    "sigma_matrixx = np.diag((np.ones(s.shape[1]) ** 2).tolist())"
   ]
  },
  {
   "cell_type": "code",
   "execution_count": 146,
   "metadata": {},
   "outputs": [
    {
     "data": {
      "text/plain": [
       "117.62413225025637"
      ]
     },
     "execution_count": 146,
     "metadata": {},
     "output_type": "execute_result"
    }
   ],
   "source": [
    "likelihood = -np.sum(\n",
    "    (s1 - muu).dot(llg.inv(sigma_matrix)).dot((s1 - muu).T) / -2.0\n",
    "    + np.log(1 / (np.sqrt((2 * np.pi) ** s.shape[1] * llg.det(sigma_matrix))))\n",
    ")\n",
    "likelihood"
   ]
  },
  {
   "cell_type": "code",
   "execution_count": null,
   "metadata": {
    "collapsed": true
   },
   "outputs": [],
   "source": []
  }
 ],
 "metadata": {
  "kernelspec": {
   "display_name": "Python 2",
   "language": "python",
   "name": "python2"
  },
  "language_info": {
   "codemirror_mode": {
    "name": "ipython",
    "version": 2
   },
   "file_extension": ".py",
   "mimetype": "text/x-python",
   "name": "python",
   "nbconvert_exporter": "python",
   "pygments_lexer": "ipython2",
   "version": "2.7.13"
  }
 },
 "nbformat": 4,
 "nbformat_minor": 2
}
