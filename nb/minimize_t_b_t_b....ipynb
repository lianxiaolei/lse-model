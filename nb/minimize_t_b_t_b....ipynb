{
 "cells": [
  {
   "cell_type": "markdown",
   "metadata": {},
   "source": [
    "尝试算法：\n",
    "1.随机能力t1，t2，给难度多个初始值，取其中似然函数最小的为b1，b2\n",
    "2.由难度b1，b2，给能力多个初始值及t1，t2，取其中似然函数最小的为t1，t2\n",
    "3.由能力t1，t2，给难度多个初始值及b1，b2，取其中似然函数最小的为b1，b2\n",
    "4.重复2,3\n",
    "5.重复1,2,3\n",
    "结果：\n",
    "发现似然最小值不一定是误差最小值，误差最小值可能似然函数较大。"
   ]
  },
  {
   "cell_type": "code",
   "execution_count": 1,
   "metadata": {
    "collapsed": true
   },
   "outputs": [],
   "source": [
    "from __future__ import division\n",
    "import os\n",
    "import sys\n",
    "import glob\n",
    "import matplotlib.pyplot as plt\n",
    "import numpy as np\n",
    "import pandas as pd\n",
    "%matplotlib inline\n",
    "%precision 4\n",
    "plt.style.use('ggplot')\n",
    "np.random.seed(1234)\n",
    "import pymc\n",
    "import scipy.stats as stats\n",
    "from scipy.optimize import minimize, rosen, rosen_der"
   ]
  },
  {
   "cell_type": "code",
   "execution_count": 178,
   "metadata": {
    "collapsed": true
   },
   "outputs": [],
   "source": [
    "def min_thete(y,w,b1,b2,a):\n",
    "    start1 = y.shape[0]\n",
    "    bnds = ((-3, 3), (-3, 3))*(y.shape[0])\n",
    "    def f(x):\n",
    "        t1 = np.array(x[:start1]).reshape(y.shape[0],1)\n",
    "        t2 = np.array(x[start1:]).reshape(y.shape[0],1)\n",
    "        p1 = (1./(1+ np.exp(-(t1-b1)))).reshape(y.shape)\n",
    "        p2 = (1./(1+ np.exp(-(t2-b2)))).reshape(y.shape)\n",
    "        f1 = -(y*(np.log(p1)+np.log(p2))+(1-y)*np.log(1-p1*p2)).sum()/y.shape[1]+w*((np.array([x])**2).sum())+w*((b1**2).sum())+w*((b2**2).sum())\n",
    "        ft1 = -((y-p1*p2)*(1-p1)/(1-p1*p2)).sum(axis=1)/y.shape[1]+2*w*np.array(x[:start1])\n",
    "        ft2 = -((y-p1*p2)*(1-p2)/(1-p1*p2)).sum(axis=1)/y.shape[1]+2*w*np.array(x[start1:])\n",
    "#         f1 = -(y*(np.log(p1)+np.log(p2))+(1-y)*np.log(1-p1*p2)).sum()/y.shape[1]\n",
    "#         ft1 = -((y-p1*p2)*(1-p1)/(1-p1*p2)).sum(axis=1)/y.shape[1]\n",
    "#         ft2 = -((y-p1*p2)*(1-p2)/(1-p1*p2)).sum(axis=1)/y.shape[1]\n",
    "        f2 = np.concatenate((ft1,ft2))\n",
    "        return f1, f2\n",
    "    res = minimize(f, (a), bounds=bnds,method='L-BFGS-B',jac=True)\n",
    "    min_t1 = np.array(res.x[:start1]).reshape(y.shape[0],1)\n",
    "    min_t2 = np.array(res.x[start1:]).reshape(y.shape[0],1)\n",
    "    return min_t1, min_t2, res.fun"
   ]
  },
  {
   "cell_type": "code",
   "execution_count": 179,
   "metadata": {
    "collapsed": false
   },
   "outputs": [],
   "source": [
    "def min_b(y,w,t1,t2,a):\n",
    "    start1 = y.shape[1]\n",
    "    bnds = ((-3, 3), (-3, 3))*(y.shape[1])\n",
    "    def f(x):\n",
    "        b1 = np.array([[x[:start1]]])\n",
    "        b2 = np.array([[x[start1:]]])\n",
    "        p1 = (1./(1+ np.exp(-(t1-b1)))).reshape(y.shape)\n",
    "        p2 = (1./(1+ np.exp(-(t2-b2)))).reshape(y.shape)\n",
    "        f1 = -(y*(np.log(p1)+np.log(p2))+(1-y)*np.log(1-p1*p2)).sum()/y.shape[1]+w*((np.array([x])**2).sum())+w*((t1**2).sum())+w*((t2**2).sum())\n",
    "        fb1 = ((y-p1*p2)*(1-p1)/(1-p1*p2)).sum(axis=0)/y.shape[1]+2*w*np.array(x[:start1])\n",
    "        fb2 = ((y-p1*p2)*(1-p2)/(1-p1*p2)).sum(axis=0)/y.shape[1]+2*w*np.array(x[start1:])\n",
    "#         f1 = -(y*(np.log(p1)+np.log(p2))+(1-y)*np.log(1-p1*p2)).sum()/y.shape[1]\n",
    "#         fb1 = ((y-p1*p2)*(1-p1)/(1-p1*p2)).sum(axis=0)/y.shape[1]\n",
    "#         fb2 = ((y-p1*p2)*(1-p2)/(1-p1*p2)).sum(axis=0)/y.shape[1]\n",
    "        f2 = np.concatenate((fb1,fb2))\n",
    "        return f1, f2\n",
    "    res = minimize(f, (a), bounds=bnds,method='L-BFGS-B',jac=True)\n",
    "    min_b1 = np.array([[res.x[:start1]]])\n",
    "    min_b2 = np.array([[res.x[start1:]]])\n",
    "    return min_b1, min_b2, res.fun"
   ]
  },
  {
   "cell_type": "code",
   "execution_count": 180,
   "metadata": {
    "collapsed": true
   },
   "outputs": [],
   "source": [
    "def absm(a,b):\n",
    "    return np.abs(a-b).mean()"
   ]
  },
  {
   "cell_type": "code",
   "execution_count": 181,
   "metadata": {
    "collapsed": true
   },
   "outputs": [],
   "source": [
    "def min_fun_b(uv, t1, t2, b1, b2):\n",
    "    min_p1 = 1.0/ (1.0 + np.exp(-(t1-b1))).reshape(uv.shape)\n",
    "    min_p2 = 1.0/ (1.0 + np.exp(-(t2-b2))).reshape(uv.shape)\n",
    "    w = 0.01\n",
    "    min_fun = -(uv*(np.log(min_p1)+np.log(min_p2))+(1-uv)*np.log(1-min_p1*min_p2)).sum()/uv.shape[1]+w*((t1**2).sum())+w*((t2**2).sum())+w*((b1**2).sum())+w*((b2**2).sum())\n",
    "#     min_fun = -(uv*(np.log(min_p1)+np.log(min_p2))+(1-uv)*np.log(1-min_p1*min_p2)).sum()/uv.shape[1]\n",
    "#     print min_fun\n",
    "    for n1 in [-2,-1,0,1,2]:\n",
    "        for n2 in [0,0.01,0.1,1]:\n",
    "            for w in [0.01]:\n",
    "                a = np.random.normal(n1, n2, 2*uv.shape[1])\n",
    "                min_b1,min_b2,cost = min_b(uv,w,t1,t2,a)\n",
    "                if cost < min_fun:\n",
    "                    b1 = min_b1\n",
    "                    b2 = min_b2\n",
    "                    min_fun = cost\n",
    "    a = np.concatenate((b1.flat,b2.flat))\n",
    "    min_b1,min_b2,cost = min_b(uv,w,t1,t2,a)\n",
    "    if cost < min_fun:\n",
    "        b1 = min_b1\n",
    "        b2 = min_b2\n",
    "        min_fun = cost\n",
    "#     print \"fun:\", min_fun\n",
    "    return b1, b2"
   ]
  },
  {
   "cell_type": "code",
   "execution_count": 186,
   "metadata": {
    "collapsed": true
   },
   "outputs": [],
   "source": [
    "def min_fun_t(uv, t1, t2, b1, b2):\n",
    "    min_p1 = 1.0/ (1.0 + np.exp(-(t1-b1))).reshape(uv.shape)\n",
    "    min_p2 = 1.0/ (1.0 + np.exp(-(t2-b2))).reshape(uv.shape)\n",
    "    w = 0.01\n",
    "    min_fun = -(uv*(np.log(min_p1)+np.log(min_p2))+(1-uv)*np.log(1-min_p1*min_p2)).sum()/uv.shape[1]+w*((t1**2).sum())+w*((t2**2).sum())+w*((b1**2).sum())+w*((b2**2).sum())\n",
    "#     min_fun = -(uv*(np.log(min_p1)+np.log(min_p2))+(1-uv)*np.log(1-min_p1*min_p2)).sum()/uv.shape[1]\n",
    "#     print min_fun\n",
    "    for n1 in [-2,-1,0,1,2]:\n",
    "        for n2 in [0,0.01,0.1,1]:\n",
    "            for w in [0.01]:\n",
    "                a = np.random.normal(n1, n2, 2*uv.shape[0])\n",
    "                min_t1,min_t2,cost = min_thete(uv,w,b1,b2,a)\n",
    "                if cost < min_fun:\n",
    "                    t1 = min_t1\n",
    "                    t2 = min_t2\n",
    "                    min_fun = cost\n",
    "    a = np.concatenate((t1.flat,t2.flat))\n",
    "    min_b1,min_b2,cost = min_thete(uv,w,b1,b2,a)\n",
    "    if cost < min_fun:\n",
    "        t1 = min_t1\n",
    "        t2 = min_t2\n",
    "        min_fun = cost\n",
    "#     print \"fun:\", min_fun\n",
    "    return t1, t2"
   ]
  },
  {
   "cell_type": "code",
   "execution_count": 187,
   "metadata": {
    "collapsed": true
   },
   "outputs": [],
   "source": [
    "n_items=100\n",
    "n_stu=100\n",
    "real_b1 = np.random.normal(0,1,(1,n_items))\n",
    "real_t1 = np.random.normal(0,1,(n_stu,1))\n",
    "real_b2 = np.random.normal(0,1,(1,n_items))\n",
    "real_t2 = np.random.normal(0,1,(n_stu,1))\n",
    "real_p1 = 1.0/ (1.0 + np.exp(-(real_t1-real_b1))).reshape(uv.shape)\n",
    "real_p2 = 1.0/ (1.0 + np.exp(-(real_t2-real_b2))).reshape(uv.shape)\n",
    "uv=np.random.random((n_stu,n_items))<real_p1*real_p2\n",
    "w = 0.01\n"
   ]
  },
  {
   "cell_type": "code",
   "execution_count": 191,
   "metadata": {
    "collapsed": false
   },
   "outputs": [
    {
     "name": "stdout",
     "output_type": "stream",
     "text": [
      "50.8133028744\n"
     ]
    }
   ],
   "source": [
    "# print -(uv*(np.log(real_p1)+np.log(real_p2))+(1-uv)*np.log(1-real_p1*real_p2)).sum()/uv.shape[1]\n",
    "print -(uv*(np.log(real_p1)+np.log(real_p2))+(1-uv)*np.log(1-real_p1*real_p2)).sum()/uv.shape[1]+w*((real_t1**2).sum())+w*((real_t2**2).sum())+w*((real_b1**2).sum())+w*((real_b2**2).sum())"
   ]
  },
  {
   "cell_type": "code",
   "execution_count": 201,
   "metadata": {
    "collapsed": false
   },
   "outputs": [
    {
     "name": "stdout",
     "output_type": "stream",
     "text": [
      "48.7645093147 0.673887519187\n",
      "48.793625515 0.69886305357\n",
      "48.7471663853 0.6913653171\n",
      "48.7541359248 0.622685019699\n",
      "48.7965233245 0.504999389578\n",
      "48.8024554974 0.483250967941\n",
      "48.7225892062 0.678512864492\n",
      "48.674970402 0.5720308697\n",
      "48.751531191 0.551985602984\n",
      "48.7584951983 0.511666848578\n",
      "48.7649829718 0.673424748068\n",
      "48.7779563797 0.705887967716\n",
      "48.7307114244 0.522175389348\n",
      "48.6922874846 0.614776417585\n",
      "48.8049174152 0.706453388087\n",
      "48.7416162012 0.646332892793\n",
      "48.7106483741 0.596876565769\n",
      "48.7568766988 0.663899327684\n",
      "48.7855527663 0.480873239187\n",
      "48.7950640638 0.503421087221\n"
     ]
    },
    {
     "data": {
      "image/png": "[encoded data removed]",
      "text/plain": [
       "<matplotlib.figure.Figure at 0xdd12908>"
      ]
     },
     "metadata": {},
     "output_type": "display_data"
    }
   ],
   "source": [
    "min_test_fun = 100\n",
    "for n_b1 in [-2,-1,0,1,2]:\n",
    "    for n_b2 in [0,0.01,0.1,1]:\n",
    "        b1 = np.random.normal(0,1,(1,n_items))\n",
    "        b2 = np.random.normal(0,1,(1,n_items))\n",
    "#         print \"1: \",(absm(b1,real_b1)+absm(b2,real_b2))/2\n",
    "        \n",
    "        min_fun = 100\n",
    "        for n1 in [-2,-1,0,1,2]:\n",
    "            for n2 in [0,0.01,0.1,1]:\n",
    "                for w in [0.01]:\n",
    "                    a = np.random.normal(n1, n2, 2*uv.shape[1])\n",
    "                    min_t1,min_t2,cost = min_thete(uv,w,b1,b2,a)\n",
    "                    if cost < min_fun:\n",
    "                        t1 = min_t1\n",
    "                        t2 = min_t2\n",
    "                        min_fun = cost\n",
    "#         print \"2: \",(absm(b1,real_b1)+absm(b2,real_b2)+absm(t1,real_t1)+absm(t2,real_t2))/4\n",
    "        \n",
    "        for i in range(10):\n",
    "            b1,b2 = min_fun_b(uv, t1, t2, b1, b2)\n",
    "            t1,t2 = min_fun_t(uv, t1, t2, b1, b2)\n",
    "#         print \"3: \",(absm(b1,real_b1)+absm(b2,real_b2)+absm(t1,real_t1)+absm(t2,real_t2))/4\n",
    "        \n",
    "        test_p1 = 1.0/ (1.0 + np.exp(-(real_t1-real_b1))).reshape(uv.shape)\n",
    "        test_p2 = 1.0/ (1.0 + np.exp(-(real_t2-real_b2))).reshape(uv.shape)\n",
    "        test_fun = -(uv*(np.log(test_p1)+np.log(test_p2))+(1-uv)*np.log(1-test_p1*test_p2)).sum()/uv.shape[1]+w*((t1**2).sum())+w*((t2**2).sum())+w*((b1**2).sum())+w*((b2**2).sum())\n",
    "        if test_fun < min_test_fun:\n",
    "            min_test_fun = test_fun\n",
    "            min_test_t1 = t1\n",
    "            min_test_t2 = t2\n",
    "            min_test_b1 = b1\n",
    "            min_test_b2 = b2\n",
    "        print test_fun, (absm(b1,real_b1)+absm(b2,real_b2)+absm(t1,real_t1)+absm(t2,real_t2))/4\n",
    "        plt.scatter(test_fun, (absm(b1,real_b1)+absm(b2,real_b2)+absm(t1,real_t1)+absm(t2,real_t2))/4)  "
   ]
  },
  {
   "cell_type": "code",
   "execution_count": 203,
   "metadata": {
    "collapsed": false
   },
   "outputs": [
    {
     "name": "stdout",
     "output_type": "stream",
     "text": [
      "48.674970402 0.5720308697\n"
     ]
    }
   ],
   "source": [
    "print min_test_fun,(absm(min_test_b1,real_b1)+absm(min_test_b2,real_b2)+absm(min_test_t1,real_t1)+absm(min_test_t2,real_t2))/4"
   ]
  },
  {
   "cell_type": "code",
   "execution_count": 207,
   "metadata": {
    "collapsed": false
   },
   "outputs": [
    {
     "name": "stdout",
     "output_type": "stream",
     "text": [
      "48.7074020617 0.632094316045\n",
      "48.73751781 0.589818251036\n",
      "48.8018180324 0.487083303748\n",
      "48.7357006734 0.604350830806\n",
      "48.7703070148 0.663090946902\n",
      "48.6145008692 0.571612517928\n",
      "48.7985643703 0.479699085809\n",
      "48.736314119 0.595520037372\n",
      "48.758464137 0.550474045472\n",
      "48.8075140494 0.48467390775\n",
      "48.7429157502 0.488483396993\n",
      "48.7671668959 0.511434395446\n",
      "48.7743284301 0.641406236061\n",
      "48.719196865 0.526102485023\n",
      "48.708719307 0.497988977614\n",
      "48.6826408652 0.558135079319\n",
      "48.7514222251 0.611006443527\n",
      "48.7824252458 0.499232971315\n",
      "48.8010186171 0.490655094652\n",
      "48.7312234501 0.63355165764\n",
      "48.7505094644 0.682488891538\n",
      "48.8033548147 0.693346840712\n",
      "48.8102435998 0.484100598228\n",
      "48.7968015627 0.701145140902\n",
      "48.7179243875 0.494094380274\n",
      "48.7480652989 0.65665604986\n",
      "48.7182731436 0.578610093013\n",
      "48.7358964098 0.670422982835\n",
      "48.8025370992 0.491788297262\n",
      "48.717649191 0.645523038497\n",
      "48.8030195448 0.702364761397\n",
      "48.7505274192 0.478794582304\n",
      "48.7854668267 0.49458811353\n",
      "48.7829985963 0.497824606264\n",
      "48.7637749145 0.623362571877\n",
      "48.7958935639 0.691180351339\n",
      "48.7779359914 0.493896759173\n",
      "48.7252787663 0.48534889758\n",
      "48.730791016 0.683673749634\n",
      "48.7900503077 0.478809439923\n",
      "48.778671793 0.474574079013\n",
      "48.810225002 0.701801772485\n",
      "48.768532676 0.517140739715\n",
      "48.7369428279 0.559241367346\n",
      "48.8007276282 0.699207160841\n",
      "48.6994640643 0.519842658688\n",
      "48.7344347409 0.648856223667\n",
      "48.7986560239 0.696489264308\n",
      "48.8016815764 0.700470161499\n",
      "48.8041213645 0.491516732246\n",
      "48.7387794096 0.503035686211\n",
      "48.7454650855 0.613871656477\n",
      "48.800263669 0.699387983522\n",
      "48.7937057428 0.481146700507\n",
      "48.7519417557 0.563237542268\n",
      "48.7605203371 0.630987259488\n",
      "48.7777204383 0.515830602443\n",
      "48.7336928627 0.524145572636\n",
      "48.7833751987 0.69267466604\n",
      "48.7639665345 0.705905132999\n",
      "48.7557687229 0.66921109047\n",
      "48.7428261421 0.643696930211\n",
      "48.772455384 0.487900988794\n",
      "48.7297314397 0.579986770704\n",
      "48.7860428677 0.69320542144\n",
      "48.8011590119 0.485933210685\n",
      "48.7785997002 0.690623582338\n",
      "48.7693122768 0.63495554441\n",
      "48.6950244847 0.501080111474\n",
      "48.7882273572 0.494226283166\n",
      "48.8077184994 0.7039389354\n",
      "48.7851164734 0.695651174938\n",
      "48.7136527385 0.567738973963\n",
      "48.7636681093 0.622263689721\n",
      "48.7492262949 0.546437535521\n",
      "48.7991929424 0.488252592021\n",
      "48.795623078 0.489333769597\n",
      "48.800018958 0.691848379627\n",
      "48.8079967871 0.702263885961\n",
      "48.7691499702 0.503484348784\n",
      "48.7988475467 0.501597125019\n",
      "48.7188287317 0.500908430006\n",
      "48.768426251 0.651648850393\n",
      "48.7047129557 0.589726196836\n",
      "48.7662576095 0.517367233498\n",
      "48.7275484299 0.528999608895\n",
      "48.7914923164 0.6930491849\n",
      "48.7305221677 0.477470932548\n",
      "48.7737554342 0.550331110744\n",
      "48.7722795378 0.49969613313\n",
      "48.6732630702 0.603959807851\n",
      "48.8002416137 0.480065567238\n",
      "48.8020420646 0.701179649163\n",
      "48.7445163125 0.655983265887\n",
      "48.7440836477 0.536443578227\n",
      "48.8029898589 0.484402644473\n",
      "48.7926860071 0.702059130171\n",
      "48.7947625695 0.490123547562\n",
      "48.7523070586 0.674600968571\n",
      "48.7969649459 0.706702873979\n"
     ]
    },
    {
     "data": {
      "image/png": "[encoded data removed]",
      "text/plain": [
       "<matplotlib.figure.Figure at 0xdc97c50>"
      ]
     },
     "metadata": {},
     "output_type": "display_data"
    }
   ],
   "source": [
    "min_test_fun = 100\n",
    "for n_b1 in range(100):\n",
    "        b1 = np.random.normal(0,1,(1,n_items))\n",
    "        b2 = np.random.normal(0,1,(1,n_items))\n",
    "        \n",
    "        min_fun = 100\n",
    "        for n1 in [-2,-1,0,1,2]:\n",
    "            for n2 in [0,0.01,0.1,1]:\n",
    "                for w in [0.01]:\n",
    "                    a = np.random.normal(n1, n2, 2*uv.shape[1])\n",
    "                    min_t1,min_t2,cost = min_thete(uv,w,b1,b2,a)\n",
    "                    if cost < min_fun:\n",
    "                        t1 = min_t1\n",
    "                        t2 = min_t2\n",
    "                        min_fun = cost\n",
    "        \n",
    "        for i in range(10):\n",
    "            b1,b2 = min_fun_b(uv, t1, t2, b1, b2)\n",
    "            t1,t2 = min_fun_t(uv, t1, t2, b1, b2)\n",
    "        \n",
    "        test_p1 = 1.0/ (1.0 + np.exp(-(real_t1-real_b1))).reshape(uv.shape)\n",
    "        test_p2 = 1.0/ (1.0 + np.exp(-(real_t2-real_b2))).reshape(uv.shape)\n",
    "        test_fun = -(uv*(np.log(test_p1)+np.log(test_p2))+(1-uv)*np.log(1-test_p1*test_p2)).sum()/uv.shape[1]+w*((t1**2).sum())+w*((t2**2).sum())+w*((b1**2).sum())+w*((b2**2).sum())\n",
    "        if test_fun < min_test_fun:\n",
    "            min_test_fun = test_fun\n",
    "            min_test_t1 = t1\n",
    "            min_test_t2 = t2\n",
    "            min_test_b1 = b1\n",
    "            min_test_b2 = b2\n",
    "        print test_fun, (absm(b1,real_b1)+absm(b2,real_b2)+absm(t1,real_t1)+absm(t2,real_t2))/4\n",
    "        plt.scatter(test_fun, (absm(b1,real_b1)+absm(b2,real_b2)+absm(t1,real_t1)+absm(t2,real_t2))/4)  "
   ]
  },
  {
   "cell_type": "code",
   "execution_count": 204,
   "metadata": {
    "collapsed": false
   },
   "outputs": [
    {
     "data": {
      "text/plain": [
       "array([ 0.8518,  0.0439])"
      ]
     },
     "execution_count": 204,
     "metadata": {},
     "output_type": "execute_result"
    }
   ],
   "source": []
  },
  {
   "cell_type": "code",
   "execution_count": 205,
   "metadata": {
    "collapsed": false
   },
   "outputs": [
    {
     "data": {
      "text/plain": [
       "array([-2.3287,  0.775 ])"
      ]
     },
     "execution_count": 205,
     "metadata": {},
     "output_type": "execute_result"
    }
   ],
   "source": []
  },
  {
   "cell_type": "code",
   "execution_count": null,
   "metadata": {
    "collapsed": true
   },
   "outputs": [],
   "source": []
  }
 ],
 "metadata": {
  "kernelspec": {
   "display_name": "Python 2",
   "language": "python",
   "name": "python2"
  },
  "language_info": {
   "codemirror_mode": {
    "name": "ipython",
    "version": 2
   },
   "file_extension": ".py",
   "mimetype": "text/x-python",
   "name": "python",
   "nbconvert_exporter": "python",
   "pygments_lexer": "ipython2",
   "version": "2.7.13"
  }
 },
 "nbformat": 4,
 "nbformat_minor": 2
}
