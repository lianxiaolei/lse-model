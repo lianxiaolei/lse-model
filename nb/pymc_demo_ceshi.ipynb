{
 "cells": [
  {
   "cell_type": "code",
   "execution_count": null,
   "metadata": {
    "collapsed": true
   },
   "outputs": [],
   "source": [
    "from __future__ import division\n",
    "import os\n",
    "import sys\n",
    "import glob\n",
    "import matplotlib.pyplot as plt\n",
    "import numpy as np\n",
    "import pandas as pd\n",
    "%matplotlib inline\n",
    "%precision 4\n",
    "plt.style.use('ggplot')"
   ]
  },
  {
   "cell_type": "code",
   "execution_count": null,
   "metadata": {
    "collapsed": true
   },
   "outputs": [],
   "source": [
    "np.random.seed(1234)\n",
    "import pymc\n",
    "import scipy.stats as stats"
   ]
  },
  {
   "cell_type": "code",
   "execution_count": null,
   "metadata": {
    "collapsed": false
   },
   "outputs": [],
   "source": [
    "n = 100\n",
    "h = 61\n",
    "alpha = 2\n",
    "beta = 2\n",
    "\n",
    "p = pymc.Beta('p', alpha=alpha, beta=beta)\n",
    "y = pymc.Binomial('y', n=n, p=p, value=h, observed=True)\n",
    "m = pymc.Model([p, y])\n",
    "\n",
    "mc = pymc.MCMC(m, )\n",
    "mc.sample(iter=11000, burn=10000)\n",
    "plt.hist(p.trace(), 15, histtype='step', normed=True, label='post');\n",
    "x = np.linspace(0, 1, 100)\n",
    "plt.plot(x, stats.beta.pdf(x, alpha, beta), label='prior');\n",
    "plt.legend(loc='best');"
   ]
  },
  {
   "cell_type": "code",
   "execution_count": null,
   "metadata": {
    "collapsed": false
   },
   "outputs": [],
   "source": [
    "mc.stats()"
   ]
  },
  {
   "cell_type": "code",
   "execution_count": null,
   "metadata": {
    "collapsed": false
   },
   "outputs": [],
   "source": [
    "pymc.Matplot.plot(mc)"
   ]
  },
  {
   "cell_type": "code",
   "execution_count": null,
   "metadata": {
    "collapsed": false
   },
   "outputs": [],
   "source": [
    "n = 100\n",
    "h = 61\n",
    "alpha = 2\n",
    "beta = 20\n",
    "\n",
    "p = pymc.Beta('p', alpha=alpha, beta=beta)\n",
    "y = pymc.Binomial('y', n=n, p=p, value=h, observed=True)\n",
    "m = pymc.Model([p, y])\n",
    "\n",
    "mc = pymc.MCMC(m, )\n",
    "mc.sample(iter=11000, burn=10000)\n",
    "plt.hist(p.trace(), 15, histtype='step', normed=True, label='post');\n",
    "x = np.linspace(0, 1, 100)\n",
    "plt.plot(x, stats.beta.pdf(x, alpha, beta), label='prior');\n",
    "plt.legend(loc='best');"
   ]
  },
  {
   "cell_type": "code",
   "execution_count": null,
   "metadata": {
    "collapsed": false
   },
   "outputs": [],
   "source": [
    "mc.stats()"
   ]
  },
  {
   "cell_type": "code",
   "execution_count": null,
   "metadata": {
    "collapsed": false
   },
   "outputs": [],
   "source": [
    "n = 100\n",
    "h = 61\n",
    "alpha = 0.5\n",
    "beta = 0.5\n",
    "\n",
    "p = pymc.Beta('p', alpha=alpha, beta=beta)\n",
    "y = pymc.Binomial('y', n=n, p=p, value=h, observed=True)\n",
    "m = pymc.Model([p, y])\n",
    "\n",
    "mc = pymc.MCMC(m, )\n",
    "mc.sample(iter=11000, burn=10000)\n",
    "plt.hist(p.trace(), 15, histtype='step', normed=True, label='post');\n",
    "x = np.linspace(0, 1, 100)\n",
    "plt.plot(x, stats.beta.pdf(x, alpha, beta), label='prior');\n",
    "plt.legend(loc='best');"
   ]
  },
  {
   "cell_type": "code",
   "execution_count": null,
   "metadata": {
    "collapsed": false
   },
   "outputs": [],
   "source": [
    "mc.stats()"
   ]
  },
  {
   "cell_type": "code",
   "execution_count": null,
   "metadata": {
    "collapsed": false
   },
   "outputs": [],
   "source": [
    "p = pymc.TruncatedNormal('p', mu=0.2, tau=10, a=0, b=1)\n",
    "y = pymc.Binomial('y', n=n, p=p, value=h, observed=True)\n",
    "m = pymc.Model([p, y])\n",
    "mc = pymc.MCMC(m)\n",
    "mc.sample(iter=11000, burn=10000)\n",
    "plt.hist(p.trace(), 15, histtype='step', normed=True, label='post');\n",
    "a, b = plt.xlim()\n",
    "x = np.linspace(0, 1, 100)\n",
    "a, b = (0 - 0.2) / 0.1, (1 - 0.2) / 0.1\n",
    "plt.plot(x, stats.truncnorm.pdf(x, a, b, 0.2, 0.1), label='prior');\n",
    "plt.legend(loc='best');"
   ]
  },
  {
   "cell_type": "code",
   "execution_count": null,
   "metadata": {
    "collapsed": false
   },
   "outputs": [],
   "source": [
    "mc.stats()"
   ]
  },
  {
   "cell_type": "code",
   "execution_count": null,
   "metadata": {
    "collapsed": false
   },
   "outputs": [],
   "source": [
    "p = pymc.TruncatedNormal('p', mu=0.1, tau=10, a=0, b=1)\n",
    "y = pymc.Binomial('y', n=n, p=p, value=h, observed=True)\n",
    "m = pymc.Model([p, y])\n",
    "mc = pymc.MCMC(m)\n",
    "mc.sample(iter=11000, burn=10000)\n",
    "plt.hist(p.trace(), 15, histtype='step', normed=True, label='post');\n",
    "a, b = plt.xlim()\n",
    "x = np.linspace(0, 1, 100)\n",
    "a, b = (0 - 0.1) / 0.1, (1 - 0.1) / 0.1\n",
    "plt.plot(x, stats.truncnorm.pdf(x, a, b, 0.1, 0.1), label='prior');\n",
    "plt.legend(loc='best');"
   ]
  },
  {
   "cell_type": "code",
   "execution_count": null,
   "metadata": {
    "collapsed": false
   },
   "outputs": [],
   "source": [
    "mc.stats()"
   ]
  },
  {
   "cell_type": "code",
   "execution_count": null,
   "metadata": {
    "collapsed": false
   },
   "outputs": [],
   "source": [
    "# generate observed data\n",
    "N = 100\n",
    "y = np.random.normal(10, 2, N)\n",
    "\n",
    "# define priors\n",
    "mu = pymc.Uniform('mu', lower=0, upper=100)\n",
    "tau = pymc.Uniform('tau', lower=0, upper=1)\n",
    "\n",
    "# define likelihood\n",
    "y_obs = pymc.Normal('Y_obs', mu=mu, tau=tau, value=y, observed=True)\n",
    "\n",
    "# inference\n",
    "m = pymc.Model([mu, tau, y])\n",
    "mc = pymc.MCMC(m)\n",
    "mc.sample(iter=11000, burn=10000)\n",
    "\n",
    "plt.figure(figsize=(10,4))\n",
    "plt.subplot(121)\n",
    "plt.hist(mu.trace(), 15, histtype='step', normed=True, label='post');\n",
    "plt.legend(loc='best');\n",
    "plt.subplot(122)\n",
    "plt.hist(np.sqrt(1.0/tau.trace()), 15, histtype='step', normed=True, label='post');\n",
    "plt.legend(loc='best');"
   ]
  },
  {
   "cell_type": "code",
   "execution_count": null,
   "metadata": {
    "collapsed": false
   },
   "outputs": [],
   "source": [
    "# generate observed data\n",
    "N = 10000\n",
    "y = np.random.normal(20, 2, N)\n",
    "\n",
    "# define priors\n",
    "mu = pymc.Uniform('mu', lower=0, upper=100)\n",
    "tau = pymc.Uniform('tau', lower=0, upper=1)\n",
    "\n",
    "# define likelihood\n",
    "y_obs = pymc.Normal('Y_obs', mu=mu, tau=tau, value=y, observed=True)\n",
    "\n",
    "# inference\n",
    "m = pymc.Model([mu, tau, y])\n",
    "mc = pymc.MCMC(m)\n",
    "mc.sample(iter=11000, burn=10000)\n",
    "\n",
    "plt.figure(figsize=(10,4))\n",
    "plt.subplot(121)\n",
    "plt.hist(mu.trace(), 15, histtype='step', normed=True, label='post');\n",
    "plt.legend(loc='best');\n",
    "plt.subplot(122)\n",
    "plt.hist(np.sqrt(1.0/tau.trace()), 15, histtype='step', normed=True, label='post');\n",
    "plt.legend(loc='best');"
   ]
  },
  {
   "cell_type": "code",
   "execution_count": null,
   "metadata": {
    "collapsed": false
   },
   "outputs": [],
   "source": [
    "pymc.Matplot.plot(mc)"
   ]
  },
  {
   "cell_type": "code",
   "execution_count": null,
   "metadata": {
    "collapsed": true
   },
   "outputs": [],
   "source": [
    "@pymc.deterministic\n",
    "def mu(a=a, b=b, x=x):\n",
    "    return a*x*x + b"
   ]
  },
  {
   "cell_type": "code",
   "execution_count": null,
   "metadata": {
    "collapsed": false
   },
   "outputs": [],
   "source": [
    "# observed data\n",
    "n = 21\n",
    "a = 6\n",
    "b = 2\n",
    "sigma = 2\n",
    "x = np.linspace(0, 10, n)\n",
    "y_obs = a*x*x + b + np.random.normal(0, sigma, n)\n",
    "data = pd.DataFrame(np.array([x, y_obs]).T, columns=['x', 'y'])\n",
    "data.plot(x='x', y='y', kind='scatter', s=50);"
   ]
  },
  {
   "cell_type": "code",
   "execution_count": null,
   "metadata": {
    "collapsed": false
   },
   "outputs": [],
   "source": [
    "# define priors\n",
    "a = pymc.Normal('slope', mu=0, tau=1.0/10**2)\n",
    "b = pymc.Normal('intercept', mu=0, tau=1.0/10**2)\n",
    "tau = pymc.Gamma(\"tau\", alpha=0.1, beta=0.1)\n",
    "\n",
    "# define likelihood\n",
    "@pymc.deterministic\n",
    "def mu(a=a, b=b, x=x):\n",
    "    return a*x*x + b\n",
    "\n",
    "y = pymc.Normal('y', mu=mu, tau=tau, value=y_obs, observed=True)\n",
    "\n",
    "# inference\n",
    "m = pymc.Model([a, b, tau, x, y])\n",
    "mc = pymc.MCMC(m)\n",
    "mc.sample(iter=11000, burn=10000)\n",
    "abar = a.stats()['mean']\n",
    "bbar = b.stats()['mean']\n",
    "data.plot(x='x', y='y', kind='scatter', s=50);\n",
    "xp = np.array([x.min(), x.max()])\n",
    "plt.plot(x, abar*x*x + bbar, linewidth=2, c='red');"
   ]
  },
  {
   "cell_type": "code",
   "execution_count": null,
   "metadata": {
    "collapsed": false
   },
   "outputs": [],
   "source": [
    "mc.stats()"
   ]
  },
  {
   "cell_type": "code",
   "execution_count": null,
   "metadata": {
    "collapsed": false
   },
   "outputs": [],
   "source": [
    "pymc.Matplot.plot(mc)"
   ]
  },
  {
   "cell_type": "code",
   "execution_count": null,
   "metadata": {
    "collapsed": false
   },
   "outputs": [],
   "source": [
    "# define invlogit function\n",
    "def invlogit(x):\n",
    "    return pymc.exp(x) / (1 + pymc.exp(x))\n",
    "# observed data\n",
    "n = 5 * np.ones(4)\n",
    "x = np.array([-0.896, -0.296, -0.053, 0.727])\n",
    "y_obs = np.array([0, 1, 3, 5])\n",
    "\n",
    "# define priors\n",
    "alpha = pymc.Normal('alpha', mu=0, tau=1.0/5**2)\n",
    "beta = pymc.Normal('beta', mu=0, tau=1.0/10**2)\n",
    "\n",
    "# define likelihood\n",
    "p = pymc.InvLogit('p', alpha + beta*x)\n",
    "y = pymc.Binomial('y_obs', n=n, p=p, value=y_obs, observed=True)\n",
    "\n",
    "# inference\n",
    "m = pymc.Model([alpha, beta, y])\n",
    "mc = pymc.MCMC(m)\n",
    "mc.sample(iter=11000, burn=10000)\n"
   ]
  },
  {
   "cell_type": "code",
   "execution_count": null,
   "metadata": {
    "collapsed": false
   },
   "outputs": [],
   "source": [
    "?pymc.Binomial"
   ]
  },
  {
   "cell_type": "code",
   "execution_count": null,
   "metadata": {
    "collapsed": false
   },
   "outputs": [],
   "source": [
    "mc.stats()"
   ]
  },
  {
   "cell_type": "code",
   "execution_count": null,
   "metadata": {
    "collapsed": false
   },
   "outputs": [],
   "source": [
    "pymc.Matplot.plot(mc)"
   ]
  },
  {
   "cell_type": "code",
   "execution_count": null,
   "metadata": {
    "collapsed": false
   },
   "outputs": [],
   "source": [
    "xp = np.linspace(-1, 1, 100)\n",
    "a = alpha.stats()['mean']\n",
    "b = beta.stats()['mean']\n",
    "plt.plot(xp, invlogit(a + b*xp).value)\n",
    "plt.scatter(x, y_obs/5, s=50);\n",
    "plt.xlabel('Log does of drug')\n",
    "plt.ylabel('Risk of death');"
   ]
  },
  {
   "cell_type": "code",
   "execution_count": null,
   "metadata": {
    "collapsed": false
   },
   "outputs": [],
   "source": [
    "mc.stats()"
   ]
  },
  {
   "cell_type": "code",
   "execution_count": null,
   "metadata": {
    "collapsed": false
   },
   "outputs": [],
   "source": [
    "# define invlogit function\n",
    "def invlogit(x):\n",
    "    return pymc.exp(x) / (1 + pymc.exp(x))\n",
    "# observed data\n",
    "x = np.array([0.896, 0.296, 0.053, 0.727])\n",
    "y_obs = np.array([1, 0, 0, 1])\n",
    "\n",
    "# define priors\n",
    "alpha = pymc.Normal('alpha', mu=0, tau=1.0/5**2)\n",
    "beta = pymc.Normal('beta', mu=0, tau=1.0/10**2)\n",
    "# define likelihood\n",
    "p = pymc.InvLogit('p', alpha + beta*x)\n",
    "y = pymc.Bernoulli('y_obs',p=p, value=y_obs, observed=True)\n",
    "\n",
    "# inference\n",
    "m = pymc.Model([alpha, beta, y])\n",
    "mc = pymc.MCMC(m)\n",
    "mc.sample(iter=11000, burn=10000)\n",
    "xp = np.linspace(0, 1, 100)\n",
    "a = alpha.stats()['mean']\n",
    "b = beta.stats()['mean']\n",
    "plt.plot(xp, invlogit(a + b*xp).value)\n",
    "plt.scatter(x, y_obs, s=50);\n",
    "plt.xlabel('Log does of drug')\n",
    "plt.ylabel('Risk of death');"
   ]
  },
  {
   "cell_type": "code",
   "execution_count": null,
   "metadata": {
    "collapsed": false
   },
   "outputs": [],
   "source": [
    "c=0.25\n",
    "D=1.7\n",
    "n_items=100\n",
    "n_stu=100\n",
    "real_a = np.random.lognormal(0,0.2,(n_items,))\n",
    "real_b = np.random.normal(0,1,(1,n_items))\n",
    "real_theta = np.random.normal(0,1,(n_stu,1))\n",
    "uv=np.random.random((n_items,n_stu))<c + (1.0-c) / (1.0 + np.exp(-D*real_a*(real_theta-real_b)))\n",
    "mask=np.random.random(uv.shape)<0.7\n",
    "def absm(a,b):\n",
    "    return np.abs(a-b).mean()\n",
    "\n",
    "def uirt(uv,mask):\n",
    "    global c\n",
    "    global D\n",
    "    n_stu,n_items=uv.shape\n",
    "    \n",
    "    # 难度参数\n",
    "    b=pymc.Normal('b',mu=0,tau=1,value=np.zeros((1,n_items,)))\n",
    "    # 能力参数\n",
    "    theta=pymc.Normal('theta',mu=0,tau=1,value=np.zeros((n_stu,1)))\n",
    "    # 区分度参数\n",
    "    a=pymc.Lognormal('a',mu=0,tau=25,value=np.ones((n_items,)))\n",
    "    \n",
    "    \n",
    "\n",
    "    @pymc.deterministic\n",
    "    def sigmoid(theta=theta,b=b,a=a): \n",
    "        global c\n",
    "        global D\n",
    "        return c + (1.0-c) / (1.0 + np.exp(-D*a*(theta-b)))\n",
    "    # 答题矩阵\n",
    "    u=pymc.Bernoulli('u', p=sigmoid, value=uv, observed=True)\n",
    "    \n",
    "    params=[a,b,theta,sigmoid]\n",
    "    \n",
    "    if mask is None:\n",
    "        params.append(u)\n",
    "    else:        \n",
    "        @pymc.stochastic(dtype=np.bool,observed=True)\n",
    "        def uv_miss(value=uv, mask=mask,p=sigmoid):\n",
    "            \"\"\"answer matrix\"\"\"\n",
    "\n",
    "            def logp(value, mask,p):\n",
    "                lh=-value*np.log(p)-(1-value)*np.log(1-p)\n",
    "                return (lh*mask).sum()\n",
    "\n",
    "\n",
    "            def random(mask,p):\n",
    "                return np.random.random(mask.shape)<p\n",
    "        params.append(u)        \n",
    "\n",
    "    m=pymc.MCMC(params)\n",
    "    m.sample(100000,40000,12)\n",
    "    \n",
    "    \n",
    "    ea=a.stats()['mean']\n",
    "    eb=b.stats()['mean']\n",
    "    et=theta.stats()['mean']\n",
    "    mc.stats()\n",
    "    print absm(ea.reshape(real_a.shape),real_a),absm(eb.reshape(real_b.shape),real_b),absm(et.reshape(real_theta.shape),real_theta)\n",
    "    return ea,eb,et,\n",
    "uirt(uv,mask)"
   ]
  },
  {
   "cell_type": "code",
   "execution_count": null,
   "metadata": {
    "collapsed": true
   },
   "outputs": [],
   "source": []
  }
 ],
 "metadata": {
  "kernelspec": {
   "display_name": "Python 2",
   "language": "python",
   "name": "python2"
  },
  "language_info": {
   "codemirror_mode": {
    "name": "ipython",
    "version": 2
   },
   "file_extension": ".py",
   "mimetype": "text/x-python",
   "name": "python",
   "nbconvert_exporter": "python",
   "pygments_lexer": "ipython2",
   "version": "2.7.13"
  }
 },
 "nbformat": 4,
 "nbformat_minor": 2
}
