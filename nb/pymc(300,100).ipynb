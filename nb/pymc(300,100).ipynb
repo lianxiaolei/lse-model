{
 "cells": [
  {
   "cell_type": "markdown",
   "metadata": {},
   "source": [
    "400学生100题情况下，最佳w值使误差最小。使用pymc所求难度b。"
   ]
  },
  {
   "cell_type": "code",
   "execution_count": 2,
   "metadata": {},
   "outputs": [],
   "source": [
    "from __future__ import division\n",
    "import os\n",
    "import sys\n",
    "import glob\n",
    "import matplotlib.pyplot as plt\n",
    "import numpy as np\n",
    "import pandas as pd\n",
    "%matplotlib inline\n",
    "%precision 4\n",
    "plt.style.use('ggplot')\n",
    "np.random.seed(1234)\n",
    "import pymc\n",
    "import scipy.stats as stats\n",
    "from scipy.optimize import minimize, rosen, rosen_der"
   ]
  },
  {
   "cell_type": "code",
   "execution_count": null,
   "metadata": {},
   "outputs": [
    {
     "name": "stdout",
     "output_type": "stream",
     "text": [
      " [------------     33%                  ] 33480 of 100000 complete in 350.5 sec"
     ]
    }
   ],
   "source": [
    "n_items = 400\n",
    "n_stu = 100\n",
    "real_b1 = np.random.normal(0, 1, (1, n_items))\n",
    "real_theta1 = np.random.normal(0, 1, (n_stu, 1))\n",
    "real_b2 = np.random.normal(0, 1, (1, n_items))\n",
    "real_theta2 = np.random.normal(0, 1, (n_stu, 1))\n",
    "uv = np.random.random((n_stu, n_items)) < 1.0 / (1.0 + np.exp(-(real_theta1 - real_b1))) / (\n",
    "1.0 + np.exp(-(real_theta2 - real_b2)))\n",
    "mask = np.random.random(uv.shape) < 0.7\n",
    "def absm(a, b):\n",
    "    return np.abs(a - b).mean()\n",
    "\n",
    "def uirt(uv, mask):\n",
    "    n_stu, n_items = uv.shape\n",
    "    # 难度参数\n",
    "    b1 = pymc.Normal('b1', mu=0, tau=1, value=np.zeros((1, n_items,)))\n",
    "    # 能力参数\n",
    "    theta1 = pymc.Normal('theta1', mu=0, tau=1, value=np.zeros((n_stu, 1)))\n",
    "    # 难度参数\n",
    "    b2 = pymc.Normal('b2', mu=0, tau=1, value=np.zeros((1, n_items,)))\n",
    "    # 能力参数\n",
    "    theta2 = pymc.Normal('theta2', mu=0, tau=1, value=np.zeros((n_stu, 1)))\n",
    "    @pymc.deterministic\n",
    "    def sigmoid(theta1=theta1, b1=b1, theta2=theta2, b2=b2):\n",
    "        return 1.0 / (1.0 + np.exp(-(theta1 - b1))) / (1.0 + np.exp(-(theta2 - b2)))\n",
    "    # 答题矩阵\n",
    "    u = pymc.Bernoulli('u', p=sigmoid, value=uv, observed=True)\n",
    "    params = [b1, theta1, b2, theta2, sigmoid]\n",
    "    params.append(u)\n",
    "    m = pymc.MCMC(params)\n",
    "    # 似然函数\n",
    "    #     print u.logp\n",
    "    m.sample(100000, 40000, 12)\n",
    "    #     print u.logp\n",
    "    eb1 = np.array([b1.stats()['mean']])\n",
    "    et1 = np.array([theta1.stats()['mean']]).T\n",
    "    eb2 = np.array([b2.stats()['mean']])\n",
    "    et2 = np.array([theta2.stats()['mean']]).T\n",
    "    m.stats()\n",
    "    # 误差\n",
    "    print absm(eb1.reshape(real_b1.shape), real_b1), absm(et1.reshape(real_theta1.shape), real_theta1)\n",
    "    print absm(eb2.reshape(real_b2.shape), real_b2), absm(et2.reshape(real_theta2.shape), real_theta2)\n",
    "    return eb1, et1, eb2, et2\n",
    "eb1, et1, eb2, et2 = uirt(uv, mask)\n",
    "k = 0.5\n",
    "uv_test = np.ones((n_stu, n_items)) * k < 1.0 / (1.0 + np.exp(-(et1 - eb1))) / (1.0 + np.exp(-(et2 - eb2)))\n",
    "result = uv_test == uv\n",
    "# 正确率\n",
    "print result.sum() / n_items / n_stu\n"
   ]
  },
  {
   "cell_type": "code",
   "execution_count": null,
   "metadata": {},
   "outputs": [],
   "source": [
    "b0 = np.array([ee for ee in eb1.flat])\n",
    "b1 = np.array([ee for ee in eb2.flat])\n",
    "bnds = ((-3, 3), (-3, 3))\n",
    "for w in [ii/100. for ii in range(100)]:\n",
    "    r_fun = 0\n",
    "    su = 0\n",
    "    ab1 = []\n",
    "    ab2 = []\n",
    "    theta_min1 = []\n",
    "    theta_min2 = []\n",
    "    for i in range(n_stu):\n",
    "        y = np.array([ee for ee in uv[i].flat])\n",
    "        fun = lambda x: sum(np.log(1+ np.exp(-(x[0]-b0)))+np.log(1+ np.exp(-(x[1]-b1)))-(1-y)*np.log((1+ np.exp(-(x[0]-b0)))*(1+ np.exp(-(x[1]-b1)))-1))/n_items+w*(x[0]**2+x[1]**2)\n",
    "        res = minimize(fun, (et1[i][0],et2[i][0]), bounds=bnds,method='L-BFGS-B')\n",
    "        r_fun += res.fun \n",
    "        # 存储t\n",
    "        theta_min1.append(res.x[0])\n",
    "        theta_min2.append(res.x[1])\n",
    "        # 存储t的差值\n",
    "        ab1.append(real_theta1[i][0]-res.x[0])\n",
    "        ab2.append(real_theta2[i][0]-res.x[1])\n",
    "        result = k<1.0/ (1.0 + np.exp(-(res.x[0]-b0)))/ (1.0 + np.exp(-(res.x[1]-b1)))\n",
    "        su += sum(result==y)\n",
    "#     print w,su*1./n_items/n_stu,sum([abs(aa) for aa in ab1])*1./n_stu+sum([abs(aa) for aa in ab2])/n_stu,sum([abs(aa) for aa in ab1])*1./n_stu,sum([abs(aa) for aa in ab2])/n_stu,r_fun"
   ]
  },
  {
   "cell_type": "code",
   "execution_count": null,
   "metadata": {
    "collapsed": true
   },
   "outputs": [],
   "source": []
  }
 ],
 "metadata": {
  "kernelspec": {
   "display_name": "Python 2",
   "language": "python",
   "name": "python2"
  },
  "language_info": {
   "codemirror_mode": {
    "name": "ipython",
    "version": 2
   },
   "file_extension": ".py",
   "mimetype": "text/x-python",
   "name": "python",
   "nbconvert_exporter": "python",
   "pygments_lexer": "ipython2",
   "version": "2.7.13"
  }
 },
 "nbformat": 4,
 "nbformat_minor": 2
}
