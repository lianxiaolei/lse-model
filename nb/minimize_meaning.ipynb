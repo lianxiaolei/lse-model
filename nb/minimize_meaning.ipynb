{
 "cells": [
  {
   "cell_type": "markdown",
   "metadata": {},
   "source": [
    "检验minimize结果稳定性及是否符合实际意义：能力越大，得分越大"
   ]
  },
  {
   "cell_type": "code",
   "execution_count": 1,
   "metadata": {
    "collapsed": true
   },
   "outputs": [],
   "source": [
    "from __future__ import division\n",
    "import os\n",
    "import sys\n",
    "import glob\n",
    "import matplotlib.pyplot as plt\n",
    "import numpy as np\n",
    "import pandas as pd\n",
    "%matplotlib inline\n",
    "%precision 4\n",
    "plt.style.use('ggplot')\n",
    "np.random.seed(1234)\n",
    "import pymc\n",
    "import scipy.stats as stats\n",
    "from scipy.optimize import minimize, rosen, rosen_der"
   ]
  },
  {
   "cell_type": "code",
   "execution_count": 298,
   "metadata": {
    "collapsed": true
   },
   "outputs": [],
   "source": [
    "def min_thete_b(y,w,a):\n",
    "    start1 = y.shape[0]\n",
    "    start2 = y.shape[0]*2\n",
    "    start3 = y.shape[0]*2+y.shape[1]\n",
    "    bnds = ((-3, 3), (-3, 3))*(sum(y.shape))\n",
    "    def f(x):\n",
    "        t1 = np.array(x[:start1]).reshape(y.shape[0],1)\n",
    "        b1 = np.array([x[start2:start3]])\n",
    "        t2 = np.array(x[start1:start2]).reshape(y.shape[0],1)\n",
    "        b2 = np.array([x[start3:]])\n",
    "        p1 = (1./(1+ np.exp(-(t1-b1)))).reshape(y.shape)\n",
    "        p2 = (1./(1+ np.exp(-(t2-b2)))).reshape(y.shape)\n",
    "        f1 = -(y*(np.log(p1)+np.log(p2))+(1-y)*np.log(1-p1*p2)).sum()/y.shape[1]+w*((np.array([x])**2).sum())\n",
    "        ft1 = -((y-p1*p2)*(1-p1)/(1-p1*p2)).sum(axis=1)/y.shape[1]+2*w*np.array(x[:start1])\n",
    "        ft2 = -((y-p1*p2)*(1-p2)/(1-p1*p2)).sum(axis=1)/y.shape[1]+2*w*np.array(x[start1:start2])\n",
    "        fb1 = ((y-p1*p2)*(1-p1)/(1-p1*p2)).sum(axis=0)/y.shape[1]+2*w*np.array(x[start2:start3])\n",
    "        fb2 = ((y-p1*p2)*(1-p2)/(1-p1*p2)).sum(axis=0)/y.shape[1]+2*w*np.array(x[start3:])\n",
    "        \n",
    "        f2 = np.concatenate((ft1,ft2,fb1,fb2))\n",
    "        return f1,f2\n",
    "    res = minimize(f, a, bounds=bnds, method='L-BFGS-B',jac=True,options={\"disp\":True,\"gtol\":1e-40,\"ftol\":1e-40})\n",
    "    min_t1 = np.array(res.x[:start1]).reshape(y.shape[0],1)\n",
    "    min_b1 = np.array([res.x[start2:start3]])\n",
    "    min_t2 = np.array(res.x[start1:start2]).reshape(y.shape[0],1)\n",
    "    min_b2 = np.array([res.x[start3:]])\n",
    "    return min_t1,min_t2,min_b1,min_b2,res.fun "
   ]
  },
  {
   "cell_type": "code",
   "execution_count": 25,
   "metadata": {
    "collapsed": true
   },
   "outputs": [],
   "source": [
    "def absm(a,b):\n",
    "    return np.abs(a-b).mean()"
   ]
  },
  {
   "cell_type": "code",
   "execution_count": 485,
   "metadata": {
    "collapsed": true
   },
   "outputs": [],
   "source": [
    "n_items=10\n",
    "n_stu=100\n",
    "real_b1 = np.random.normal(0,1,(1,n_items))\n",
    "real_t1 = np.random.normal(0,1,(n_stu,1))\n",
    "real_b2 = np.random.normal(0,1,(1,n_items))\n",
    "real_t2 = np.random.normal(0,1,(n_stu,1))\n",
    "real_p1 = 1.0/ (1.0 + np.exp(-(real_t1-real_b1))).reshape(n_stu,n_items)\n",
    "real_p2 = 1.0/ (1.0 + np.exp(-(real_t2-real_b2))).reshape(n_stu,n_items)\n",
    "real_p = real_p1*real_p2\n",
    "uv=np.random.random((n_stu,n_items))<real_p1*real_p2\n",
    "w = 0.01"
   ]
  },
  {
   "cell_type": "code",
   "execution_count": 462,
   "metadata": {
    "collapsed": false
   },
   "outputs": [],
   "source": [
    "min_t1 = []\n",
    "min_t2 = []\n",
    "min_b1 = []\n",
    "min_b2 = []\n",
    "for i in range(100):\n",
    "    a1 = np.random.normal(0, 1, 2*sum(uv.shape))\n",
    "    min_t11,min_t21,min_b11,min_b21,cost1 = min_thete_b(uv,w,a1)\n",
    "    min_t1.append(min_t11)\n",
    "    min_t2.append(min_t12)\n",
    "    min_b1.append(min_b11)\n",
    "    min_b2.append(min_b12)"
   ]
  },
  {
   "cell_type": "code",
   "execution_count": 463,
   "metadata": {
    "collapsed": false
   },
   "outputs": [
    {
     "name": "stdout",
     "output_type": "stream",
     "text": [
      "1.05525238546e-06\n"
     ]
    }
   ],
   "source": [
    "result = []\n",
    "for i in range(100):\n",
    "    for j in range(i+1, 100):\n",
    "        result.append((absm(min_t1[i],min_t1[j])+absm(min_t2[i],min_t2[j])+absm(min_b1[i],min_b1[j])+absm(min_b2[i],min_b2[j]))/4)\n",
    "print max(result)"
   ]
  },
  {
   "cell_type": "markdown",
   "metadata": {},
   "source": [
    "140-3.21648715148e-07,136-e-06,135-0.04,130-0.04,120-0.115,110-0.172,100-0.19,90-0.229,80-0.268,70-0.347 建议题目数量不小于100，稳定性比较好。"
   ]
  },
  {
   "cell_type": "code",
   "execution_count": 409,
   "metadata": {
    "collapsed": false
   },
   "outputs": [
    {
     "name": "stdout",
     "output_type": "stream",
     "text": [
      "0.582702326415\n",
      "0.523655900037\n",
      "0.523655919931\n",
      "0.582702336401\n",
      "0.523655961347\n",
      "0.582702313784\n",
      "0.582702322179\n",
      "0.582702321909\n",
      "0.582702311296\n",
      "0.582702278475\n"
     ]
    }
   ],
   "source": [
    "for i in range(10):\n",
    "    a1 = np.random.normal(0, 1, 2*sum(uv.shape))\n",
    "    min_t11,min_t21,min_b11,min_b21,cost1 = min_thete_b(uv,w,a1)\n",
    "    print (absm(min_t11,real_t1)+absm(min_t21,real_t2)+absm(min_b11,real_b1)+absm(min_b21,real_b2))/4"
   ]
  },
  {
   "cell_type": "code",
   "execution_count": 410,
   "metadata": {
    "collapsed": false
   },
   "outputs": [
    {
     "name": "stdout",
     "output_type": "stream",
     "text": [
      "0.58270229149\n",
      "0.582702351212\n",
      "0.523655892372\n",
      "0.523655941444\n",
      "0.582702343063\n",
      "0.523655949007\n",
      "0.58270235147\n",
      "0.523655983997\n",
      "0.582702377545\n",
      "0.582702363503\n"
     ]
    }
   ],
   "source": [
    "for i in range(10):\n",
    "    a2 = np.random.uniform(-3, 3, 2*sum(uv.shape))\n",
    "    min_t12,min_t22,min_b12,min_b22,cost2 = min_thete_b(uv,w,a2)\n",
    "    print (absm(min_t12,real_t1)+absm(min_t22,real_t2)+absm(min_b12,real_b1)+absm(min_b22,real_b2))/4"
   ]
  },
  {
   "cell_type": "code",
   "execution_count": 411,
   "metadata": {
    "collapsed": false
   },
   "outputs": [
    {
     "name": "stdout",
     "output_type": "stream",
     "text": [
      "0.523655936811\n",
      "0.582702367992\n",
      "0.523655926497\n",
      "0.523655931463\n",
      "0.523655942541\n",
      "0.523655891241\n",
      "0.523655926251\n",
      "0.523655921062\n",
      "0.582702338157\n",
      "0.582702283561\n"
     ]
    }
   ],
   "source": [
    "for i in range(10):\n",
    "    a3 = np.random.normal(1, 0.1, 2*sum(uv.shape))\n",
    "    min_t13,min_t23,min_b13,min_b23,cost3 = min_thete_b(uv,w,a3)\n",
    "    print (absm(min_t13,real_t1)+absm(min_t23,real_t2)+absm(min_b13,real_b1)+absm(min_b23,real_b2))/4"
   ]
  },
  {
   "cell_type": "code",
   "execution_count": 412,
   "metadata": {
    "collapsed": false
   },
   "outputs": [
    {
     "data": {
      "text/plain": [
       "0.0000"
      ]
     },
     "execution_count": 412,
     "metadata": {},
     "output_type": "execute_result"
    }
   ],
   "source": [
    "(absm(min_t11,min_t12)+absm(min_t21,min_t22)+absm(min_b11,min_b12)+absm(min_b21,min_b22))/4"
   ]
  },
  {
   "cell_type": "code",
   "execution_count": 413,
   "metadata": {
    "collapsed": false
   },
   "outputs": [
    {
     "data": {
      "text/plain": [
       "0.0000"
      ]
     },
     "execution_count": 413,
     "metadata": {},
     "output_type": "execute_result"
    }
   ],
   "source": [
    "(absm(min_t11,min_t13)+absm(min_t21,min_t23)+absm(min_b11,min_b13)+absm(min_b21,min_b23))/4"
   ]
  },
  {
   "cell_type": "code",
   "execution_count": 414,
   "metadata": {
    "collapsed": false
   },
   "outputs": [
    {
     "data": {
      "text/plain": [
       "0.0000"
      ]
     },
     "execution_count": 414,
     "metadata": {},
     "output_type": "execute_result"
    }
   ],
   "source": [
    "(absm(min_t12,min_t13)+absm(min_t22,min_t23)+absm(min_b12,min_b13)+absm(min_b22,min_b23))/4"
   ]
  },
  {
   "cell_type": "markdown",
   "metadata": {},
   "source": [
    "稳定性良好"
   ]
  },
  {
   "cell_type": "code",
   "execution_count": 486,
   "metadata": {
    "collapsed": false
   },
   "outputs": [],
   "source": [
    "# abilitys = np.sqrt((real_t1+3)**2+(real_t2+3)**2)\n",
    "# difficultys = np.sqrt((real_b1+3)**2+(real_b2+3)**2)\n",
    "abilitys = ((real_t1+3)+(real_t2+3))/2\n",
    "difficultys = ((real_b1+3)+(real_b2+3))/2"
   ]
  },
  {
   "cell_type": "code",
   "execution_count": 487,
   "metadata": {
    "collapsed": false
   },
   "outputs": [],
   "source": [
    "score = (uv * difficultys).sum(axis = 1)"
   ]
  },
  {
   "cell_type": "code",
   "execution_count": 488,
   "metadata": {
    "collapsed": false
   },
   "outputs": [
    {
     "data": {
      "text/plain": [
       "<matplotlib.collections.PathCollection at 0x21780e80>"
      ]
     },
     "execution_count": 488,
     "metadata": {},
     "output_type": "execute_result"
    },
    {
     "data": {
      "image/png": "[encoded data removed]",
      "text/plain": [
       "<matplotlib.figure.Figure at 0x21b51940>"
      ]
     },
     "metadata": {},
     "output_type": "display_data"
    }
   ],
   "source": [
    "plt.scatter(abilitys.flat,score.flat)"
   ]
  },
  {
   "cell_type": "code",
   "execution_count": 489,
   "metadata": {
    "collapsed": false
   },
   "outputs": [],
   "source": [
    "a1 = np.random.normal(0, 1, 2*sum(uv.shape))\n",
    "min_t1,min_t2,min_b1,min_b2,cost1 = min_thete_b(uv,w,a1)"
   ]
  },
  {
   "cell_type": "code",
   "execution_count": 490,
   "metadata": {
    "collapsed": false
   },
   "outputs": [
    {
     "data": {
      "text/plain": [
       "<matplotlib.collections.PathCollection at 0x23b10a58>"
      ]
     },
     "execution_count": 490,
     "metadata": {},
     "output_type": "execute_result"
    },
    {
     "data": {
      "image/png": "[encoded data removed]",
      "text/plain": [
       "<matplotlib.figure.Figure at 0x21c97710>"
      ]
     },
     "metadata": {},
     "output_type": "display_data"
    }
   ],
   "source": [
    "# min_abilitys = np.sqrt((min_t1+3)**2+(min_t2+3)**2)\n",
    "# min_difficultys = np.sqrt((min_b1+3)**2+(min_b2+3)**2)\n",
    "min_abilitys = ((min_t1+3)+(min_t2+3))/2\n",
    "min_difficultys = ((min_b1+3)+(min_b2+3))/2\n",
    "min_score = (uv * min_difficultys).sum(axis = 1)\n",
    "plt.scatter(min_abilitys.flat,min_score.flat)"
   ]
  },
  {
   "cell_type": "code",
   "execution_count": 491,
   "metadata": {
    "collapsed": false
   },
   "outputs": [
    {
     "data": {
      "text/plain": [
       "0.9637"
      ]
     },
     "execution_count": 491,
     "metadata": {},
     "output_type": "execute_result"
    }
   ],
   "source": [
    "a = np.cov(np.array([min_abilitys.reshape(-1),min_score.reshape(-1)]))\n",
    "import math\n",
    "a[0][1]/math.sqrt(a[0][0])/math.sqrt(a[1][1])"
   ]
  },
  {
   "cell_type": "code",
   "execution_count": 495,
   "metadata": {
    "collapsed": false
   },
   "outputs": [
    {
     "data": {
      "text/plain": [
       "0.0000"
      ]
     },
     "execution_count": 495,
     "metadata": {},
     "output_type": "execute_result"
    }
   ],
   "source": [
    "np.dot(uv,min_difficultys.reshape(-1,1))"
   ]
  },
  {
   "cell_type": "code",
   "execution_count": 493,
   "metadata": {
    "collapsed": false
   },
   "outputs": [
    {
     "data": {
      "text/plain": [
       "(100L,)"
      ]
     },
     "execution_count": 493,
     "metadata": {},
     "output_type": "execute_result"
    }
   ],
   "source": [
    "min_score.shape"
   ]
  },
  {
   "cell_type": "code",
   "execution_count": 475,
   "metadata": {
    "collapsed": false
   },
   "outputs": [
    {
     "data": {
      "text/plain": [
       "array([1, 3])"
      ]
     },
     "execution_count": 475,
     "metadata": {},
     "output_type": "execute_result"
    }
   ],
   "source": [
    "a.reshape(-1)"
   ]
  },
  {
   "cell_type": "code",
   "execution_count": 345,
   "metadata": {
    "collapsed": false
   },
   "outputs": [
    {
     "data": {
      "text/plain": [
       "1.3682"
      ]
     },
     "execution_count": 345,
     "metadata": {},
     "output_type": "execute_result"
    }
   ],
   "source": [
    "(absm(real_t1,min_t1)+absm(real_t2,min_t2)+absm(real_b1,min_b1)+absm(real_b2,min_b2))/4"
   ]
  },
  {
   "cell_type": "code",
   "execution_count": 346,
   "metadata": {
    "collapsed": false
   },
   "outputs": [
    {
     "data": {
      "text/plain": [
       "0.5202"
      ]
     },
     "execution_count": 346,
     "metadata": {},
     "output_type": "execute_result"
    }
   ],
   "source": [
    "absm(abilitys,min_abilitys)"
   ]
  },
  {
   "cell_type": "code",
   "execution_count": 347,
   "metadata": {
    "collapsed": false
   },
   "outputs": [
    {
     "data": {
      "text/plain": [
       "0.4930"
      ]
     },
     "execution_count": 347,
     "metadata": {},
     "output_type": "execute_result"
    }
   ],
   "source": [
    "absm(difficultys,min_difficultys)"
   ]
  },
  {
   "cell_type": "code",
   "execution_count": 348,
   "metadata": {
    "collapsed": false
   },
   "outputs": [
    {
     "data": {
      "text/plain": [
       "0.9044"
      ]
     },
     "execution_count": 348,
     "metadata": {},
     "output_type": "execute_result"
    }
   ],
   "source": [
    "absm(score,min_score)"
   ]
  },
  {
   "cell_type": "code",
   "execution_count": 320,
   "metadata": {
    "collapsed": false
   },
   "outputs": [
    {
     "data": {
      "text/plain": [
       "(array([  8.,  18.,  18.,  16.,  17.,  12.,   4.,   4.,   2.,   1.]),\n",
       " array([   88.8442,   266.5747,   444.3052,   622.0357,   799.7661,\n",
       "          977.4966,  1155.2271,  1332.9576,  1510.6881,  1688.4186,\n",
       "         1866.1491]),\n",
       " <a list of 10 Patch objects>)"
      ]
     },
     "execution_count": 320,
     "metadata": {},
     "output_type": "execute_result"
    },
    {
     "data": {
      "image/png": "[encoded data removed]",
      "text/plain": [
       "<matplotlib.figure.Figure at 0x22a14358>"
      ]
     },
     "metadata": {},
     "output_type": "display_data"
    }
   ],
   "source": [
    "plt.hist(min_score.flat)"
   ]
  },
  {
   "cell_type": "code",
   "execution_count": 321,
   "metadata": {
    "collapsed": false
   },
   "outputs": [
    {
     "data": {
      "text/plain": [
       "(array([ 10.,  17.,  19.,  17.,  16.,  11.,   4.,   3.,   2.,   1.]),\n",
       " array([   72.1738,   241.5362,   410.8987,   580.2611,   749.6236,\n",
       "          918.986 ,  1088.3485,  1257.711 ,  1427.0734,  1596.4359,\n",
       "         1765.7983]),\n",
       " <a list of 10 Patch objects>)"
      ]
     },
     "execution_count": 321,
     "metadata": {},
     "output_type": "execute_result"
    },
    {
     "data": {
      "image/png": "[encoded data removed]",
      "text/plain": [
       "<matplotlib.figure.Figure at 0x22ea9198>"
      ]
     },
     "metadata": {},
     "output_type": "display_data"
    }
   ],
   "source": [
    "plt.hist(score.flat)"
   ]
  },
  {
   "cell_type": "code",
   "execution_count": 322,
   "metadata": {
    "collapsed": false
   },
   "outputs": [
    {
     "data": {
      "text/plain": [
       "(array([  1.,   4.,  12.,  19.,  28.,  14.,  14.,   3.,   3.,   2.]),\n",
       " array([-0.6259, -0.5017, -0.3775, -0.2534, -0.1292, -0.005 ,  0.1192,\n",
       "         0.2434,  0.3676,  0.4918,  0.6159]),\n",
       " <a list of 10 Patch objects>)"
      ]
     },
     "execution_count": 322,
     "metadata": {},
     "output_type": "execute_result"
    },
    {
     "data": {
      "image/png": "[encoded data removed]",
      "text/plain": [
       "<matplotlib.figure.Figure at 0x231615c0>"
      ]
     },
     "metadata": {},
     "output_type": "display_data"
    }
   ],
   "source": [
    "plt.hist((min_abilitys-abilitys).flat)"
   ]
  },
  {
   "cell_type": "code",
   "execution_count": 244,
   "metadata": {
    "collapsed": false
   },
   "outputs": [
    {
     "data": {
      "text/plain": [
       "(array([  2.,   2.,   7.,  15.,  21.,  24.,  18.,   7.,   3.,   1.]),\n",
       " array([-0.7525, -0.5914, -0.4303, -0.2691, -0.108 ,  0.0532,  0.2143,\n",
       "         0.3754,  0.5366,  0.6977,  0.8588]),\n",
       " <a list of 10 Patch objects>)"
      ]
     },
     "execution_count": 244,
     "metadata": {},
     "output_type": "execute_result"
    },
    {
     "data": {
      "image/png": "[encoded data removed]",
      "text/plain": [
       "<matplotlib.figure.Figure at 0x1b458320>"
      ]
     },
     "metadata": {},
     "output_type": "display_data"
    }
   ],
   "source": [
    "plt.hist((min_difficultys-difficultys).flat)"
   ]
  },
  {
   "cell_type": "code",
   "execution_count": 245,
   "metadata": {
    "collapsed": false
   },
   "outputs": [
    {
     "data": {
      "text/plain": [
       "array([[[ 0.3668,  0.3233,  0.46  , -0.2653, -0.7525,  0.396 , -0.071 ,\n",
       "          0.0762, -0.1334,  0.2009,  0.5764,  0.1111, -0.3329, -0.0859,\n",
       "          0.0475, -0.1833,  0.4087,  0.1019,  0.1334, -0.0935,  0.4048,\n",
       "         -0.3848,  0.0247,  0.0943, -0.0915,  0.0677, -0.3329, -0.3125,\n",
       "          0.1919,  0.1443,  0.0091,  0.0231, -0.3787,  0.123 ,  0.3411,\n",
       "         -0.1257, -0.1941, -0.1235,  0.2116,  0.3122,  0.1928,  0.1063,\n",
       "          0.1728,  0.1408,  0.0368,  0.4532,  0.6651, -0.1969,  0.0051,\n",
       "         -0.2489, -0.0756,  0.5157, -0.4762,  0.2948, -0.1679,  0.2224,\n",
       "         -0.1025,  0.0766,  0.2932, -0.1106, -0.1361, -0.0353,  0.3397,\n",
       "         -0.4779,  0.8588,  0.2495,  0.3612, -0.0202,  0.3027,  0.287 ,\n",
       "          0.3052,  0.204 ,  0.2991,  0.1795,  0.0436, -0.0702,  0.4396,\n",
       "         -0.0532, -0.2002,  0.0965,  0.6827,  0.2553, -0.3488, -0.2278,\n",
       "          0.1237, -0.0844,  0.0222,  0.2569, -0.125 , -0.1326,  0.0088,\n",
       "          0.3732,  0.1902,  0.1681,  0.1021, -0.0222, -0.6655,  0.2601,\n",
       "         -0.3739,  0.2042]]])"
      ]
     },
     "execution_count": 245,
     "metadata": {},
     "output_type": "execute_result"
    }
   ],
   "source": [
    "min_difficultys-difficultys"
   ]
  },
  {
   "cell_type": "code",
   "execution_count": 246,
   "metadata": {
    "collapsed": false
   },
   "outputs": [
    {
     "data": {
      "text/plain": [
       "(array([  1.,   7.,   8.,   5.,  14.,  14.,  15.,  14.,  12.,  10.]),\n",
       " array([-107.2897,  -88.3783,  -69.4669,  -50.5555,  -31.6442,  -12.7328,\n",
       "           6.1786,   25.09  ,   44.0014,   62.9127,   81.8241]),\n",
       " <a list of 10 Patch objects>)"
      ]
     },
     "execution_count": 246,
     "metadata": {},
     "output_type": "execute_result"
    },
    {
     "data": {
      "image/png": "[encoded data removed]",
      "text/plain": [
       "<matplotlib.figure.Figure at 0x1b60f9e8>"
      ]
     },
     "metadata": {},
     "output_type": "display_data"
    }
   ],
   "source": [
    "plt.hist((min_score-score).flat)"
   ]
  },
  {
   "cell_type": "code",
   "execution_count": 247,
   "metadata": {
    "collapsed": false
   },
   "outputs": [
    {
     "data": {
      "text/plain": [
       "array([[  14.3078,   37.7282,   14.8053,  -82.5381,  -48.4768,   19.0199,\n",
       "          51.9752,   81.1905,   -8.7524,   39.5392,   71.2237,    5.7806,\n",
       "          10.9202,   -4.1515,  -15.2215,   19.1273,   10.9282,   45.6943,\n",
       "         -62.6379,  -42.1353,  -54.2259,  -79.183 ,   29.9004,   11.7062,\n",
       "          -3.2288,   36.1109,   37.2075, -107.2897,   65.0739,   66.3577,\n",
       "          23.1897,  -22.0896,  -23.68  ,   69.2916,   80.9914,  -44.1789,\n",
       "         -61.1208,  -49.9355,   -6.683 ,   73.1097,  -72.9068,   38.3293,\n",
       "         -22.0695,   44.0357,   34.7852,   81.8241,   34.5402,  -22.7468,\n",
       "          59.6433,  -26.5289,  -10.0283,  -12.9438,  -59.9901,   40.9569,\n",
       "         -78.7229,   44.6684,    8.6864,   24.7342,   21.0695,    9.181 ,\n",
       "           5.2951,   29.5977,  -88.0289,  -22.8621,   22.906 ,   47.7238,\n",
       "          42.9199,  -47.3485,  -52.457 ,   37.7642,  -11.7657,  -16.3731,\n",
       "         -62.2016,   58.4333,  -76.4176,   18.9837,   66.6836,  -23.7789,\n",
       "          -4.7091,  -22.5857,   28.6162,   58.3467,  -15.92  ,   -1.5197,\n",
       "           5.0717,   38.4839,  -75.2515,   -2.9955,   64.2797,   18.3003,\n",
       "         -59.7024,   48.7717,  -20.7866,  -22.3362,    0.5915,  -52.1075,\n",
       "         -12.2534,   44.5223,   59.7208,   62.6581]])"
      ]
     },
     "execution_count": 247,
     "metadata": {},
     "output_type": "execute_result"
    }
   ],
   "source": [
    "min_score-score"
   ]
  },
  {
   "cell_type": "code",
   "execution_count": 249,
   "metadata": {
    "collapsed": false
   },
   "outputs": [
    {
     "data": {
      "text/plain": [
       "(array([  1.,   1.,   5.,  12.,  19.,  22.,  25.,   9.,   4.,   2.]),\n",
       " array([ 0.3217,  0.8185,  1.3152,  1.812 ,  2.3087,  2.8055,  3.3022,\n",
       "         3.799 ,  4.2957,  4.7925,  5.2892]),\n",
       " <a list of 10 Patch objects>)"
      ]
     },
     "execution_count": 249,
     "metadata": {},
     "output_type": "execute_result"
    },
    {
     "data": {
      "image/png": "[encoded data removed]",
      "text/plain": [
       "<matplotlib.figure.Figure at 0x1bb50518>"
      ]
     },
     "metadata": {},
     "output_type": "display_data"
    }
   ],
   "source": [
    "plt.hist(difficultys.flat)"
   ]
  },
  {
   "cell_type": "code",
   "execution_count": 250,
   "metadata": {
    "collapsed": false
   },
   "outputs": [
    {
     "data": {
      "text/plain": [
       "(array([  1.,   3.,   3.,  14.,  12.,  16.,  27.,  16.,   3.,   5.]),\n",
       " array([ 1.1806,  1.5162,  1.8518,  2.1874,  2.523 ,  2.8586,  3.1942,\n",
       "         3.5298,  3.8654,  4.2011,  4.5367]),\n",
       " <a list of 10 Patch objects>)"
      ]
     },
     "execution_count": 250,
     "metadata": {},
     "output_type": "execute_result"
    },
    {
     "data": {
      "image/png": "[encoded data removed]",
      "text/plain": [
       "<matplotlib.figure.Figure at 0x1ef00550>"
      ]
     },
     "metadata": {},
     "output_type": "display_data"
    }
   ],
   "source": [
    "plt.hist(min_difficultys.flat)"
   ]
  },
  {
   "cell_type": "code",
   "execution_count": 254,
   "metadata": {
    "collapsed": false
   },
   "outputs": [
    {
     "data": {
      "text/plain": [
       "<matplotlib.collections.PathCollection at 0x1fd41128>"
      ]
     },
     "execution_count": 254,
     "metadata": {},
     "output_type": "execute_result"
    },
    {
     "data": {
      "image/png": "[encoded data removed]",
      "text/plain": [
       "<matplotlib.figure.Figure at 0x1fbeebe0>"
      ]
     },
     "metadata": {},
     "output_type": "display_data"
    }
   ],
   "source": [
    "plt.scatter((min_difficultys-difficultys).flat,(min_score).flat)"
   ]
  },
  {
   "cell_type": "code",
   "execution_count": 256,
   "metadata": {
    "collapsed": false
   },
   "outputs": [
    {
     "data": {
      "text/plain": [
       "<matplotlib.collections.PathCollection at 0x202a30b8>"
      ]
     },
     "execution_count": 256,
     "metadata": {},
     "output_type": "execute_result"
    },
    {
     "data": {
      "image/png": "[encoded data removed]",
      "text/plain": [
       "<matplotlib.figure.Figure at 0x20328438>"
      ]
     },
     "metadata": {},
     "output_type": "display_data"
    }
   ],
   "source": [
    "plt.scatter((min_score-score).flat,min_difficultys.flat)"
   ]
  },
  {
   "cell_type": "code",
   "execution_count": null,
   "metadata": {
    "collapsed": true
   },
   "outputs": [],
   "source": []
  }
 ],
 "metadata": {
  "kernelspec": {
   "display_name": "Python 2",
   "language": "python",
   "name": "python2"
  },
  "language_info": {
   "codemirror_mode": {
    "name": "ipython",
    "version": 2
   },
   "file_extension": ".py",
   "mimetype": "text/x-python",
   "name": "python",
   "nbconvert_exporter": "python",
   "pygments_lexer": "ipython2",
   "version": "2.7.13"
  }
 },
 "nbformat": 4,
 "nbformat_minor": 2
}
