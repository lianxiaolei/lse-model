{
 "cells": [
  {
   "cell_type": "code",
   "execution_count": 117,
   "metadata": {
    "collapsed": true
   },
   "outputs": [],
   "source": [
    "from scipy.optimize import minimize, rosen, rosen_der\n",
    "import math\n",
    "import numpy as np"
   ]
  },
  {
   "cell_type": "code",
   "execution_count": 118,
   "metadata": {
    "collapsed": false
   },
   "outputs": [],
   "source": [
    "fun = lambda x: (x[0] - 1)**2 + (x[1] - 2.5)**2\n",
    "cons = ({'type': 'ineq', 'fun': lambda x:  x[0] - 2 * x[1] + 2},\n",
    "         {'type': 'ineq', 'fun': lambda x: -x[0] - 2 * x[1] + 6},\n",
    "         {'type': 'ineq', 'fun': lambda x: -x[0] + 2 * x[1] + 2})\n",
    "bnds = ((0, None), (0, None))\n",
    "res = minimize(fun, (2, 0), method='SLSQP', bounds=bnds,constraints=cons)"
   ]
  },
  {
   "cell_type": "code",
   "execution_count": 119,
   "metadata": {
    "collapsed": false
   },
   "outputs": [
    {
     "name": "stdout",
     "output_type": "stream",
     "text": [
      "[ 1.4  1.7]\n"
     ]
    }
   ],
   "source": [
    "print res.x"
   ]
  },
  {
   "cell_type": "code",
   "execution_count": 120,
   "metadata": {
    "collapsed": false
   },
   "outputs": [
    {
     "name": "stdout",
     "output_type": "stream",
     "text": [
      "Optimization terminated successfully.\n"
     ]
    }
   ],
   "source": [
    "print res.message"
   ]
  },
  {
   "cell_type": "code",
   "execution_count": 121,
   "metadata": {
    "collapsed": false
   },
   "outputs": [
    {
     "name": "stdout",
     "output_type": "stream",
     "text": [
      "[-1.  0.]\n"
     ]
    }
   ],
   "source": [
    "fun = lambda x: (x[0]+1)**2 \n",
    "cons = ({'type': 'ineq', 'fun': lambda x:  x[0] + 2},\n",
    "         {'type': 'ineq', 'fun': lambda x: -x[0] + 6},\n",
    "         {'type': 'ineq', 'fun': lambda x: -x[0] + 2})\n",
    "bnds = ((0, None),(0, None))\n",
    "res = minimize(fun, (2,0), method='SLSQP')\n",
    "# 最优解\n",
    "print res.x"
   ]
  },
  {
   "cell_type": "code",
   "execution_count": 248,
   "metadata": {
    "collapsed": false
   },
   "outputs": [
    {
     "name": "stdout",
     "output_type": "stream",
     "text": [
      "[-1.  0.]\n"
     ]
    }
   ],
   "source": [
    "b = np.array([1,1]).reshape([1,2])\n",
    "fun = lambda x: ((np.array(x).reshape([2,1])+b)**2).sum() \n",
    "bnds = ((-3, None),(0, None))\n",
    "res = minimize(fun, (2,0),bounds=bnds, method='L-BFGS-B')\n",
    "# 最优解\n",
    "print res.x"
   ]
  },
  {
   "cell_type": "code",
   "execution_count": 258,
   "metadata": {
    "collapsed": false
   },
   "outputs": [
    {
     "name": "stdout",
     "output_type": "stream",
     "text": [
      "[-1.  0.]\n"
     ]
    }
   ],
   "source": [
    "b = np.array([1.,1.]).reshape([1,2])\n",
    "# x = np.array([2.,0.]).reshape([2,1])\n",
    "def ab_sum(x):\n",
    "    a = np.array(x).reshape([2,1])\n",
    "    return ((a+b)**2).sum()\n",
    "# fun = lambda x: ((np.array(x).reshape([2,1])+b)**2).sum()  \n",
    "# fun = ab_sum(b)\n",
    "bnds = ((-3, None),(0, None))\n",
    "res = minimize(ab_sum, (2.,0.),bounds=bnds, method='L-BFGS-B')\n",
    "# 最优解\n",
    "print res.x"
   ]
  },
  {
   "cell_type": "code",
   "execution_count": 122,
   "metadata": {
    "collapsed": false
   },
   "outputs": [
    {
     "name": "stdout",
     "output_type": "stream",
     "text": [
      "0.0\n"
     ]
    }
   ],
   "source": [
    "# 目标函数值\n",
    "print res.fun"
   ]
  },
  {
   "cell_type": "code",
   "execution_count": 123,
   "metadata": {
    "collapsed": false
   },
   "outputs": [
    {
     "name": "stdout",
     "output_type": "stream",
     "text": [
      "[  1.49011612e-08   0.00000000e+00   0.00000000e+00]\n"
     ]
    }
   ],
   "source": [
    "print res.jac"
   ]
  },
  {
   "cell_type": "code",
   "execution_count": 124,
   "metadata": {
    "collapsed": false
   },
   "outputs": [
    {
     "name": "stdout",
     "output_type": "stream",
     "text": [
      "9\n"
     ]
    }
   ],
   "source": [
    "print res.nfev"
   ]
  },
  {
   "cell_type": "code",
   "execution_count": 125,
   "metadata": {
    "collapsed": false
   },
   "outputs": [
    {
     "name": "stdout",
     "output_type": "stream",
     "text": [
      "2\n"
     ]
    }
   ],
   "source": [
    "print res.njev"
   ]
  },
  {
   "cell_type": "code",
   "execution_count": 126,
   "metadata": {
    "collapsed": false
   },
   "outputs": [
    {
     "name": "stdout",
     "output_type": "stream",
     "text": [
      "2\n"
     ]
    }
   ],
   "source": [
    "# 迭代次数\n",
    "print res.nit"
   ]
  },
  {
   "cell_type": "code",
   "execution_count": 149,
   "metadata": {
    "collapsed": false
   },
   "outputs": [
    {
     "name": "stdout",
     "output_type": "stream",
     "text": [
      "[ 0.69343122  0.88168378]\n",
      "5\n",
      "[False False  True  True False False  True False  True  True]\n"
     ]
    }
   ],
   "source": [
    "b0=np.array([ 0.7817,0.169,  -0.1636, -0.8591,  0.775,   0.4356, -0.2249,  0.4531, -1.3363, -0.6339])\n",
    "b1=np.array([0.7956,  0.144,  -0.1468, -0.8431,  0.7774,  0.4175, -0.0889,  0.4272, -1.3341,-0.6554])\n",
    "y=np.array([False, False,  True,  True, False, False,  True, False,  True,  True])\n",
    "fun = lambda x: sum(np.log(1+ np.exp(-(x[0]-b0)))+np.log(1+ np.exp(-(x[1]-b1)))-(1-y)*np.log((1+ np.exp(-(x[0]-b0)))*(1+ np.exp(-(x[1]-b1)))-1))\n",
    "res = minimize(fun, (0.8319,0.8839), method='SLSQP')\n",
    "print res.x\n",
    "print res.nit\n",
    "print 0.5<1.0/ (1.0 + np.exp(-(res.x[0]-b0)))/ (1.0 + np.exp(-(res.x[1]-b1)))"
   ]
  },
  {
   "cell_type": "code",
   "execution_count": 139,
   "metadata": {
    "collapsed": false
   },
   "outputs": [
    {
     "data": {
      "text/plain": [
       "array([[ 0.0502,  0.6629,  0.9955,  1.691 ,  0.0569,  0.3963,  1.0568,\n",
       "         0.3788,  2.1682,  1.4658]])"
      ]
     },
     "execution_count": 139,
     "metadata": {},
     "output_type": "execute_result"
    }
   ],
   "source": [
    "a = np.array([[[0.8319]],[[0.8839]]])\n",
    "a[0]-b0"
   ]
  },
  {
   "cell_type": "code",
   "execution_count": 134,
   "metadata": {
    "collapsed": false
   },
   "outputs": [
    {
     "name": "stdout",
     "output_type": "stream",
     "text": [
      "5\n"
     ]
    }
   ],
   "source": [
    "print res.nit"
   ]
  },
  {
   "cell_type": "code",
   "execution_count": 157,
   "metadata": {
    "collapsed": false
   },
   "outputs": [
    {
     "data": {
      "text/plain": [
       "<matplotlib.collections.PathCollection at 0x9718a20>"
      ]
     },
     "execution_count": 157,
     "metadata": {},
     "output_type": "execute_result"
    },
    {
     "data": {
      "image/png": "[encoded data removed]",
      "text/plain": [
       "<matplotlib.figure.Figure at 0x97189b0>"
      ]
     },
     "metadata": {},
     "output_type": "display_data"
    }
   ],
   "source": [
    "import matplotlib.pyplot as plt\n",
    "%matplotlib inline\n",
    "%precision 4\n",
    "plt.style.use('ggplot')\n",
    "plt.scatter(1,1)\n",
    "plt.scatter(2,2)"
   ]
  },
  {
   "cell_type": "code",
   "execution_count": 226,
   "metadata": {
    "collapsed": false
   },
   "outputs": [
    {
     "ename": "ValueError",
     "evalue": "setting an array element with a sequence.",
     "output_type": "error",
     "traceback": [
      "\u001b[1;31m---------------------------------------------------------------------------\u001b[0m",
      "\u001b[1;31mValueError\u001b[0m                                Traceback (most recent call last)",
      "\u001b[1;32m<ipython-input-226-e40d212087c6>\u001b[0m in \u001b[0;36m<module>\u001b[1;34m()\u001b[0m\n\u001b[0;32m      8\u001b[0m \u001b[0ma0\u001b[0m \u001b[1;33m=\u001b[0m \u001b[0mnp\u001b[0m\u001b[1;33m.\u001b[0m\u001b[0marray\u001b[0m\u001b[1;33m(\u001b[0m\u001b[1;33m[\u001b[0m\u001b[1;36m0.8319\u001b[0m\u001b[1;33m,\u001b[0m\u001b[1;36m0.8319\u001b[0m\u001b[1;33m]\u001b[0m\u001b[1;33m)\u001b[0m\u001b[1;33m\u001b[0m\u001b[0m\n\u001b[0;32m      9\u001b[0m \u001b[0ma1\u001b[0m \u001b[1;33m=\u001b[0m \u001b[0mnp\u001b[0m\u001b[1;33m.\u001b[0m\u001b[0marray\u001b[0m\u001b[1;33m(\u001b[0m\u001b[1;33m[\u001b[0m\u001b[1;36m0.8839\u001b[0m\u001b[1;33m,\u001b[0m\u001b[1;36m0.8839\u001b[0m\u001b[1;33m]\u001b[0m\u001b[1;33m)\u001b[0m\u001b[1;33m\u001b[0m\u001b[0m\n\u001b[1;32m---> 10\u001b[1;33m \u001b[0mres\u001b[0m \u001b[1;33m=\u001b[0m \u001b[0mminimize\u001b[0m\u001b[1;33m(\u001b[0m\u001b[0mfun\u001b[0m\u001b[1;33m,\u001b[0m \u001b[1;33m(\u001b[0m\u001b[0ma0\u001b[0m\u001b[1;33m,\u001b[0m\u001b[0ma1\u001b[0m\u001b[1;33m,\u001b[0m\u001b[0mb0\u001b[0m\u001b[1;33m,\u001b[0m\u001b[0mb1\u001b[0m\u001b[1;33m)\u001b[0m\u001b[1;33m,\u001b[0m \u001b[0mmethod\u001b[0m\u001b[1;33m=\u001b[0m\u001b[1;34m'SLSQP'\u001b[0m\u001b[1;33m)\u001b[0m\u001b[1;33m\u001b[0m\u001b[0m\n\u001b[0m\u001b[0;32m     11\u001b[0m \u001b[1;32mprint\u001b[0m \u001b[0mres\u001b[0m\u001b[1;33m.\u001b[0m\u001b[0mx\u001b[0m\u001b[1;33m\u001b[0m\u001b[0m\n\u001b[0;32m     12\u001b[0m \u001b[1;32mprint\u001b[0m \u001b[0mres\u001b[0m\u001b[1;33m.\u001b[0m\u001b[0mfun\u001b[0m\u001b[1;33m\u001b[0m\u001b[0m\n",
      "\u001b[1;32mC:\\Program1\\Anaconda2\\lib\\site-packages\\scipy\\optimize\\_minimize.pyc\u001b[0m in \u001b[0;36mminimize\u001b[1;34m(fun, x0, args, method, jac, hess, hessp, bounds, constraints, tol, callback, options)\u001b[0m\n\u001b[0;32m    456\u001b[0m     \u001b[1;32melif\u001b[0m \u001b[0mmeth\u001b[0m \u001b[1;33m==\u001b[0m \u001b[1;34m'slsqp'\u001b[0m\u001b[1;33m:\u001b[0m\u001b[1;33m\u001b[0m\u001b[0m\n\u001b[0;32m    457\u001b[0m         return _minimize_slsqp(fun, x0, args, jac, bounds,\n\u001b[1;32m--> 458\u001b[1;33m                                constraints, callback=callback, **options)\n\u001b[0m\u001b[0;32m    459\u001b[0m     \u001b[1;32melif\u001b[0m \u001b[0mmeth\u001b[0m \u001b[1;33m==\u001b[0m \u001b[1;34m'dogleg'\u001b[0m\u001b[1;33m:\u001b[0m\u001b[1;33m\u001b[0m\u001b[0m\n\u001b[0;32m    460\u001b[0m         return _minimize_dogleg(fun, x0, args, jac, hess,\n",
      "\u001b[1;32mC:\\Program1\\Anaconda2\\lib\\site-packages\\scipy\\optimize\\slsqp.pyc\u001b[0m in \u001b[0;36m_minimize_slsqp\u001b[1;34m(func, x0, args, jac, bounds, constraints, maxiter, ftol, iprint, disp, eps, callback, **unknown_options)\u001b[0m\n\u001b[0;32m    305\u001b[0m \u001b[1;33m\u001b[0m\u001b[0m\n\u001b[0;32m    306\u001b[0m     \u001b[1;31m# Transform x0 into an array.\u001b[0m\u001b[1;33m\u001b[0m\u001b[1;33m\u001b[0m\u001b[0m\n\u001b[1;32m--> 307\u001b[1;33m     \u001b[0mx\u001b[0m \u001b[1;33m=\u001b[0m \u001b[0masfarray\u001b[0m\u001b[1;33m(\u001b[0m\u001b[0mx0\u001b[0m\u001b[1;33m)\u001b[0m\u001b[1;33m.\u001b[0m\u001b[0mflatten\u001b[0m\u001b[1;33m(\u001b[0m\u001b[1;33m)\u001b[0m\u001b[1;33m\u001b[0m\u001b[0m\n\u001b[0m\u001b[0;32m    308\u001b[0m \u001b[1;33m\u001b[0m\u001b[0m\n\u001b[0;32m    309\u001b[0m     \u001b[1;31m# Set the parameters that SLSQP will need\u001b[0m\u001b[1;33m\u001b[0m\u001b[1;33m\u001b[0m\u001b[0m\n",
      "\u001b[1;32mC:\\Program1\\Anaconda2\\lib\\site-packages\\numpy\\lib\\type_check.pyc\u001b[0m in \u001b[0;36masfarray\u001b[1;34m(a, dtype)\u001b[0m\n\u001b[0;32m    103\u001b[0m     \u001b[1;32mif\u001b[0m \u001b[1;32mnot\u001b[0m \u001b[0missubclass\u001b[0m\u001b[1;33m(\u001b[0m\u001b[0mdtype\u001b[0m\u001b[1;33m,\u001b[0m \u001b[0m_nx\u001b[0m\u001b[1;33m.\u001b[0m\u001b[0minexact\u001b[0m\u001b[1;33m)\u001b[0m\u001b[1;33m:\u001b[0m\u001b[1;33m\u001b[0m\u001b[0m\n\u001b[0;32m    104\u001b[0m         \u001b[0mdtype\u001b[0m \u001b[1;33m=\u001b[0m \u001b[0m_nx\u001b[0m\u001b[1;33m.\u001b[0m\u001b[0mfloat_\u001b[0m\u001b[1;33m\u001b[0m\u001b[0m\n\u001b[1;32m--> 105\u001b[1;33m     \u001b[1;32mreturn\u001b[0m \u001b[0masarray\u001b[0m\u001b[1;33m(\u001b[0m\u001b[0ma\u001b[0m\u001b[1;33m,\u001b[0m \u001b[0mdtype\u001b[0m\u001b[1;33m=\u001b[0m\u001b[0mdtype\u001b[0m\u001b[1;33m)\u001b[0m\u001b[1;33m\u001b[0m\u001b[0m\n\u001b[0m\u001b[0;32m    106\u001b[0m \u001b[1;33m\u001b[0m\u001b[0m\n\u001b[0;32m    107\u001b[0m \u001b[1;32mdef\u001b[0m \u001b[0mreal\u001b[0m\u001b[1;33m(\u001b[0m\u001b[0mval\u001b[0m\u001b[1;33m)\u001b[0m\u001b[1;33m:\u001b[0m\u001b[1;33m\u001b[0m\u001b[0m\n",
      "\u001b[1;32mC:\\Program1\\Anaconda2\\lib\\site-packages\\numpy\\core\\numeric.pyc\u001b[0m in \u001b[0;36masarray\u001b[1;34m(a, dtype, order)\u001b[0m\n\u001b[0;32m    529\u001b[0m \u001b[1;33m\u001b[0m\u001b[0m\n\u001b[0;32m    530\u001b[0m     \"\"\"\n\u001b[1;32m--> 531\u001b[1;33m     \u001b[1;32mreturn\u001b[0m \u001b[0marray\u001b[0m\u001b[1;33m(\u001b[0m\u001b[0ma\u001b[0m\u001b[1;33m,\u001b[0m \u001b[0mdtype\u001b[0m\u001b[1;33m,\u001b[0m \u001b[0mcopy\u001b[0m\u001b[1;33m=\u001b[0m\u001b[0mFalse\u001b[0m\u001b[1;33m,\u001b[0m \u001b[0morder\u001b[0m\u001b[1;33m=\u001b[0m\u001b[0morder\u001b[0m\u001b[1;33m)\u001b[0m\u001b[1;33m\u001b[0m\u001b[0m\n\u001b[0m\u001b[0;32m    532\u001b[0m \u001b[1;33m\u001b[0m\u001b[0m\n\u001b[0;32m    533\u001b[0m \u001b[1;33m\u001b[0m\u001b[0m\n",
      "\u001b[1;31mValueError\u001b[0m: setting an array element with a sequence."
     ]
    }
   ],
   "source": [
    "b0=np.array([ 0.7817,0.169,  -0.1636, -0.8591,  0.775,   0.4356, -0.2249,  0.4531, -1.3363, -0.6339])\n",
    "b1=np.array([0.7956,  0.144,  -0.1468, -0.8431,  0.7774,  0.4175, -0.0889,  0.4272, -1.3341,-0.6554])\n",
    "y=np.array([[False, False,  True,  True, False, False,  True, False,  True,  True],[False, False,  True,  True, False, False,  True, False,  True,  True]])\n",
    "# fun = lambda x: sum(np.log(1+ np.exp(-(np.array([[x[0]],[x[1]]])-np.array([[x[4],x[5],x[6],x[7],x[8],x[9],x[10],x[11],x[12],x[13]]]))))+np.log(1+ np.exp(-(x[1]-b1)))-(1-y)*np.log((1+ np.exp(-(x[0]-b0)))*(1+ np.exp(-(x[1]-b1)))-1))\n",
    "# fun = lambda x: (np.array([[x[0],x[1]]])-np.array([[x[2]],[x[3]]])).sum()**2\n",
    "# b0 = (0.7817,0.169,  -0.1636, -0.8591,  0.775,   0.4356, -0.2249,  0.4531, -1.3363, -0.6339)\n",
    "fun = lambda x: -(1-y)*(np.log((1+ np.exp(-(np.array([[x[0]],[x[1]]])-np.array([[x[4],x[5],x[6],x[7],x[8],x[9],x[10],x[11],x[12],x[13]]]))))*(1+ np.exp(-(np.array([[x[2]],[x[3]]])-np.array([[x[14],x[15],x[16],x[17],x[18],x[19],x[20],x[21],x[22],x[23]]]))))-1))\n",
    "a0 = np.array([0.8319,0.8319])\n",
    "a1 = np.array([0.8839,0.8839])\n",
    "res = minimize(fun, (a0,a1,b0,b1), method='SLSQP')\n",
    "print res.x\n",
    "print res.fun\n",
    "print res.nit\n"
   ]
  },
  {
   "cell_type": "code",
   "execution_count": 217,
   "metadata": {
    "collapsed": false
   },
   "outputs": [
    {
     "data": {
      "text/plain": [
       "0"
      ]
     },
     "execution_count": 217,
     "metadata": {},
     "output_type": "execute_result"
    }
   ],
   "source": [
    "(np.array([[3,4]])-np.array([[3],[4]])).sum()"
   ]
  },
  {
   "cell_type": "code",
   "execution_count": 245,
   "metadata": {
    "collapsed": false
   },
   "outputs": [
    {
     "name": "stdout",
     "output_type": "stream",
     "text": [
      "[-3.0794 -3.0794 -2.8829 -2.8829  3.8722  4.9012  3.8277  4.6455]\n",
      "1.34679230879e-06\n",
      "19\n"
     ]
    }
   ],
   "source": [
    "n_stu = 2\n",
    "n_items = 2\n",
    "start1 = n_stu\n",
    "start2 = n_stu*2\n",
    "start3 = n_stu*2+n_items\n",
    "b0=np.array([ 0.7817,0.169])\n",
    "b1=np.array([0.7956,0.144])\n",
    "y=np.array([[False, False],[False, False]])\n",
    "bnds = ((-3, 3), (-3, 3))\n",
    "# fun = lambda x: sum(np.log(1+ np.exp(-(np.array([[x[0]],[x[1]]])-np.array([[x[4],x[5],x[6],x[7],x[8],x[9],x[10],x[11],x[12],x[13]]]))))+np.log(1+ np.exp(-(x[1]-b1)))-(1-y)*np.log((1+ np.exp(-(x[0]-b0)))*(1+ np.exp(-(x[1]-b1)))-1))\n",
    "# fun = lambda x: (np.array([[x[0],x[1]]])-np.array([[x[2]],[x[3]]])).sum()**2\n",
    "# b0 = (0.7817,0.169,  -0.1636, -0.8591,  0.775,   0.4356, -0.2249,  0.4531, -1.3363, -0.6339)\n",
    "# fun = lambda x: (np.log((1+ np.exp(-(np.array([[ii] for ii in x[:start1]])-np.array([[x[start2:start3]]])))))+np.log(1+ np.exp(-(np.array([[x[2]],[x[3]]])-np.array([[x[6:8]]]))))-(1-y)*(np.log((1+ np.exp(-(np.array([[x[0]],[x[1]]])-np.array([[x[4:6]]]))))*(1+ np.exp(-(np.array([[x[2]],[x[3]]])-np.array([[x[6:8]]]))))-1))).sum()\n",
    "a0 = np.array([0.8319,0.8319])\n",
    "a1 = np.array([0.8839,0.8839])\n",
    "\n",
    "fun = lambda x: (np.log(1+ np.exp(-(np.array([[ii] for ii in x[:start1]])-np.array([[x[start2:start3]]]))))+np.log(1+ np.exp(-(np.array([[ii] for ii in x[start1:start2]])-np.array([[x[start3:]]]))))-(1-y)*np.log((1+ np.exp(-(np.array([[ii] for ii in x[:start1]])-np.array([[x[start2:start3]]]))))*(1+ np.exp(-(np.array([[ii] for ii in x[start1:start2]])-np.array([[x[start3:]]]))))-1)).sum()/n_items\n",
    "# res = minimize(fun, (a0,a1,b0,b1), bounds=bnds,method='L-BFGS-B')\n",
    "res = minimize(fun, (a0,a1,b0,b1), method='SLSQP')\n",
    "print res.x\n",
    "print res.fun\n",
    "print res.nit"
   ]
  },
  {
   "cell_type": "code",
   "execution_count": 235,
   "metadata": {
    "collapsed": false
   },
   "outputs": [],
   "source": [
    "a = np.array([[ii] for ii in range(3)])"
   ]
  },
  {
   "cell_type": "code",
   "execution_count": 236,
   "metadata": {
    "collapsed": false
   },
   "outputs": [
    {
     "data": {
      "text/plain": [
       "array([[0],\n",
       "       [1],\n",
       "       [2]])"
      ]
     },
     "execution_count": 236,
     "metadata": {},
     "output_type": "execute_result"
    }
   ],
   "source": [
    "a"
   ]
  },
  {
   "cell_type": "code",
   "execution_count": null,
   "metadata": {
    "collapsed": true
   },
   "outputs": [],
   "source": []
  }
 ],
 "metadata": {
  "kernelspec": {
   "display_name": "Python 2",
   "language": "python",
   "name": "python2"
  },
  "language_info": {
   "codemirror_mode": {
    "name": "ipython",
    "version": 2
   },
   "file_extension": ".py",
   "mimetype": "text/x-python",
   "name": "python",
   "nbconvert_exporter": "python",
   "pygments_lexer": "ipython2",
   "version": "2.7.13"
  }
 },
 "nbformat": 4,
 "nbformat_minor": 2
}
