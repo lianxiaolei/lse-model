{
 "cells": [
  {
   "cell_type": "markdown",
   "metadata": {},
   "source": [
    "100学生100题，pymc求难度及能力"
   ]
  },
  {
   "cell_type": "code",
   "execution_count": 2,
   "metadata": {
    "collapsed": true
   },
   "outputs": [],
   "source": [
    "from __future__ import division\n",
    "import os\n",
    "import sys\n",
    "import glob\n",
    "import matplotlib.pyplot as plt\n",
    "import numpy as np\n",
    "import pandas as pd\n",
    "%matplotlib inline\n",
    "%precision 4\n",
    "plt.style.use('ggplot')\n",
    "np.random.seed(1234)\n",
    "import pymc\n",
    "import scipy.stats as stats"
   ]
  },
  {
   "cell_type": "code",
   "execution_count": 4,
   "metadata": {
    "collapsed": false
   },
   "outputs": [
    {
     "name": "stderr",
     "output_type": "stream",
     "text": [
      "C:\\Program1\\Anaconda2\\lib\\site-packages\\ipykernel\\__main__.py:45: DeprecationWarning: numpy boolean negative, the `-` operator, is deprecated, use the `~` operator or the logical_not function instead.\n"
     ]
    },
    {
     "name": "stdout",
     "output_type": "stream",
     "text": [
      " [-----------------100%-----------------] 100000 of 100000 complete in 294.4 sec0.175190538441 0.683862395218 0.741809995854\n"
     ]
    },
    {
     "data": {
      "text/plain": [
       "(array([ 1.038 ,  1.0404,  1.0758,  0.9017,  0.9889,  0.9754,  1.1162,\n",
       "         0.9874,  0.9132,  0.883 ,  0.9643,  1.0591,  1.0673,  1.0502,\n",
       "         1.0683,  1.1209,  1.0138,  1.1145,  1.0271,  0.9043,  0.9884,\n",
       "         0.9564,  1.0372,  0.9406,  1.06  ,  0.8154,  0.9338,  1.0327,\n",
       "         1.0684,  0.9399,  1.0687,  1.0518,  1.024 ,  1.02  ,  0.9434,\n",
       "         1.0094,  1.0439,  0.8318,  0.9069,  0.9313,  0.8809,  0.8655,\n",
       "         1.0171,  0.9246,  0.9999,  1.0721,  1.0611,  0.9208,  1.1002,\n",
       "         1.064 ,  0.9498,  0.7583,  0.9906,  0.9077,  0.9843,  1.0462,\n",
       "         0.8985,  1.0832,  1.1318,  0.8713,  0.9591,  0.9917,  1.0952,\n",
       "         1.0558,  1.1231,  1.0515,  1.0616,  1.1499,  1.0934,  0.8789,\n",
       "         1.0068,  1.0831,  0.8808,  1.1483,  0.8995,  0.9155,  0.9281,\n",
       "         1.0706,  1.0892,  1.0265,  1.0377,  1.0043,  1.0061,  1.1475,\n",
       "         1.0179,  1.0556,  0.9705,  1.0508,  1.0905,  0.8883,  1.1087,\n",
       "         1.0157,  0.9379,  0.9724,  1.0433,  0.9191,  1.0429,  1.1244,\n",
       "         0.9396,  1.1088]),\n",
       " array([-0.7739, -0.5896, -0.9686,  0.115 , -0.8148, -0.5291, -1.2258,\n",
       "        -0.8809, -0.0942, -0.2604, -0.9325, -0.7083, -1.4838, -0.9439,\n",
       "        -0.8272, -0.7842, -0.4259, -1.4238, -1.3534, -0.3319, -1.0977,\n",
       "        -0.5403, -0.5369, -0.6487, -1.0201, -0.1307, -0.4305, -0.9206,\n",
       "        -0.974 , -0.4711, -0.5671, -1.2753, -0.1454, -0.598 , -0.1098,\n",
       "        -0.6404, -0.8464, -0.521 , -0.4662, -0.1199, -0.4527, -0.8545,\n",
       "        -0.7589, -0.4296, -0.6903, -0.8754, -0.5272, -0.7179, -1.088 ,\n",
       "        -1.1779, -0.3649, -0.151 , -0.6102, -0.3442, -1.0184, -1.0269,\n",
       "        -0.1674, -1.421 , -1.2298, -0.4194, -0.3004, -0.1243, -1.3872,\n",
       "        -1.2538, -1.6388, -0.8127, -0.8839, -2.0012, -0.6798, -0.2301,\n",
       "        -0.6982, -0.2115, -0.2557, -1.3436, -0.4207, -0.2671, -0.2735,\n",
       "        -0.261 , -1.472 , -0.9067,  0.1464, -0.9915, -0.6306, -1.6596,\n",
       "        -0.8795, -0.8281, -0.0723, -0.4606, -0.7073, -0.5014, -1.0544,\n",
       "        -0.1514, -0.3433, -0.226 , -0.6801, -0.8091, -0.4282, -1.2109,\n",
       "        -0.2864, -1.6225]),\n",
       " array([ 0.0641,  0.0589,  1.7448,  0.3779,  0.7311,  0.2395,  1.4929,\n",
       "         1.7509,  0.8684,  0.8   ,  0.235 ,  0.8782,  0.3505,  0.5884,\n",
       "        -0.1989,  0.6944,  0.5287,  0.4768,  0.5675,  0.4456,  0.6503,\n",
       "         1.2314,  1.3308,  1.7467, -0.0089,  0.5245,  0.8342,  0.0181,\n",
       "         0.6832,  0.2299,  0.3803,  0.9836,  1.5772,  1.4989,  1.2135,\n",
       "         0.5907,  0.5882,  0.6971,  0.5712,  0.7332,  0.3906,  0.4747,\n",
       "         0.7668,  1.2966,  0.2508,  0.2358,  0.3674,  0.7307,  0.223 ,\n",
       "         0.0783,  0.4812,  0.3672,  1.304 ,  0.0928,  1.7501,  0.4282,\n",
       "         0.293 , -0.1495,  0.5004,  1.043 ,  1.707 ,  1.7996,  0.5659,\n",
       "         0.4734, -0.0342,  0.1776,  0.0199,  0.1154,  0.5999,  0.0957,\n",
       "         0.7217,  0.2357,  0.8927,  0.9011,  0.3474,  2.2757,  0.2821,\n",
       "         0.8492,  1.5414,  0.9089,  1.3718,  0.3569,  0.2762,  0.8372,\n",
       "         0.4817,  0.2513,  0.1613,  0.0528,  1.2685,  0.8875, -0.0567,\n",
       "         0.4726,  1.0478,  0.2253,  1.8804,  0.4041,  0.576 ,  0.4047,\n",
       "         0.7316,  0.3421]))"
      ]
     },
     "execution_count": 4,
     "metadata": {},
     "output_type": "execute_result"
    }
   ],
   "source": [
    "c=0.25\n",
    "D=1.7\n",
    "n_items=100\n",
    "n_stu=100\n",
    "real_a = np.random.lognormal(0,0.2,(n_items,))\n",
    "real_b = np.random.normal(0,1,(1,n_items))\n",
    "real_theta = np.random.normal(0,1,(n_stu,1))\n",
    "uv=np.random.random((n_items,n_stu))<c + (1.0-c) / (1.0 + np.exp(-D*real_a*(real_theta-real_b)))\n",
    "mask=np.random.random(uv.shape)<0.7\n",
    "def absm(a,b):\n",
    "    return np.abs(a-b).mean()\n",
    "\n",
    "def uirt(uv,mask):\n",
    "    global c\n",
    "    global D\n",
    "    n_stu,n_items=uv.shape\n",
    "    \n",
    "    # 难度参数\n",
    "    b=pymc.Normal('b',mu=0,tau=1,value=np.zeros((1,n_items,)))\n",
    "    # 能力参数\n",
    "    theta=pymc.Normal('theta',mu=0,tau=1,value=np.zeros((n_stu,1)))\n",
    "    # 区分度参数\n",
    "    a=pymc.Lognormal('a',mu=0,tau=25,value=np.ones((n_items,)))\n",
    "    \n",
    "    \n",
    "\n",
    "    @pymc.deterministic\n",
    "    def sigmoid(theta=theta,b=b,a=a): \n",
    "        global c\n",
    "        global D\n",
    "        return c + (1.0-c) / (1.0 + np.exp(-D*a*(theta-b)))\n",
    "    # 答题矩阵\n",
    "    u=pymc.Bernoulli('u', p=sigmoid, value=uv, observed=True)\n",
    "    \n",
    "    params=[a,b,theta,sigmoid]\n",
    "    \n",
    "    if mask is None:\n",
    "        params.append(u)\n",
    "    else:        \n",
    "        @pymc.stochastic(dtype=np.bool,observed=True)\n",
    "        def uv_miss(value=uv, mask=mask,p=sigmoid):\n",
    "            \"\"\"answer matrix\"\"\"\n",
    "\n",
    "            def logp(value, mask,p):\n",
    "                lh=-value*np.log(p)-(1-value)*np.log(1-p)\n",
    "                return (lh*mask).sum()\n",
    "\n",
    "\n",
    "            def random(mask,p):\n",
    "                return np.random.random(mask.shape)<p\n",
    "        params.append(u)        \n",
    "\n",
    "    m=pymc.MCMC(params)\n",
    "    m.sample(100000,40000,12)\n",
    "    \n",
    "    \n",
    "    ea=a.stats()['mean']\n",
    "    eb=b.stats()['mean']\n",
    "    et=theta.stats()['mean']\n",
    "    m.stats()\n",
    "    print absm(ea.reshape(real_a.shape),real_a),absm(eb.reshape(real_b.shape),real_b),absm(et.reshape(real_theta.shape),real_theta)\n",
    "    return ea,eb,et,\n",
    "uirt(uv,mask)"
   ]
  }
 ],
 "metadata": {
  "kernelspec": {
   "display_name": "Python 2",
   "language": "python",
   "name": "python2"
  },
  "language_info": {
   "codemirror_mode": {
    "name": "ipython",
    "version": 2
   },
   "file_extension": ".py",
   "mimetype": "text/x-python",
   "name": "python",
   "nbconvert_exporter": "python",
   "pygments_lexer": "ipython2",
   "version": "2.7.13"
  }
 },
 "nbformat": 4,
 "nbformat_minor": 2
}
