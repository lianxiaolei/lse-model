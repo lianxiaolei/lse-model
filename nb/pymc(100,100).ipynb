{
 "cells": [
  {
   "cell_type": "markdown",
   "metadata": {},
   "source": [
    "100学生100题情况下，最佳w值使误差最小。使用pymc所求难度b。"
   ]
  },
  {
   "cell_type": "code",
   "execution_count": 288,
   "metadata": {
    "collapsed": true
   },
   "outputs": [],
   "source": [
    "from __future__ import division\n",
    "import os\n",
    "import sys\n",
    "import glob\n",
    "import matplotlib.pyplot as plt\n",
    "import numpy as np\n",
    "import pandas as pd\n",
    "%matplotlib inline\n",
    "%precision 4\n",
    "plt.style.use('ggplot')\n",
    "np.random.seed(1234)\n",
    "import pymc\n",
    "import scipy.stats as stats\n",
    "from scipy.optimize import minimize, rosen, rosen_der"
   ]
  },
  {
   "cell_type": "code",
   "execution_count": 289,
   "metadata": {
    "collapsed": false,
    "scrolled": true
   },
   "outputs": [
    {
     "name": "stdout",
     "output_type": "stream",
     "text": [
      "-5432.19290796\n",
      " [-----------------100%-----------------] 100000 of 100000 complete in 247.9 sec-4524.64142988\n",
      "0.627578871725 0.543190221056\n",
      "0.556190450849 0.627255686343\n",
      "0.7956\n",
      "0.786253333665\n",
      "[  0.0000e+00   0.0000e+00   1.3031e-04 ...,   9.9570e-01   9.9570e-01\n",
      "   1.0000e+00]\n",
      "[  4.2992e-04   1.2898e-03   1.2898e-03 ...,   9.9957e-01   1.0000e+00\n",
      "   1.0000e+00]\n",
      "[ 0.9332  0.9134  0.9017 ...,  0.0114  0.0113  0.0059]\n"
     ]
    },
    {
     "data": {
      "image/png": "[encoded data removed]",
      "text/plain": [
       "<matplotlib.figure.Figure at 0x18651080>"
      ]
     },
     "metadata": {},
     "output_type": "display_data"
    }
   ],
   "source": [
    "n_items=100\n",
    "n_stu=100\n",
    "# real_a = np.random.lognormal(0,0.2,(n_items,))\n",
    "real_b1 = np.random.normal(0,1,(1,n_items))\n",
    "real_theta1 = np.random.normal(0,1,(n_stu,1))\n",
    "real_b2 = np.random.normal(0,1,(1,n_items))\n",
    "real_theta2 = np.random.normal(0,1,(n_stu,1))\n",
    "# uv=np.random.random((n_items,n_stu))<c + (1.0-c) / (1.0 + np.exp(-D*real_a*(real_theta-real_b)))\n",
    "uv=np.random.random((n_stu,n_items))<1.0/ (1.0 + np.exp(-(real_theta1-real_b1)))/ (1.0 + np.exp(-(real_theta2-real_b2)))\n",
    "mask=np.random.random(uv.shape)<0.7\n",
    "def absm(a,b):\n",
    "    return np.abs(a-b).mean()\n",
    "\n",
    "def uirt(uv,mask):\n",
    "    n_stu,n_items=uv.shape\n",
    "    \n",
    "    # 难度参数\n",
    "    b1=pymc.Normal('b1',mu=0,tau=1,value=np.zeros((1,n_items,)))\n",
    "    # 能力参数\n",
    "    theta1=pymc.Normal('theta1',mu=0,tau=1,value=np.zeros((n_stu,1)))\n",
    "    # 难度参数\n",
    "    b2=pymc.Normal('b2',mu=0,tau=1,value=np.zeros((1,n_items,)))\n",
    "    # 能力参数\n",
    "    theta2=pymc.Normal('theta2',mu=0,tau=1,value=np.zeros((n_stu,1)))\n",
    "    @pymc.deterministic\n",
    "    def sigmoid(theta1=theta1,b1=b1,theta2=theta2,b2=b2): \n",
    "        return 1.0 / (1.0 + np.exp(-(theta1-b1)))/ (1.0 + np.exp(-(theta2-b2)))\n",
    "    # 答题矩阵\n",
    "    u=pymc.Bernoulli('u', p=sigmoid, value=uv, observed=True)\n",
    "    \n",
    "    params=[b1,theta1,b2,theta2,sigmoid]\n",
    "    params.append(u)      \n",
    "\n",
    "    m=pymc.MCMC(params)\n",
    "    print u.logp\n",
    "    m.sample(100000,40000,12)\n",
    "    print u.logp\n",
    "    eb1=np.array([b1.stats()['mean']])\n",
    "    et1=np.array([theta1.stats()['mean']]).T\n",
    "    eb2=np.array([b2.stats()['mean']])\n",
    "    et2=np.array([theta2.stats()['mean']]).T\n",
    "    m.stats()\n",
    "    \n",
    "    print absm(eb1.reshape(real_b1.shape),real_b1),absm(et1.reshape(real_theta1.shape),real_theta1)\n",
    "    print absm(eb2.reshape(real_b2.shape),real_b2),absm(et2.reshape(real_theta2.shape),real_theta2)\n",
    "    return eb1,et1,eb2,et2\n",
    "eb1,et1,eb2,et2=uirt(uv,mask)\n",
    "k = 0.5\n",
    "uv_test=np.ones((n_stu,n_items))*k<1.0/ (1.0 + np.exp(-(et1-eb1)))/ (1.0 + np.exp(-(et2-eb2)))\n",
    "result=uv_test==uv\n",
    "print result.sum()/n_items/n_stu\n",
    "\n",
    "from sklearn.metrics import roc_curve\n",
    "\n",
    "uv_list = np.array([int(uvv) for uvv in uv.flat])+1\n",
    "uv_test_list = np.array([int(uvv) for uvv in uv_test.flat])\n",
    "uv_p = 1.0/ (1.0 + np.exp(-(et1-eb1)))/ (1.0 + np.exp(-(et2-eb2)))\n",
    "uv_p_list = np.array([uvv for uvv in uv_p.flat])\n",
    "\n",
    "fpr, tpr, thresholds = roc_curve(uv_list, uv_p_list, pos_label=2)\n",
    "\n",
    "from sklearn.metrics import auc\n",
    "\n",
    "plt.plot(fpr,tpr,label=thresholds)\n",
    "plt.plot([0,1],[1,0])\n",
    "\n",
    "print auc(fpr,tpr)\n",
    "\n",
    "print fpr\n",
    "print tpr\n",
    "print thresholds\n",
    "from sklearn.metrics import roc_auc_score\n",
    "\n",
    "print roc_auc_score(uv_list, uv_p_list)"
   ]
  },
  {
   "cell_type": "markdown",
   "metadata": {},
   "source": []
  },
  {
   "cell_type": "code",
   "execution_count": 340,
   "metadata": {
    "collapsed": false
   },
   "outputs": [
    {
     "name": "stdout",
     "output_type": "stream",
     "text": [
      "0.0 0.7988 2.3093058678 1.1852091816 1.12409668621 43.7428715286\n",
      "0.01 0.7964 1.15655052143 0.529781238247 0.626769283181 45.2533551614\n",
      "0.02 0.7937 1.18843900358 0.572715571489 0.615723432092 45.8390544163\n",
      "0.03 0.7949 1.21317154738 0.598557712086 0.614613835294 46.2536098335\n",
      "0.04 0.7935 1.23558749663 0.617645844571 0.617941652056 46.5756012866\n",
      "0.05 0.7932 1.25676329628 0.634052378424 0.62271091786 46.8363839288\n",
      "0.06 0.7923 1.27544487908 0.64704608178 0.628398797298 47.0531970799\n",
      "0.07 0.7914 1.29188510382 0.657592990698 0.634292113127 47.2368897548\n",
      "0.08 0.7899 1.30592639723 0.666648266157 0.639278131077 47.394818687\n",
      "0.09 0.789 1.31867837279 0.67434858187 0.644329790915 47.5322207483\n",
      "0.1 0.7881 1.32975458489 0.680992833052 0.648761751833 47.6529564317\n",
      "0.11 0.7864 1.34008073338 0.686989484896 0.653091248488 47.7599491477\n",
      "0.12 0.7856 1.34950037588 0.692323864104 0.657176511778 47.8554610413\n",
      "0.13 0.7857 1.35820928584 0.697390670512 0.660818615324 47.9412742229\n",
      "0.14 0.7848 1.36607401382 0.701985333317 0.664088680502 48.0188141442\n",
      "0.15 0.7844 1.37337152686 0.706320442822 0.667051084035 48.0892360593\n",
      "0.16 0.7842 1.38019204473 0.710349630072 0.669842414659 48.1534870678\n",
      "0.17 0.7843 1.38678910994 0.714024860296 0.672764249648 48.2123515703\n",
      "0.18 0.7842 1.39297388941 0.717464103726 0.675509785687 48.2664851551\n",
      "0.19 0.7839 1.39879166473 0.720756088355 0.678035576373 48.3164402601\n",
      "0.2 0.7836 1.40416528688 0.723796775461 0.680368511422 48.3626858725\n",
      "0.21 0.7834 1.40914424204 0.726614534989 0.682529707053 48.4056228382\n",
      "0.22 0.783 1.41377165222 0.729233287255 0.684538364962 48.445595893\n",
      "0.23 0.7829 1.41808329796 0.731673545253 0.686409752708 48.4829032132\n",
      "0.24 0.7829 1.42211200374 0.733953644342 0.688158359399 48.5178040665\n",
      "0.25 0.7828 1.42588395785 0.736088811082 0.689795146769 48.5505249918\n",
      "0.26 0.7825 1.42942330729 0.738092201609 0.691331105678 48.5812648333\n",
      "0.27 0.782 1.43275148561 0.7399760684 0.692775417213 48.6101988651\n",
      "0.28 0.782 1.43588653019 0.74175085424 0.694135675945 48.6374821992\n",
      "0.29 0.7818 1.43884540439 0.743425736121 0.695419668268 48.6632526139\n",
      "0.3 0.7817 1.4416419434 0.745008717747 0.696633225651 48.6876329197\n",
      "0.31 0.7817 1.44428925324 0.746507387383 0.697781865859 48.7107329443\n",
      "0.32 0.7816 1.44679962814 0.747928204384 0.698871423753 48.7326512089\n",
      "0.33 0.7814 1.44918324903 0.749277482765 0.699905766267 48.7534763528\n",
      "0.34 0.7813 1.45144950405 0.750560379405 0.700889124643 48.7732883432\n",
      "0.35 0.781 1.45365484548 0.751781408196 0.701873437286 48.7921595155\n",
      "0.36 0.7804 1.45575877019 0.752945215059 0.702813555127 48.8101554639\n",
      "0.37 0.7801 1.45776629922 0.754055825261 0.703710473962 48.8273358098\n",
      "0.38 0.7797 1.45968413968 0.755116620764 0.704567518919 48.8437548694\n",
      "0.39 0.7797 1.46151810924 0.756131182281 0.70538692696 48.8594622311\n",
      "0.4 0.7796 1.46327345783 0.757102122585 0.706171335248 48.8745032608\n",
      "0.41 0.7795 1.46495550661 0.758032418174 0.706923088433 48.8889195421\n",
      "0.42 0.7795 1.46657851116 0.758934815788 0.707643695367 48.902749264\n",
      "0.43 0.7797 1.46814818969 0.759812566841 0.708335622852 48.9160275587\n",
      "0.44 0.7796 1.46965596581 0.760656601918 0.708999363895 48.9287868062\n",
      "0.45 0.7794 1.47110552062 0.761467259595 0.709638261029 48.9410568939\n",
      "0.46 0.7792 1.4725006797 0.762247528105 0.710253151596 48.9528654567\n",
      "0.47 0.7792 1.4738675069 0.763022346411 0.71084516049 48.9642380832\n",
      "0.48 0.7792 1.47518727337 0.763771770873 0.711415502496 48.9751985018\n",
      "0.49 0.7792 1.47646022822 0.764494754468 0.711965473748 48.9857687482\n",
      "0.5 0.779 1.47768720923 0.765191839137 0.712495370088 48.9959693127\n",
      "0.51 0.7788 1.47887266667 0.765865010076 0.713007656597 49.0058192749\n",
      "0.52 0.7786 1.48001728777 0.766515278173 0.713502009592 49.0153364209\n",
      "0.53 0.7785 1.48112408797 0.767143973283 0.713980114691 49.0245373539\n",
      "0.54 0.7783 1.4821942848 0.767751801962 0.71444248284 49.0334375892\n",
      "0.55 0.7781 1.48324170397 0.768340052078 0.714901651894 49.0420516425\n",
      "0.56 0.778 1.48425971674 0.768909453442 0.715350263293 49.0503931091\n",
      "0.57 0.7779 1.48524596658 0.769461013038 0.715784953537 49.0584747362\n",
      "0.58 0.7777 1.48620164701 0.769995620578 0.71620602643 49.0663084876\n",
      "0.59 0.7777 1.48712835756 0.77051403514 0.716614322422 49.0739056031\n",
      "0.6 0.7776 1.48802759174 0.771016952332 0.717010639407 49.0812766527\n",
      "0.61 0.7776 1.48889989641 0.771505004963 0.717394891444 49.088431585\n",
      "0.62 0.7776 1.48974718197 0.771978980707 0.717768201261 49.095379774\n",
      "0.63 0.7775 1.49057031667 0.772439654199 0.718130662467 49.1021300583\n",
      "0.64 0.7776 1.49137013153 0.772887010485 0.718483121049 49.1086907793\n",
      "0.65 0.7775 1.49214788169 0.773322230462 0.718825651232 49.1150698161\n",
      "0.66 0.7773 1.49291042281 0.773745195812 0.719165226995 49.121274617\n",
      "0.67 0.7773 1.49365706891 0.774156541853 0.719500527055 49.1273122283\n",
      "0.68 0.7773 1.49438438527 0.774557338116 0.719827047157 49.1331893207\n",
      "0.69 0.7773 1.49509225118 0.774947423229 0.72014482795 49.1389122153\n",
      "0.7 0.7773 1.49578147249 0.775327195593 0.720454276902 49.1444869047\n",
      "0.71 0.7773 1.49645323997 0.775697378541 0.720755861425 49.1499190754\n",
      "0.72 0.7773 1.49710785574 0.776058104193 0.721049751547 49.1552141261\n",
      "0.73 0.7772 1.49774614313 0.77640983226 0.721336310872 49.1603771862\n",
      "0.74 0.7771 1.49836857297 0.776752783539 0.721615789435 49.1654131323\n",
      "0.75 0.7771 1.49897596584 0.777087517888 0.72188844795 49.1703266037\n",
      "0.76 0.7771 1.499568716 0.777414085643 0.722154630355 49.1751220163\n",
      "0.77 0.7771 1.50014716918 0.777732849604 0.722414319579 49.1798035765\n",
      "0.78 0.7771 1.50071210714 0.778044180924 0.722667926216 49.1843752928\n",
      "0.79 0.7771 1.50126391864 0.778348184036 0.722915734608 49.1888409877\n",
      "0.8 0.7771 1.50180299265 0.778645184508 0.723157808142 49.1932043084\n",
      "0.81 0.7772 1.50233116061 0.778935525142 0.723395635464 49.1974687366\n",
      "0.82 0.7772 1.50286000738 0.779219341368 0.723640666014 49.2016375978\n",
      "0.83 0.7772 1.50337708268 0.779496840812 0.723880241872 49.2057140701\n",
      "0.84 0.7772 1.50388278012 0.77976823728 0.724114542844 49.2097011921\n",
      "0.85 0.7772 1.50437754689 0.780033766238 0.724343780656 49.2136018705\n",
      "0.86 0.7772 1.50486157229 0.780293473447 0.724568098843 49.2174188871\n",
      "0.87 0.7772 1.50533529176 0.780547704269 0.724787587488 49.221154906\n",
      "0.88 0.7772 1.50579893613 0.780796506533 0.725002429596 49.224812479\n",
      "0.89 0.7772 1.50625297291 0.781040151903 0.725212821007 49.2283940517\n",
      "0.9 0.7774 1.50669772779 0.781278806467 0.725418921321 49.2319019696\n",
      "0.91 0.7774 1.50713331119 0.781512560557 0.725620750629 49.2353384819\n",
      "0.92 0.7774 1.50756002322 0.781741610759 0.725818412466 49.2387057476\n",
      "0.93 0.7773 1.5079782693 0.781966120736 0.726012148563 49.2420058395\n",
      "0.94 0.7773 1.50838826703 0.782186213977 0.726202053054 49.2452407482\n",
      "0.95 0.7772 1.50879026408 0.782401920173 0.726388343908 49.2484123867\n",
      "0.96 0.7772 1.50918439743 0.782613448064 0.726570949365 49.2515225936\n",
      "0.97 0.7772 1.509570949 0.782820904642 0.726750044359 49.254573137\n",
      "0.98 0.7772 1.50995012736 0.783024407229 0.726925720127 49.2575657178\n",
      "0.99 0.7772 1.51032206303 0.783223989321 0.72709807371 49.2605019729\n"
     ]
    }
   ],
   "source": [
    "# b0 = np.array([ee for ee in real_b1.flat])\n",
    "# b1 = np.array([ee for ee in real_b2.flat])\n",
    "b0 = np.array([ee for ee in eb1.flat])\n",
    "b1 = np.array([ee for ee in eb2.flat])\n",
    "bnds = ((-3, 3), (-3, 3))\n",
    "# r_funs=[]\n",
    "# nit = 0\n",
    "for w in [ii/100. for ii in range(100)]:\n",
    "    r_fun = 0\n",
    "    su = 0\n",
    "    ab1 = []\n",
    "    ab2 = []\n",
    "    theta_min1 = []\n",
    "    theta_min2 = []\n",
    "    for i in range(100):\n",
    "        y = np.array([ee for ee in uv[i].flat])\n",
    "        fun = lambda x: sum(np.log(1+ np.exp(-(x[0]-b0)))+np.log(1+ np.exp(-(x[1]-b1)))-(1-y)*np.log((1+ np.exp(-(x[0]-b0)))*(1+ np.exp(-(x[1]-b1)))-1))/n_items+w*(x[0]**2+x[1]**2)\n",
    "    #     fun = lambda x: sum(np.log(1+ np.exp(-(x[0]-b0)))+np.log(1+ np.exp(-(x[1]-b1)))-(1-y)*np.log((1+ np.exp(-(x[0]-b0)))*(1+ np.exp(-(x[1]-b1)))-1))\n",
    "        res = minimize(fun, (et1[i][0],et2[i][0]), bounds=bnds,method='L-BFGS-B')\n",
    "    #     res = minimize(fun, (et1[i][0],et2[i][0]), bounds=bnds,method='TNC')\n",
    "    #     res = minimize(fun, (et1[i][0],et2[i][0]), bounds=bnds,method='SLSQP')\n",
    "    #     res = minimize(fun, (et1[i][0],et2[i][0]),method='L-BFGS-B')\n",
    "    #     res = minimize(fun, (et1[i][0],et2[i][0]),method='TNC')\n",
    "    #     res = minimize(fun, (et1[i][0],et2[i][0]),method='SLSQP')\n",
    "        r_fun += res.fun \n",
    "#         nit += res.nit\n",
    "        # 存储t\n",
    "        theta_min1.append(res.x[0])\n",
    "        theta_min2.append(res.x[1])\n",
    "        # 存储t的差值\n",
    "        ab1.append(real_theta1[i][0]-res.x[0])\n",
    "        ab2.append(real_theta2[i][0]-res.x[1])\n",
    "        result = k<1.0/ (1.0 + np.exp(-(res.x[0]-b0)))/ (1.0 + np.exp(-(res.x[1]-b1)))\n",
    "        su += sum(result==y)\n",
    "    print w,su/100./100.,sum([abs(aa) for aa in ab1])/100.+sum([abs(aa) for aa in ab2])/100.,sum([abs(aa) for aa in ab1])/100.,sum([abs(aa) for aa in ab2])/100.,r_fun\n",
    "# plt.hist(ab1,10, histtype='step', normed=True, label='post')\n",
    "# plt.hist(ab2,100, histtype='step', normed=True, label='post')\n",
    "#         plt.scatter(r_fun/100.)\n",
    "#         print nit/100.\n",
    "#         print su/100./100."
   ]
  },
  {
   "cell_type": "code",
   "execution_count": 301,
   "metadata": {
    "collapsed": false
   },
   "outputs": [
    {
     "name": "stdout",
     "output_type": "stream",
     "text": [
      "5432.19290796\n"
     ]
    }
   ],
   "source": [
    "fun = np.sum(np.log(2)+np.log(2)-(1-uv)*np.log(3))\n",
    "print fun"
   ]
  },
  {
   "cell_type": "code",
   "execution_count": 338,
   "metadata": {
    "collapsed": false
   },
   "outputs": [
    {
     "data": {
      "text/plain": [
       "(array([  7.,  11.,  14.,  24.,  23.,  14.,   4.,   2.,   0.,   1.]),\n",
       " array([-1.4167, -1.0712, -0.7256, -0.3801, -0.0345,  0.311 ,  0.6566,\n",
       "         1.0021,  1.3477,  1.6932,  2.0388]),\n",
       " <a list of 1 Patch objects>)"
      ]
     },
     "execution_count": 338,
     "metadata": {},
     "output_type": "execute_result"
    },
    {
     "data": {
      "image/png": "[encoded data removed]",
      "text/plain": [
       "<matplotlib.figure.Figure at 0x1afef4e0>"
      ]
     },
     "metadata": {},
     "output_type": "display_data"
    }
   ],
   "source": [
    "plt.hist(theta_min1,10, histtype='step', normed=False, label='post')"
   ]
  },
  {
   "cell_type": "code",
   "execution_count": 339,
   "metadata": {
    "collapsed": false
   },
   "outputs": [
    {
     "data": {
      "text/plain": [
       "(array([  3.,   4.,  12.,  24.,  16.,  14.,  16.,   6.,   2.,   3.]),\n",
       " array([-1.5415, -1.238 , -0.9346, -0.6311, -0.3277, -0.0242,  0.2792,\n",
       "         0.5827,  0.8862,  1.1896,  1.4931]),\n",
       " <a list of 1 Patch objects>)"
      ]
     },
     "execution_count": 339,
     "metadata": {},
     "output_type": "execute_result"
    },
    {
     "data": {
      "image/png": "[encoded data removed]",
      "text/plain": [
       "<matplotlib.figure.Figure at 0x1b3295f8>"
      ]
     },
     "metadata": {},
     "output_type": "display_data"
    }
   ],
   "source": [
    "plt.hist(theta_min2,10, histtype='step', normed=False, label='post')"
   ]
  },
  {
   "cell_type": "markdown",
   "metadata": {},
   "source": [
    "基本符合正太分布，数值偏向于大于3"
   ]
  },
  {
   "cell_type": "code",
   "execution_count": 331,
   "metadata": {
    "collapsed": false
   },
   "outputs": [
    {
     "name": "stdout",
     "output_type": "stream",
     "text": [
      "[[ 0.375   0.1724]\n",
      " [ 0.1724  0.396 ]]\n"
     ]
    },
    {
     "data": {
      "text/plain": [
       "0.4474"
      ]
     },
     "execution_count": 331,
     "metadata": {},
     "output_type": "execute_result"
    }
   ],
   "source": [
    "a = np.cov(np.array([theta_min1,theta_min2]))\n",
    "import math\n",
    "print a\n",
    "a[0][1]/math.sqrt(a[0][0])/math.sqrt(a[1][1])"
   ]
  },
  {
   "cell_type": "markdown",
   "metadata": {},
   "source": [
    "最优化，误差偏大，相关性太大"
   ]
  },
  {
   "cell_type": "code",
   "execution_count": 315,
   "metadata": {
    "collapsed": false
   },
   "outputs": [
    {
     "name": "stdout",
     "output_type": "stream",
     "text": [
      "[[ 0.4377  0.2857]\n",
      " [ 0.2857  0.5462]]\n"
     ]
    },
    {
     "data": {
      "text/plain": [
       "0.5844"
      ]
     },
     "execution_count": 315,
     "metadata": {},
     "output_type": "execute_result"
    }
   ],
   "source": [
    "a = np.cov(np.array([b0,b1]))\n",
    "print a\n",
    "a[0][1]/math.sqrt(a[0][0])/math.sqrt(a[1][1])"
   ]
  },
  {
   "cell_type": "markdown",
   "metadata": {},
   "source": [
    "pymc计算结果，试题难度明显负相关"
   ]
  },
  {
   "cell_type": "code",
   "execution_count": 316,
   "metadata": {
    "collapsed": false
   },
   "outputs": [
    {
     "name": "stdout",
     "output_type": "stream",
     "text": [
      "[[ 0.4205  0.2297]\n",
      " [ 0.2297  0.4692]]\n"
     ]
    },
    {
     "data": {
      "text/plain": [
       "0.5170"
      ]
     },
     "execution_count": 316,
     "metadata": {},
     "output_type": "execute_result"
    }
   ],
   "source": [
    "t0 = np.array([ee for ee in et1.flat])\n",
    "t1 = np.array([ee for ee in et2.flat])\n",
    "a = np.cov(np.array([t0,t1]))\n",
    "print a\n",
    "a[0][1]/math.sqrt(a[0][0])/math.sqrt(a[1][1])"
   ]
  },
  {
   "cell_type": "markdown",
   "metadata": {},
   "source": [
    "pymc能力正相关，相关性大"
   ]
  },
  {
   "cell_type": "code",
   "execution_count": 298,
   "metadata": {
    "collapsed": false
   },
   "outputs": [
    {
     "name": "stdout",
     "output_type": "stream",
     "text": [
      "[[ 0.9672 -0.1218]\n",
      " [-0.1218  0.9145]]\n"
     ]
    },
    {
     "data": {
      "text/plain": [
       "-0.1295"
      ]
     },
     "execution_count": 298,
     "metadata": {},
     "output_type": "execute_result"
    }
   ],
   "source": [
    "t_real0 = np.array([ee for ee in real_theta1.flat])\n",
    "t_real1 = np.array([ee for ee in real_theta2.flat])\n",
    "a = np.cov(np.array([t_real0,t_real1]))\n",
    "print a\n",
    "a[0][1]/math.sqrt(a[0][0])/math.sqrt(a[1][1])"
   ]
  },
  {
   "cell_type": "markdown",
   "metadata": {},
   "source": [
    "真实数据能力不相关"
   ]
  },
  {
   "cell_type": "code",
   "execution_count": 299,
   "metadata": {
    "collapsed": false
   },
   "outputs": [
    {
     "name": "stdout",
     "output_type": "stream",
     "text": [
      "[[ 1.0014 -0.08  ]\n",
      " [-0.08    0.8948]]\n"
     ]
    },
    {
     "data": {
      "text/plain": [
       "-0.0845"
      ]
     },
     "execution_count": 299,
     "metadata": {},
     "output_type": "execute_result"
    }
   ],
   "source": [
    "b_real0 = np.array([ee for ee in real_b1.flat])\n",
    "b_real1 = np.array([ee for ee in real_b2.flat])\n",
    "a = np.cov(np.array([b_real0,b_real1]))\n",
    "print a\n",
    "a[0][1]/math.sqrt(a[0][0])/math.sqrt(a[1][1])"
   ]
  },
  {
   "cell_type": "markdown",
   "metadata": {},
   "source": [
    "真实数据难度不相关"
   ]
  },
  {
   "cell_type": "code",
   "execution_count": 341,
   "metadata": {
    "collapsed": false
   },
   "outputs": [
    {
     "data": {
      "text/plain": [
       "array([[ 0.2912],\n",
       "       [ 0.5665],\n",
       "       [ 0.5036],\n",
       "       [ 0.2853],\n",
       "       [ 0.4843],\n",
       "       [ 1.3635],\n",
       "       [-0.7811],\n",
       "       [-0.468 ],\n",
       "       [ 1.2246],\n",
       "       [-1.2811],\n",
       "       [ 0.8755],\n",
       "       [-1.7107],\n",
       "       [-0.4508],\n",
       "       [ 0.7492],\n",
       "       [-0.2039],\n",
       "       [-0.1822],\n",
       "       [ 0.6807],\n",
       "       [-1.8185],\n",
       "       [ 0.0471],\n",
       "       [ 0.3948],\n",
       "       [-0.2484],\n",
       "       [-0.6177],\n",
       "       [-0.6829],\n",
       "       [ 0.4363],\n",
       "       [-1.703 ],\n",
       "       [ 0.3937],\n",
       "       [-0.4793],\n",
       "       [-0.299 ],\n",
       "       [ 0.6941],\n",
       "       [ 0.6786],\n",
       "       [ 0.2396],\n",
       "       [ 0.1512],\n",
       "       [ 0.8161],\n",
       "       [ 1.8935],\n",
       "       [ 0.6396],\n",
       "       [-0.962 ],\n",
       "       [-2.0853],\n",
       "       [ 1.9302],\n",
       "       [-1.7353],\n",
       "       [ 1.2104],\n",
       "       [ 0.7974],\n",
       "       [-0.3798],\n",
       "       [ 0.7026],\n",
       "       [-0.8503],\n",
       "       [ 1.1768],\n",
       "       [-0.5243],\n",
       "       [ 0.7009],\n",
       "       [ 0.9842],\n",
       "       [-0.1217],\n",
       "       [ 2.3658],\n",
       "       [ 0.4961],\n",
       "       [ 0.7966],\n",
       "       [-0.474 ],\n",
       "       [-0.0567],\n",
       "       [ 1.3578],\n",
       "       [-0.8048],\n",
       "       [-2.1236],\n",
       "       [-0.3335],\n",
       "       [-0.8867],\n",
       "       [ 0.3342],\n",
       "       [ 0.5368],\n",
       "       [-0.7438],\n",
       "       [-0.3202],\n",
       "       [-0.9162],\n",
       "       [-0.8597],\n",
       "       [ 0.226 ],\n",
       "       [ 0.6288],\n",
       "       [ 0.1865],\n",
       "       [ 0.9525],\n",
       "       [ 0.9881],\n",
       "       [-0.0726],\n",
       "       [-0.5506],\n",
       "       [-0.9382],\n",
       "       [-1.2391],\n",
       "       [ 0.1397],\n",
       "       [-0.223 ],\n",
       "       [ 2.1237],\n",
       "       [ 0.1223],\n",
       "       [-1.4094],\n",
       "       [ 1.423 ],\n",
       "       [-2.1479],\n",
       "       [-1.3475],\n",
       "       [ 0.3636],\n",
       "       [-0.0148],\n",
       "       [ 1.2724],\n",
       "       [-1.4496],\n",
       "       [-1.1955],\n",
       "       [-0.5919],\n",
       "       [-0.4145],\n",
       "       [-1.4258],\n",
       "       [ 0.2094],\n",
       "       [-0.5929],\n",
       "       [-1.4731],\n",
       "       [-0.8966],\n",
       "       [ 1.1044],\n",
       "       [-0.4315],\n",
       "       [-0.1611],\n",
       "       [ 0.8892],\n",
       "       [ 0.2884],\n",
       "       [-1.0515]])"
      ]
     },
     "execution_count": 341,
     "metadata": {},
     "output_type": "execute_result"
    }
   ],
   "source": [
    "real_theta1"
   ]
  },
  {
   "cell_type": "code",
   "execution_count": null,
   "metadata": {
    "collapsed": true
   },
   "outputs": [],
   "source": []
  }
 ],
 "metadata": {
  "kernelspec": {
   "display_name": "Python 2",
   "language": "python",
   "name": "python2"
  },
  "language_info": {
   "codemirror_mode": {
    "name": "ipython",
    "version": 2
   },
   "file_extension": ".py",
   "mimetype": "text/x-python",
   "name": "python",
   "nbconvert_exporter": "python",
   "pygments_lexer": "ipython2",
   "version": "2.7.13"
  }
 },
 "nbformat": 4,
 "nbformat_minor": 2
}
