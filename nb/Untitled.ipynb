{
 "cells": [
  {
   "cell_type": "code",
   "execution_count": 2,
   "metadata": {},
   "outputs": [],
   "source": [
    "import sys\n",
    "sys.path.insert(0,'../')"
   ]
  },
  {
   "cell_type": "code",
   "execution_count": 4,
   "metadata": {},
   "outputs": [],
   "source": [
    "import LSEModel1"
   ]
  },
  {
   "cell_type": "code",
   "execution_count": 5,
   "metadata": {},
   "outputs": [],
   "source": [
    "lse=LSEModel1.LSEModel()"
   ]
  },
  {
   "cell_type": "code",
   "execution_count": 7,
   "metadata": {},
   "outputs": [
    {
     "name": "stdout",
     "output_type": "stream",
     "text": [
      "p [[0.5 0.5]\n",
      " [0.5 0.5]]\n",
      "y [[False  True]\n",
      " [ True  True]]\n",
      "gradient by function:  [ 0.          0.         -0.70710678 -0.70710678  0.          0.70710678\n",
      "  0.          0.70710678 -0.         -1.         -0.         -1.        ]\n",
      "gradient by num:  [ 0.          0.         -0.70610184 -0.70610184  0.00444089  0.71054274\n",
      "  0.          0.71054274  0.         -0.99920072  0.         -0.99920072]\n",
      "error:  [0.         0.         0.00100494 0.00100494 0.00444089 0.00343595\n",
      " 0.         0.00343595 0.         0.00079928 0.         0.00079928]\n"
     ]
    }
   ],
   "source": [
    "gradient, num_gradient = lse.test_gradient()"
   ]
  },
  {
   "cell_type": "code",
   "execution_count": 8,
   "metadata": {},
   "outputs": [
    {
     "name": "stdout",
     "output_type": "stream",
     "text": [
      "Populating the interactive namespace from numpy and matplotlib\n"
     ]
    },
    {
     "name": "stderr",
     "output_type": "stream",
     "text": [
      "C:\\ProgramData\\Anaconda3\\lib\\site-packages\\IPython\\core\\magics\\pylab.py:160: UserWarning: pylab import has clobbered these variables: ['gradient']\n",
      "`%matplotlib` prevents importing * from pylab and numpy\n",
      "  \"\\n`%matplotlib` prevents importing * from pylab and numpy\"\n"
     ]
    }
   ],
   "source": [
    "import numpy as np\n",
    "from collections import OrderedDict\n",
    "%pylab inline"
   ]
  },
  {
   "cell_type": "code",
   "execution_count": 9,
   "metadata": {},
   "outputs": [
    {
     "data": {
      "text/plain": [
       "array([[0, 1, 2, 3, 4],\n",
       "       [5, 6, 7, 8, 9]])"
      ]
     },
     "execution_count": 9,
     "metadata": {},
     "output_type": "execute_result"
    }
   ],
   "source": [
    "a=np.arange(10).reshape(2,5)\n",
    "a"
   ]
  },
  {
   "cell_type": "code",
   "execution_count": 10,
   "metadata": {},
   "outputs": [
    {
     "data": {
      "text/plain": [
       "array([10, 35])"
      ]
     },
     "execution_count": 10,
     "metadata": {},
     "output_type": "execute_result"
    }
   ],
   "source": [
    "a.sum(axis=1)"
   ]
  },
  {
   "cell_type": "code",
   "execution_count": 15,
   "metadata": {},
   "outputs": [
    {
     "name": "stdout",
     "output_type": "stream",
     "text": [
      "p [[0.65882613 0.81496744 0.63965236 0.53698005 0.80068264 0.48182406\n",
      "  0.56800143 0.6931156  0.53633285 0.61020526]\n",
      " [0.73051563 0.85894276 0.66476089 0.60518544 0.82821851 0.54808542\n",
      "  0.62455625 0.73759745 0.60851472 0.68224363]\n",
      " [0.76987141 0.88100783 0.59181571 0.62988816 0.80934806 0.56649384\n",
      "  0.62525707 0.73039378 0.64145878 0.7202266 ]\n",
      " [0.72183628 0.8468764  0.50541484 0.55034899 0.74888724 0.48294699\n",
      "  0.54147489 0.65645773 0.56512732 0.65560878]\n",
      " [0.79326562 0.88832904 0.62287607 0.63705334 0.81891703 0.57366365\n",
      "  0.63328448 0.73840964 0.65005789 0.73167417]\n",
      " [0.63617392 0.79487612 0.52414925 0.48589334 0.7365898  0.42571389\n",
      "  0.49926188 0.62510405 0.49217217 0.57594389]\n",
      " [0.76123118 0.8778412  0.66310226 0.63837037 0.8368006  0.58043266\n",
      "  0.64943614 0.75534237 0.64408342 0.71645592]\n",
      " [0.70088955 0.84452816 0.60090144 0.57733158 0.79918576 0.51771086\n",
      "  0.59045272 0.70612827 0.58208155 0.65790979]\n",
      " [0.6545724  0.81342997 0.58167911 0.52700618 0.77599505 0.46868432\n",
      "  0.54705147 0.67061067 0.52985841 0.60712591]\n",
      " [0.67649138 0.83881759 0.68557201 0.59577467 0.83762164 0.54382294\n",
      "  0.62985765 0.74516358 0.59111646 0.65394142]\n",
      " [0.79788087 0.89207714 0.63260601 0.64773524 0.82580577 0.58522368\n",
      "  0.64444077 0.74763263 0.66014962 0.739603  ]\n",
      " [0.78178261 0.89535674 0.7214867  0.69057307 0.87103245 0.63855623\n",
      "  0.70635641 0.80133219 0.69245697 0.75346928]\n",
      " [0.66010635 0.82553065 0.66256669 0.56830485 0.82128938 0.51515667\n",
      "  0.60209366 0.72221544 0.56456476 0.63088481]\n",
      " [0.68586863 0.82030068 0.58482724 0.51888619 0.76904937 0.45832986\n",
      "  0.53447443 0.6594126  0.5261585  0.61251377]\n",
      " [0.82755963 0.91302296 0.70540439 0.71006436 0.86769022 0.6545947\n",
      "  0.71185406 0.80243416 0.71859112 0.78500334]\n",
      " [0.54669993 0.73956402 0.53327053 0.43373722 0.72557532 0.38101508\n",
      "  0.46566089 0.59924599 0.43185914 0.50418486]\n",
      " [0.75442512 0.87170096 0.57756418 0.61052829 0.79836703 0.54657712\n",
      "  0.6070621  0.71542108 0.62194485 0.70267247]\n",
      " [0.72732849 0.8500289  0.59807992 0.56934681 0.79102205 0.50714588\n",
      "  0.57736692 0.69449238 0.57844254 0.66258412]\n",
      " [0.66177467 0.79540724 0.44269015 0.4530456  0.68011462 0.38739671\n",
      "  0.4469641  0.5691767  0.46910617 0.56876812]\n",
      " [0.58316772 0.76533461 0.53058601 0.46029789 0.73345037 0.40444152\n",
      "  0.48485426 0.61485536 0.46124924 0.53736868]\n",
      " [0.61022931 0.76685559 0.45253958 0.4303254  0.67968372 0.36947682\n",
      "  0.43593108 0.56178964 0.44063151 0.53172304]\n",
      " [0.83197818 0.92159568 0.73119618 0.74530603 0.88679131 0.69515307\n",
      "  0.74936103 0.83075184 0.75050337 0.80655778]\n",
      " [0.80398152 0.90242425 0.69598111 0.69106201 0.86116056 0.63543906\n",
      "  0.69710089 0.79187031 0.69773762 0.76445604]\n",
      " [0.67120437 0.82304194 0.61277156 0.54373086 0.79252263 0.48619035\n",
      "  0.56648126 0.68893177 0.54590387 0.62220239]\n",
      " [0.52491216 0.72004012 0.52037956 0.40926105 0.7098294  0.35805447\n",
      "  0.44273416 0.57784592 0.40710528 0.47900553]\n",
      " [0.73019331 0.85313818 0.61829634 0.57955433 0.80212305 0.51862286\n",
      "  0.5906817  0.70692198 0.58722884 0.6688661 ]\n",
      " [0.72580341 0.86631934 0.69930333 0.63887375 0.85240958 0.58620609\n",
      "  0.66414237 0.77054846 0.63739165 0.70029249]\n",
      " [0.59505485 0.76808012 0.51870447 0.45524657 0.72428971 0.39808152\n",
      "  0.47566535 0.60515985 0.45858776 0.53887967]\n",
      " [0.67177554 0.83674251 0.63967818 0.58604544 0.81945153 0.53124898\n",
      "  0.61177173 0.72727719 0.58416575 0.64991953]\n",
      " [0.75009736 0.87014952 0.60688167 0.61398133 0.81028532 0.5522546\n",
      "  0.61708975 0.72602168 0.62290447 0.70083263]\n",
      " [0.76212671 0.88433221 0.66815096 0.66101228 0.84700016 0.60494929\n",
      "  0.67156826 0.77226344 0.66507426 0.73136811]\n",
      " [0.80741657 0.90653247 0.73542153 0.70995304 0.87868347 0.65834764\n",
      "  0.72221296 0.81290461 0.71356916 0.7744988 ]\n",
      " [0.6250923  0.81225929 0.69697186 0.56768007 0.83627265 0.51921905\n",
      "  0.61489087 0.73631068 0.55739099 0.61455055]\n",
      " [0.67278788 0.83161066 0.61508898 0.56659239 0.80301998 0.50961589\n",
      "  0.5882304  0.70654042 0.56745594 0.63884018]\n",
      " [0.71789042 0.84410999 0.52162602 0.54813032 0.75460452 0.48189927\n",
      "  0.54339533 0.65974666 0.56158837 0.65112809]\n",
      " [0.77860413 0.89170974 0.66759686 0.67161873 0.84882495 0.61492266\n",
      "  0.67822671 0.77660498 0.67739787 0.74454596]\n",
      " [0.76969123 0.87296171 0.62440438 0.60678132 0.81015631 0.54390659\n",
      "  0.60981843 0.72118012 0.61815682 0.70223372]\n",
      " [0.82123742 0.90152338 0.60757742 0.65492075 0.81705175 0.58912025\n",
      "  0.6409327  0.74187994 0.6720341  0.75584813]\n",
      " [0.5463582  0.71258765 0.39664011 0.36114694 0.61981182 0.30516546\n",
      "  0.36830138 0.49287491 0.37081864 0.46026062]\n",
      " [0.71082768 0.8474791  0.61519047 0.57956661 0.80370732 0.52005313\n",
      "  0.59369561 0.70967976 0.58470402 0.6618295 ]\n",
      " [0.84533073 0.91833253 0.65600532 0.70501217 0.8488475  0.64415333\n",
      "  0.69304159 0.78413806 0.71961986 0.79303034]\n",
      " [0.65758895 0.83246391 0.6995257  0.59600747 0.8441659  0.54636332\n",
      "  0.63627587 0.75180611 0.58803842 0.64602778]\n",
      " [0.75159082 0.87726515 0.6878993  0.64963317 0.84993441 0.59482536\n",
      "  0.6670022  0.77088991 0.65176703 0.71811296]\n",
      " [0.78985226 0.88839695 0.64865144 0.64495625 0.83093732 0.58396044\n",
      "  0.64679758 0.75110033 0.65540007 0.73324408]\n",
      " [0.62210268 0.79601359 0.5981309  0.51200671 0.77934707 0.45682913\n",
      "  0.5417542  0.66881993 0.51070512 0.58299617]\n",
      " [0.82631653 0.91340844 0.67605608 0.70862199 0.8590342  0.65141006\n",
      "  0.70497866 0.7952026  0.71863349 0.78586821]\n",
      " [0.73938562 0.86144423 0.59089738 0.59295838 0.79728738 0.5302105\n",
      "  0.59597811 0.70833256 0.60264163 0.68397606]\n",
      " [0.7189144  0.83659264 0.48748821 0.51941288 0.72634388 0.45089745\n",
      "  0.50883822 0.62691868 0.53678656 0.63456969]\n",
      " [0.72918241 0.85133858 0.59898457 0.57179947 0.79216513 0.50957258\n",
      "  0.57952244 0.69624863 0.58094959 0.66490495]\n",
      " [0.81340837 0.89394694 0.5492269  0.62494199 0.78531398 0.55452759\n",
      "  0.60223201 0.70674019 0.64622687 0.73829844]]\n",
      "y [[ True  True  True  True  True  True  True False  True  True]\n",
      " [ True  True  True  True  True False  True  True False  True]\n",
      " [ True  True False False  True  True False  True  True  True]\n",
      " [ True  True False False  True  True False  True False False]\n",
      " [ True False  True False  True  True  True False  True  True]\n",
      " [ True  True False False  True  True  True False False False]\n",
      " [ True  True False  True False  True  True  True  True  True]\n",
      " [ True  True False False  True False False  True  True  True]\n",
      " [ True  True False  True  True  True  True False  True  True]\n",
      " [False  True  True  True  True  True  True  True  True  True]\n",
      " [False False  True False  True  True  True  True False  True]\n",
      " [ True  True  True  True False  True  True  True  True False]\n",
      " [False False False False  True  True  True  True False False]\n",
      " [False  True False  True  True  True  True  True  True  True]\n",
      " [ True False  True  True  True False False  True  True  True]\n",
      " [ True False  True  True  True False False  True  True  True]\n",
      " [ True  True False  True  True  True  True False  True  True]\n",
      " [ True  True  True False  True  True  True  True False  True]\n",
      " [False  True False  True False False False False  True  True]\n",
      " [False  True False False  True False  True False  True False]\n",
      " [False  True  True False  True  True  True  True False False]\n",
      " [ True  True  True  True  True  True  True False  True  True]\n",
      " [ True  True False  True  True  True  True  True  True  True]\n",
      " [ True  True False  True  True  True False  True False False]\n",
      " [ True  True  True  True  True False  True  True False  True]\n",
      " [ True  True  True False  True False  True  True False  True]\n",
      " [False  True  True  True  True False  True  True  True  True]\n",
      " [False  True False  True False  True False  True  True False]\n",
      " [ True  True  True  True  True False  True False False  True]\n",
      " [False  True False False  True False  True  True False False]\n",
      " [ True  True  True  True  True False  True False  True  True]\n",
      " [ True  True  True  True False  True False  True  True  True]\n",
      " [False False False False  True  True  True  True False  True]\n",
      " [ True  True False False  True  True  True  True False  True]\n",
      " [ True  True  True  True  True False False  True  True  True]\n",
      " [False  True  True  True  True False  True  True False  True]\n",
      " [ True  True  True  True False  True  True  True  True  True]\n",
      " [ True  True  True  True  True  True  True False  True False]\n",
      " [ True  True False  True False False  True  True False False]\n",
      " [False  True False False  True  True False  True  True  True]\n",
      " [ True  True  True False  True  True  True False False  True]\n",
      " [ True  True  True  True False False False  True  True False]\n",
      " [ True False False False  True False  True False  True  True]\n",
      " [False  True  True  True  True False False  True False False]\n",
      " [ True  True  True False  True False  True  True False  True]\n",
      " [ True  True  True False  True False  True  True  True  True]\n",
      " [ True  True False  True  True  True False False False False]\n",
      " [ True  True False  True  True False  True False  True  True]\n",
      " [ True  True False  True  True  True  True  True  True False]\n",
      " [ True False  True  True  True  True  True  True  True  True]]\n",
      "error:  [0.44856843 0.58522675 0.63939227 0.32729851 0.61681261 0.34686825\n",
      " 0.70159494 0.42983863 0.33728539 0.08157078 0.2618915  0.75710047\n",
      " 0.32129315 0.4438162  0.38972734 0.31837286 0.42690374 0.30358121\n",
      " 0.1051409  0.2461722  0.5411854  0.05511043 0.81129187 0.28818426\n",
      " 0.37186355 0.00422391 0.17075094 0.16218263 0.69123051 0.38978223\n",
      " 0.30321172 0.0494148  0.24241969 0.1198043  0.53456912 0.00565069\n",
      " 0.27196468 0.22896794 0.36684629 0.4064549  0.46715392 0.18107233\n",
      " 0.37475096 0.53804398 0.27925222 0.35051585 0.06429309 0.42450532\n",
      " 0.65785862 0.28097694 0.08593513 0.28638197 0.41523277 0.09813322\n",
      " 0.53789685 0.35850062 0.35951016 0.51628706 0.41007679 0.44719487\n",
      " 0.58558651 0.26325512 0.58382895 0.16723939 0.04053323 0.1029095\n",
      " 0.48872152 0.44572741 0.11579849 0.03961831 0.23454099 0.27343101\n",
      " 0.16480176 0.37765747 0.2769541  0.45946527 0.51736684 0.01953825\n",
      " 0.18536837 0.36367603 0.54663353 0.47037654 0.28855517 0.30849578\n",
      " 0.45133323 0.1392175  0.37846734 0.36338975 0.229069   0.49868758\n",
      " 0.0372354  0.31810102 0.10242626 0.37488614 0.03313488 0.31443352\n",
      " 0.01920505 0.17190203 0.29202972 0.40397534 0.18513235 0.77938565\n",
      " 0.6935846  0.33657013 0.66561736 0.04967445 0.45123544 0.05655998\n",
      " 0.21053708 0.7040642  0.32200094 0.54302557 0.40148516 0.52156071\n",
      " 0.77896364 0.29221259 0.02740383 0.69069955 0.03686833 0.26675189\n",
      " 0.75119297 0.02548907 0.03423877 0.13811108 0.08753095 0.22744412\n",
      " 0.25996451 0.57711967 0.44975024 0.07191609 0.03628634 0.68927101\n",
      " 0.29897651 0.44355803 0.12778475 0.63454974 0.05686842 0.26114057\n",
      " 0.33757571 0.4387373  0.41605406 0.08606285 0.24651593 0.352981\n",
      " 0.55977279 0.22406086 0.27815885 0.53774986 0.22651056 0.59676158\n",
      " 0.40471403 0.28797443 0.44376993 0.63665108 0.55785573 0.35005258\n",
      " 0.15302741 0.33899422 0.20239991 0.6267332  0.60751142 0.22982924\n",
      " 0.51361776 0.46799418 0.20557387 0.20796446 0.56624348 0.183631\n",
      " 0.27997091 0.18860005 0.88807122 0.33063681 0.09566701 0.46622809\n",
      " 0.22043617 0.11066383 0.56962468 0.36184284 0.63331379 0.56099212]\n"
     ]
    },
    {
     "data": {
      "image/png": "[encoded data removed]",
      "text/plain": [
       "<matplotlib.figure.Figure at 0x237dc667080>"
      ]
     },
     "metadata": {},
     "output_type": "display_data"
    }
   ],
   "source": [
    "num_students=50\n",
    "num_questions = 10\n",
    "embedding_dimension = 2\n",
    "s=np.random.random((num_students,embedding_dimension))\n",
    "a=np.random.random((embedding_dimension,num_questions))\n",
    "gms=np.random.random((num_students,1))\n",
    "gmq=np.random.random((1,num_questions))\n",
    "# s[:]=1\n",
    "# a[:]=1\n",
    "# gms[:]=0\n",
    "# gmq[:]=0\n",
    "p=lse.prob(s,a,gms,gmq)\n",
    "\n",
    "y=np.random.random(p.shape)<p\n",
    "\n",
    "x,_dict = lse.stretch2(OrderedDict([('s',s),('a',a),('gms',gms),('gmq',gmq)]))\n",
    "# print _dict\n",
    "cost,gradient=lse.auxiliary(x,y,0,_dict)\n",
    "num_gradient = np.zeros(x.shape)\n",
    "delta_x=1e-13\n",
    "for i in range(x.size):\n",
    "    x[i]+=delta_x\n",
    "    num_gradient[i]=(lse.auxiliary(x,y,0,_dict)[0]-cost)/delta_x\n",
    "    x[i]-=delta_x\n",
    "# print ('gradient by function: ',gradient)\n",
    "# print ('gradient by num: ',num_gradient)\n",
    "abs_erros=np.abs(gradient - num_gradient)\n",
    "print ('error: ', abs_erros)\n",
    "pylab.hist(abs_erros, bins=100)\n",
    "pylab.show()"
   ]
  },
  {
   "cell_type": "code",
   "execution_count": 13,
   "metadata": {},
   "outputs": [
    {
     "data": {
      "text/plain": [
       "array([ 4.29761596e-01,  4.29761596e-01,  4.29761596e-01,  4.29761596e-01,\n",
       "        2.91089003e-01,  2.91089003e-01,  1.38672593e-01,  1.38672593e-01,\n",
       "        0.00000000e+00,  0.00000000e+00,  0.00000000e+00,  0.00000000e+00,\n",
       "        4.29761596e-01,  4.29761596e-01,  1.38672593e-01,  1.38672593e-01,\n",
       "        4.29761596e-01,  4.29761596e-01,  0.00000000e+00,  0.00000000e+00,\n",
       "        1.38672593e-01,  1.38672593e-01,  1.38672593e-01,  1.38672593e-01,\n",
       "        1.38672593e-01,  1.38672593e-01,  0.00000000e+00,  0.00000000e+00,\n",
       "        0.00000000e+00,  0.00000000e+00,  0.00000000e+00,  0.00000000e+00,\n",
       "       -2.77345185e-01, -2.77345185e-01,  0.00000000e+00,  0.00000000e+00,\n",
       "        0.00000000e+00,  0.00000000e+00,  0.00000000e+00,  0.00000000e+00,\n",
       "       -2.77345185e-01, -2.77345185e-01, -1.52416411e-01, -1.52416411e-01,\n",
       "        1.38672593e-01,  1.38672593e-01,  1.38672593e-01,  1.38672593e-01,\n",
       "       -1.38672593e-01, -1.38672593e-01,  4.29761596e-01,  4.29761596e-01,\n",
       "        4.29761596e-01,  4.29761596e-01,  2.77345185e-01,  2.77345185e-01,\n",
       "        0.00000000e+00,  0.00000000e+00,  2.77345185e-01,  2.77345185e-01,\n",
       "        1.52416411e-01,  1.52416411e-01,  1.37438183e-02,  1.37438183e-02,\n",
       "        1.38672593e-01,  1.38672593e-01,  2.77345185e-01,  2.77345185e-01,\n",
       "        4.29761596e-01,  4.29761596e-01,  1.52416411e-01,  1.52416411e-01,\n",
       "        2.77345185e-01,  2.77345185e-01,  1.52416411e-01,  1.52416411e-01,\n",
       "        0.00000000e+00,  0.00000000e+00,  2.77345185e-01,  2.77345185e-01,\n",
       "        1.52416411e-01,  1.52416411e-01,  1.52416411e-01,  1.52416411e-01,\n",
       "        0.00000000e+00,  0.00000000e+00, -1.52416411e-01, -1.52416411e-01,\n",
       "        0.00000000e+00,  0.00000000e+00, -1.38672593e-01, -1.38672593e-01,\n",
       "        2.77345185e-01,  2.77345185e-01,  2.77345185e-01,  2.77345185e-01,\n",
       "        2.77345185e-01,  2.77345185e-01,  1.38672593e-01,  1.38672593e-01,\n",
       "        1.11022302e-16,  5.54690370e-01,  1.66160229e-01,  2.77345185e-01,\n",
       "        1.38672593e-01,  2.77345185e-01,  1.38672593e-01,  4.29761596e-01,\n",
       "       -1.11022302e-16,  7.07106781e-01,  1.11022302e-16,  5.54690370e-01,\n",
       "        7.34594418e-01,  2.77345185e-01,  1.38672593e-01,  2.77345185e-01,\n",
       "        7.07106781e-01,  4.29761596e-01, -1.11022302e-16,  7.07106781e-01,\n",
       "        1.36868377e-01,  1.36868377e-01,  2.73736754e-01, -1.36868377e-01,\n",
       "       -0.00000000e+00, -0.00000000e+00,  1.36868377e-01, -1.36868377e-01,\n",
       "        1.36868377e-01, -0.00000000e+00, -1.36868377e-01, -1.36868377e-01,\n",
       "       -1.36868377e-01, -0.00000000e+00, -0.00000000e+00, -0.00000000e+00,\n",
       "        2.73736754e-01, -0.00000000e+00, -0.00000000e+00, -0.00000000e+00,\n",
       "        2.73736754e-01,  1.57829057e-01, -1.36868377e-01, -1.36868377e-01,\n",
       "        1.36868377e-01,  1.36868377e-01,  1.36868377e-01,  2.94697434e-01,\n",
       "       -0.00000000e+00,  2.94697434e-01,  4.10605132e-01, -2.09606797e-02,\n",
       "       -1.36868377e-01,  2.94697434e-01,  1.36868377e-01,  4.10605132e-01,\n",
       "        2.94697434e-01,  4.10605132e-01, -0.00000000e+00, -2.73736754e-01,\n",
       "        4.10605132e-01,  4.10605132e-01, -0.00000000e+00,  1.57829057e-01,\n",
       "       -0.00000000e+00,  1.36868377e-01,  2.94697434e-01, -2.73736754e-01,\n",
       "        2.94697434e-01, -1.36868377e-01, -0.00000000e+00, -2.09606797e-02,\n",
       "        1.78789737e-01,  2.73736754e-01,  1.36868377e-01,  2.73736754e-01,\n",
       "        1.36868377e-01, -1.36868377e-01, -0.00000000e+00,  1.36868377e-01])"
      ]
     },
     "execution_count": 13,
     "metadata": {},
     "output_type": "execute_result"
    }
   ],
   "source": [
    "gradient - num_gradient"
   ]
  },
  {
   "cell_type": "code",
   "execution_count": null,
   "metadata": {},
   "outputs": [],
   "source": []
  }
 ],
 "metadata": {
  "kernelspec": {
   "display_name": "Python 3",
   "language": "python",
   "name": "python3"
  },
  "language_info": {
   "codemirror_mode": {
    "name": "ipython",
    "version": 3
   },
   "file_extension": ".py",
   "mimetype": "text/x-python",
   "name": "python",
   "nbconvert_exporter": "python",
   "pygments_lexer": "ipython3",
   "version": "3.6.4"
  }
 },
 "nbformat": 4,
 "nbformat_minor": 2
}
