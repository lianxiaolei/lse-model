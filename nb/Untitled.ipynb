{
 "cells": [
  {
   "cell_type": "code",
   "execution_count": 1,
   "metadata": {
    "collapsed": true
   },
   "outputs": [],
   "source": [
    "import sys\n",
    "sys.path.insert(0,'../')"
   ]
  },
  {
   "cell_type": "code",
   "execution_count": 2,
   "metadata": {
    "collapsed": false
   },
   "outputs": [],
   "source": [
    "import LSEModel"
   ]
  },
  {
   "cell_type": "code",
   "execution_count": 3,
   "metadata": {
    "collapsed": true
   },
   "outputs": [],
   "source": [
    "lse=LSEModel.LSEModel()"
   ]
  },
  {
   "cell_type": "code",
   "execution_count": 4,
   "metadata": {
    "collapsed": false
   },
   "outputs": [
    {
     "name": "stdout",
     "output_type": "stream",
     "text": [
      "p [[ 0.5  0.5]\n",
      " [ 0.5  0.5]]\n",
      "y [[False  True]\n",
      " [False False]]\n",
      "gradient by function:  [ 0.          0.          0.70710678  0.70710678 -0.70710678  0.\n",
      " -0.70710678  0.         -0.          1.          1.         -0.        ]\n",
      "gradient by num:  [ 0.          0.          0.70610184  0.70610184 -0.71054274  0.\n",
      " -0.71054274  0.          0.          0.99920072  0.99920072  0.        ]\n",
      "error:  [ 0.          0.          0.00100494  0.00100494  0.00343595  0.\n",
      "  0.00343595  0.          0.          0.00079928  0.00079928  0.        ]\n"
     ]
    },
    {
     "data": {
      "text/plain": [
       "(array([ 0.        ,  0.        ,  0.70710678,  0.70710678, -0.70710678,\n",
       "         0.        , -0.70710678,  0.        , -0.        ,  1.        ,\n",
       "         1.        , -0.        ]),\n",
       " array([ 0.        ,  0.        ,  0.70610184,  0.70610184, -0.71054274,\n",
       "         0.        , -0.71054274,  0.        ,  0.        ,  0.99920072,\n",
       "         0.99920072,  0.        ]))"
      ]
     },
     "execution_count": 4,
     "metadata": {},
     "output_type": "execute_result"
    }
   ],
   "source": [
    "lse.test_gradient()"
   ]
  },
  {
   "cell_type": "code",
   "execution_count": 10,
   "metadata": {
    "collapsed": false
   },
   "outputs": [
    {
     "name": "stdout",
     "output_type": "stream",
     "text": [
      "Populating the interactive namespace from numpy and matplotlib\n"
     ]
    },
    {
     "name": "stderr",
     "output_type": "stream",
     "text": [
      "C:\\ProgramData\\Anaconda2\\lib\\site-packages\\IPython\\core\\magics\\pylab.py:161: UserWarning: pylab import has clobbered these variables: ['gradient']\n",
      "`%matplotlib` prevents importing * from pylab and numpy\n",
      "  \"\\n`%matplotlib` prevents importing * from pylab and numpy\"\n"
     ]
    }
   ],
   "source": [
    "import numpy as np\n",
    "from collections import OrderedDict\n",
    "%pylab inline"
   ]
  },
  {
   "cell_type": "code",
   "execution_count": 6,
   "metadata": {
    "collapsed": false
   },
   "outputs": [
    {
     "data": {
      "text/plain": [
       "array([[0, 1, 2, 3, 4],\n",
       "       [5, 6, 7, 8, 9]])"
      ]
     },
     "execution_count": 6,
     "metadata": {},
     "output_type": "execute_result"
    }
   ],
   "source": [
    "a=np.arange(10).reshape(2,5)\n",
    "a"
   ]
  },
  {
   "cell_type": "code",
   "execution_count": 7,
   "metadata": {
    "collapsed": false
   },
   "outputs": [
    {
     "data": {
      "text/plain": [
       "array([10, 35])"
      ]
     },
     "execution_count": 7,
     "metadata": {},
     "output_type": "execute_result"
    }
   ],
   "source": [
    "a.sum(axis=1)"
   ]
  },
  {
   "cell_type": "code",
   "execution_count": 13,
   "metadata": {
    "collapsed": false
   },
   "outputs": [
    {
     "name": "stdout",
     "output_type": "stream",
     "text": [
      "p [[ 0.5  0.5  0.5  0.5  0.5  0.5  0.5  0.5  0.5  0.5]\n",
      " [ 0.5  0.5  0.5  0.5  0.5  0.5  0.5  0.5  0.5  0.5]\n",
      " [ 0.5  0.5  0.5  0.5  0.5  0.5  0.5  0.5  0.5  0.5]\n",
      " [ 0.5  0.5  0.5  0.5  0.5  0.5  0.5  0.5  0.5  0.5]\n",
      " [ 0.5  0.5  0.5  0.5  0.5  0.5  0.5  0.5  0.5  0.5]\n",
      " [ 0.5  0.5  0.5  0.5  0.5  0.5  0.5  0.5  0.5  0.5]\n",
      " [ 0.5  0.5  0.5  0.5  0.5  0.5  0.5  0.5  0.5  0.5]\n",
      " [ 0.5  0.5  0.5  0.5  0.5  0.5  0.5  0.5  0.5  0.5]\n",
      " [ 0.5  0.5  0.5  0.5  0.5  0.5  0.5  0.5  0.5  0.5]\n",
      " [ 0.5  0.5  0.5  0.5  0.5  0.5  0.5  0.5  0.5  0.5]\n",
      " [ 0.5  0.5  0.5  0.5  0.5  0.5  0.5  0.5  0.5  0.5]\n",
      " [ 0.5  0.5  0.5  0.5  0.5  0.5  0.5  0.5  0.5  0.5]\n",
      " [ 0.5  0.5  0.5  0.5  0.5  0.5  0.5  0.5  0.5  0.5]\n",
      " [ 0.5  0.5  0.5  0.5  0.5  0.5  0.5  0.5  0.5  0.5]\n",
      " [ 0.5  0.5  0.5  0.5  0.5  0.5  0.5  0.5  0.5  0.5]\n",
      " [ 0.5  0.5  0.5  0.5  0.5  0.5  0.5  0.5  0.5  0.5]\n",
      " [ 0.5  0.5  0.5  0.5  0.5  0.5  0.5  0.5  0.5  0.5]\n",
      " [ 0.5  0.5  0.5  0.5  0.5  0.5  0.5  0.5  0.5  0.5]\n",
      " [ 0.5  0.5  0.5  0.5  0.5  0.5  0.5  0.5  0.5  0.5]\n",
      " [ 0.5  0.5  0.5  0.5  0.5  0.5  0.5  0.5  0.5  0.5]\n",
      " [ 0.5  0.5  0.5  0.5  0.5  0.5  0.5  0.5  0.5  0.5]\n",
      " [ 0.5  0.5  0.5  0.5  0.5  0.5  0.5  0.5  0.5  0.5]\n",
      " [ 0.5  0.5  0.5  0.5  0.5  0.5  0.5  0.5  0.5  0.5]\n",
      " [ 0.5  0.5  0.5  0.5  0.5  0.5  0.5  0.5  0.5  0.5]\n",
      " [ 0.5  0.5  0.5  0.5  0.5  0.5  0.5  0.5  0.5  0.5]\n",
      " [ 0.5  0.5  0.5  0.5  0.5  0.5  0.5  0.5  0.5  0.5]\n",
      " [ 0.5  0.5  0.5  0.5  0.5  0.5  0.5  0.5  0.5  0.5]\n",
      " [ 0.5  0.5  0.5  0.5  0.5  0.5  0.5  0.5  0.5  0.5]\n",
      " [ 0.5  0.5  0.5  0.5  0.5  0.5  0.5  0.5  0.5  0.5]\n",
      " [ 0.5  0.5  0.5  0.5  0.5  0.5  0.5  0.5  0.5  0.5]\n",
      " [ 0.5  0.5  0.5  0.5  0.5  0.5  0.5  0.5  0.5  0.5]\n",
      " [ 0.5  0.5  0.5  0.5  0.5  0.5  0.5  0.5  0.5  0.5]\n",
      " [ 0.5  0.5  0.5  0.5  0.5  0.5  0.5  0.5  0.5  0.5]\n",
      " [ 0.5  0.5  0.5  0.5  0.5  0.5  0.5  0.5  0.5  0.5]\n",
      " [ 0.5  0.5  0.5  0.5  0.5  0.5  0.5  0.5  0.5  0.5]\n",
      " [ 0.5  0.5  0.5  0.5  0.5  0.5  0.5  0.5  0.5  0.5]\n",
      " [ 0.5  0.5  0.5  0.5  0.5  0.5  0.5  0.5  0.5  0.5]\n",
      " [ 0.5  0.5  0.5  0.5  0.5  0.5  0.5  0.5  0.5  0.5]\n",
      " [ 0.5  0.5  0.5  0.5  0.5  0.5  0.5  0.5  0.5  0.5]\n",
      " [ 0.5  0.5  0.5  0.5  0.5  0.5  0.5  0.5  0.5  0.5]\n",
      " [ 0.5  0.5  0.5  0.5  0.5  0.5  0.5  0.5  0.5  0.5]\n",
      " [ 0.5  0.5  0.5  0.5  0.5  0.5  0.5  0.5  0.5  0.5]\n",
      " [ 0.5  0.5  0.5  0.5  0.5  0.5  0.5  0.5  0.5  0.5]\n",
      " [ 0.5  0.5  0.5  0.5  0.5  0.5  0.5  0.5  0.5  0.5]\n",
      " [ 0.5  0.5  0.5  0.5  0.5  0.5  0.5  0.5  0.5  0.5]\n",
      " [ 0.5  0.5  0.5  0.5  0.5  0.5  0.5  0.5  0.5  0.5]\n",
      " [ 0.5  0.5  0.5  0.5  0.5  0.5  0.5  0.5  0.5  0.5]\n",
      " [ 0.5  0.5  0.5  0.5  0.5  0.5  0.5  0.5  0.5  0.5]\n",
      " [ 0.5  0.5  0.5  0.5  0.5  0.5  0.5  0.5  0.5  0.5]\n",
      " [ 0.5  0.5  0.5  0.5  0.5  0.5  0.5  0.5  0.5  0.5]]\n",
      "y [[False  True False False  True False False False  True False]\n",
      " [ True  True False False False  True False  True  True  True]\n",
      " [ True  True False  True  True False False False  True  True]\n",
      " [ True  True False False  True False  True False  True  True]\n",
      " [ True  True False False  True False False False  True  True]\n",
      " [False False  True False  True False  True  True False  True]\n",
      " [False  True False False  True  True  True  True False False]\n",
      " [ True False  True  True False False  True  True  True  True]\n",
      " [False False False  True False  True False  True  True False]\n",
      " [False  True  True False  True  True False  True False  True]\n",
      " [ True False False  True  True  True  True False False False]\n",
      " [ True False False  True False False False  True False False]\n",
      " [ True False False False False  True  True  True False False]\n",
      " [False  True  True False  True False False  True  True False]\n",
      " [ True False False  True  True False False  True  True  True]\n",
      " [False False False False  True False False False  True  True]\n",
      " [False False  True  True  True  True False False  True  True]\n",
      " [False  True  True  True False False False False  True False]\n",
      " [ True  True False  True False False False False False  True]\n",
      " [False  True False False  True  True  True False False  True]\n",
      " [False  True False False False False False False  True False]\n",
      " [ True  True False  True  True  True  True  True False False]\n",
      " [False False False False False  True  True False False False]\n",
      " [False  True  True False  True False  True False False False]\n",
      " [False False  True  True  True  True False False False False]\n",
      " [ True  True  True  True False  True  True False  True False]\n",
      " [ True  True  True  True False False  True  True False  True]\n",
      " [ True  True  True False  True  True False False  True False]\n",
      " [False False  True  True False  True  True  True  True  True]\n",
      " [False  True False  True False  True False  True False  True]\n",
      " [ True  True  True False  True  True  True  True  True False]\n",
      " [False  True False  True False  True  True False False  True]\n",
      " [False False  True  True  True  True  True  True  True False]\n",
      " [ True False  True  True False  True  True False  True False]\n",
      " [False  True  True  True False  True  True  True  True False]\n",
      " [ True False  True  True False  True  True  True  True  True]\n",
      " [ True False False False  True  True  True  True False False]\n",
      " [ True False False False  True False  True False False  True]\n",
      " [False False  True  True False False False  True  True  True]\n",
      " [ True False False  True False False  True False  True False]\n",
      " [ True  True  True False False False False  True  True  True]\n",
      " [ True False False False  True  True  True  True  True False]\n",
      " [ True  True False  True  True False  True  True False False]\n",
      " [ True  True  True  True False  True False False False  True]\n",
      " [False  True False False False  True  True False  True False]\n",
      " [ True  True False  True False False False False False False]\n",
      " [ True False False  True False False False  True  True False]\n",
      " [False False  True False False  True False  True False  True]\n",
      " [False  True  True  True  True  True False False  True False]\n",
      " [False False  True  True  True False False False False False]]\n",
      "gradient by function:  [  1.41421356e+00   1.41421356e+00  -7.07106781e-01  -7.07106781e-01\n",
      "  -7.07106781e-01  -7.07106781e-01  -7.07106781e-01  -7.07106781e-01\n",
      "   0.00000000e+00   0.00000000e+00   0.00000000e+00   0.00000000e+00\n",
      "   0.00000000e+00   0.00000000e+00  -1.41421356e+00  -1.41421356e+00\n",
      "   7.07106781e-01   7.07106781e-01  -7.07106781e-01  -7.07106781e-01\n",
      "   0.00000000e+00   0.00000000e+00   1.41421356e+00   1.41421356e+00\n",
      "   7.07106781e-01   7.07106781e-01   0.00000000e+00   0.00000000e+00\n",
      "  -7.07106781e-01  -7.07106781e-01   1.41421356e+00   1.41421356e+00\n",
      "  -7.07106781e-01  -7.07106781e-01   7.07106781e-01   7.07106781e-01\n",
      "   7.07106781e-01   7.07106781e-01   0.00000000e+00   0.00000000e+00\n",
      "   2.12132034e+00   2.12132034e+00  -1.41421356e+00  -1.41421356e+00\n",
      "   2.12132034e+00   2.12132034e+00   7.07106781e-01   7.07106781e-01\n",
      "   7.07106781e-01   7.07106781e-01  -1.41421356e+00  -1.41421356e+00\n",
      "  -1.41421356e+00  -1.41421356e+00  -7.07106781e-01  -7.07106781e-01\n",
      "  -1.41421356e+00  -1.41421356e+00   0.00000000e+00   0.00000000e+00\n",
      "  -2.12132034e+00  -2.12132034e+00   0.00000000e+00   0.00000000e+00\n",
      "  -1.41421356e+00  -1.41421356e+00  -7.07106781e-01  -7.07106781e-01\n",
      "  -1.41421356e+00  -1.41421356e+00  -2.12132034e+00  -2.12132034e+00\n",
      "   0.00000000e+00   0.00000000e+00   7.07106781e-01   7.07106781e-01\n",
      "   0.00000000e+00   0.00000000e+00   7.07106781e-01   7.07106781e-01\n",
      "  -7.07106781e-01  -7.07106781e-01  -7.07106781e-01  -7.07106781e-01\n",
      "  -7.07106781e-01  -7.07106781e-01  -7.07106781e-01  -7.07106781e-01\n",
      "   7.07106781e-01   7.07106781e-01   1.41421356e+00   1.41421356e+00\n",
      "   7.07106781e-01   7.07106781e-01   7.07106781e-01   7.07106781e-01\n",
      "  -7.07106781e-01  -7.07106781e-01   1.41421356e+00   1.41421356e+00\n",
      "   7.07106781e-01   1.41421356e+00  -1.41421356e+00   2.12132034e+00\n",
      "   1.11022302e-16   1.41421356e+00   1.11022302e-16  -1.11022302e-16\n",
      "   2.12132034e+00  -2.12132034e+00   7.07106781e-01   1.41421356e+00\n",
      "  -1.41421356e+00   2.12132034e+00   1.11022302e-16   1.41421356e+00\n",
      "   1.11022302e-16  -1.11022302e-16   2.12132034e+00  -2.12132034e+00\n",
      "   2.00000000e+00  -1.00000000e+00  -1.00000000e+00  -1.00000000e+00\n",
      "  -0.00000000e+00  -0.00000000e+00  -0.00000000e+00  -2.00000000e+00\n",
      "   1.00000000e+00  -1.00000000e+00  -0.00000000e+00   2.00000000e+00\n",
      "   1.00000000e+00  -0.00000000e+00  -1.00000000e+00   2.00000000e+00\n",
      "  -1.00000000e+00   1.00000000e+00   1.00000000e+00  -0.00000000e+00\n",
      "   3.00000000e+00  -2.00000000e+00   3.00000000e+00   1.00000000e+00\n",
      "   1.00000000e+00  -2.00000000e+00  -2.00000000e+00  -1.00000000e+00\n",
      "  -2.00000000e+00  -0.00000000e+00  -3.00000000e+00  -0.00000000e+00\n",
      "  -2.00000000e+00  -1.00000000e+00  -2.00000000e+00  -3.00000000e+00\n",
      "  -0.00000000e+00   1.00000000e+00  -0.00000000e+00   1.00000000e+00\n",
      "  -1.00000000e+00  -1.00000000e+00  -1.00000000e+00  -1.00000000e+00\n",
      "   1.00000000e+00   2.00000000e+00   1.00000000e+00   1.00000000e+00\n",
      "  -1.00000000e+00   2.00000000e+00  -1.00000000e+00  -2.00000000e+00\n",
      "   2.00000000e+00  -3.00000000e+00  -0.00000000e+00  -2.00000000e+00\n",
      "  -0.00000000e+00  -0.00000000e+00  -3.00000000e+00   3.00000000e+00]\n",
      "gradient by num:  [ 1.13686838  1.13686838 -1.13686838 -1.13686838 -1.13686838 -1.13686838\n",
      " -1.13686838 -1.13686838  0.          0.          0.          0.          0.\n",
      "  0.         -1.70530257 -1.70530257  0.56843419  0.56843419 -1.13686838\n",
      " -1.13686838  0.          0.          1.13686838  1.13686838  0.56843419\n",
      "  0.56843419  0.          0.         -1.13686838 -1.13686838  1.13686838\n",
      "  1.13686838 -1.13686838 -1.13686838  0.56843419  0.56843419  0.56843419\n",
      "  0.56843419  0.          0.          2.27373675  2.27373675 -1.13686838\n",
      " -1.13686838  2.27373675  2.27373675  0.56843419  0.56843419  0.56843419\n",
      "  0.56843419 -1.70530257 -1.70530257 -1.70530257 -1.70530257 -1.13686838\n",
      " -1.13686838 -1.70530257 -1.70530257  0.          0.         -2.27373675\n",
      " -2.27373675  0.          0.         -1.70530257 -1.70530257 -1.13686838\n",
      " -1.13686838 -1.70530257 -1.70530257 -2.27373675 -2.27373675  0.          0.\n",
      "  0.56843419  0.56843419  0.          0.          0.56843419  0.56843419\n",
      " -1.13686838 -1.13686838 -1.13686838 -1.13686838 -1.13686838 -1.13686838\n",
      " -1.13686838 -1.13686838  0.56843419  0.56843419  1.13686838  1.13686838\n",
      "  0.56843419  0.56843419  0.56843419  0.56843419 -1.13686838 -1.13686838\n",
      "  1.13686838  1.13686838  0.56843419  1.13686838 -1.70530257  2.27373675\n",
      "  0.          1.13686838  0.          0.          2.27373675 -2.27373675\n",
      "  0.56843419  1.13686838 -1.70530257  1.70530257  0.          1.13686838\n",
      "  0.          0.          1.70530257 -2.27373675  1.70530257 -1.13686838\n",
      " -1.13686838 -1.13686838  0.          0.          0.         -2.27373675\n",
      "  1.13686838 -1.13686838  0.          1.70530257  1.13686838  0.\n",
      " -1.13686838  1.70530257 -1.13686838  1.13686838  1.13686838  0.\n",
      "  2.84217094 -2.27373675  2.84217094  1.13686838  1.13686838 -2.27373675\n",
      " -2.27373675 -1.13686838 -2.27373675  0.         -3.41060513  0.\n",
      " -2.27373675 -1.13686838 -2.27373675 -3.41060513  0.          1.13686838\n",
      "  0.          1.13686838 -1.13686838 -1.13686838 -1.13686838 -1.13686838\n",
      "  1.13686838  2.27373675  1.13686838  1.13686838 -1.13686838  1.70530257\n",
      " -1.13686838 -2.27373675  2.27373675 -3.41060513  0.         -2.27373675\n",
      "  0.          0.         -3.41060513  2.84217094]\n",
      "error:  [  2.77345185e-01   2.77345185e-01   4.29761596e-01   4.29761596e-01\n",
      "   4.29761596e-01   4.29761596e-01   4.29761596e-01   4.29761596e-01\n",
      "   0.00000000e+00   0.00000000e+00   0.00000000e+00   0.00000000e+00\n",
      "   0.00000000e+00   0.00000000e+00   2.91089003e-01   2.91089003e-01\n",
      "   1.38672593e-01   1.38672593e-01   4.29761596e-01   4.29761596e-01\n",
      "   0.00000000e+00   0.00000000e+00   2.77345185e-01   2.77345185e-01\n",
      "   1.38672593e-01   1.38672593e-01   0.00000000e+00   0.00000000e+00\n",
      "   4.29761596e-01   4.29761596e-01   2.77345185e-01   2.77345185e-01\n",
      "   4.29761596e-01   4.29761596e-01   1.38672593e-01   1.38672593e-01\n",
      "   1.38672593e-01   1.38672593e-01   0.00000000e+00   0.00000000e+00\n",
      "   1.52416411e-01   1.52416411e-01   2.77345185e-01   2.77345185e-01\n",
      "   1.52416411e-01   1.52416411e-01   1.38672593e-01   1.38672593e-01\n",
      "   1.38672593e-01   1.38672593e-01   2.91089003e-01   2.91089003e-01\n",
      "   2.91089003e-01   2.91089003e-01   4.29761596e-01   4.29761596e-01\n",
      "   2.91089003e-01   2.91089003e-01   0.00000000e+00   0.00000000e+00\n",
      "   1.52416411e-01   1.52416411e-01   0.00000000e+00   0.00000000e+00\n",
      "   2.91089003e-01   2.91089003e-01   4.29761596e-01   4.29761596e-01\n",
      "   2.91089003e-01   2.91089003e-01   1.52416411e-01   1.52416411e-01\n",
      "   0.00000000e+00   0.00000000e+00   1.38672593e-01   1.38672593e-01\n",
      "   0.00000000e+00   0.00000000e+00   1.38672593e-01   1.38672593e-01\n",
      "   4.29761596e-01   4.29761596e-01   4.29761596e-01   4.29761596e-01\n",
      "   4.29761596e-01   4.29761596e-01   4.29761596e-01   4.29761596e-01\n",
      "   1.38672593e-01   1.38672593e-01   2.77345185e-01   2.77345185e-01\n",
      "   1.38672593e-01   1.38672593e-01   1.38672593e-01   1.38672593e-01\n",
      "   4.29761596e-01   4.29761596e-01   2.77345185e-01   2.77345185e-01\n",
      "   1.38672593e-01   2.77345185e-01   2.91089003e-01   1.52416411e-01\n",
      "   1.11022302e-16   2.77345185e-01   1.11022302e-16   1.11022302e-16\n",
      "   1.52416411e-01   1.52416411e-01   1.38672593e-01   2.77345185e-01\n",
      "   2.91089003e-01   4.16017778e-01   1.11022302e-16   2.77345185e-01\n",
      "   1.11022302e-16   1.11022302e-16   4.16017778e-01   1.52416411e-01\n",
      "   2.94697434e-01   1.36868377e-01   1.36868377e-01   1.36868377e-01\n",
      "   0.00000000e+00   0.00000000e+00   0.00000000e+00   2.73736754e-01\n",
      "   1.36868377e-01   1.36868377e-01   0.00000000e+00   2.94697434e-01\n",
      "   1.36868377e-01   0.00000000e+00   1.36868377e-01   2.94697434e-01\n",
      "   1.36868377e-01   1.36868377e-01   1.36868377e-01   0.00000000e+00\n",
      "   1.57829057e-01   2.73736754e-01   1.57829057e-01   1.36868377e-01\n",
      "   1.36868377e-01   2.73736754e-01   2.73736754e-01   1.36868377e-01\n",
      "   2.73736754e-01   0.00000000e+00   4.10605132e-01   0.00000000e+00\n",
      "   2.73736754e-01   1.36868377e-01   2.73736754e-01   4.10605132e-01\n",
      "   0.00000000e+00   1.36868377e-01   0.00000000e+00   1.36868377e-01\n",
      "   1.36868377e-01   1.36868377e-01   1.36868377e-01   1.36868377e-01\n",
      "   1.36868377e-01   2.73736754e-01   1.36868377e-01   1.36868377e-01\n",
      "   1.36868377e-01   2.94697434e-01   1.36868377e-01   2.73736754e-01\n",
      "   2.73736754e-01   4.10605132e-01   0.00000000e+00   2.73736754e-01\n",
      "   0.00000000e+00   0.00000000e+00   4.10605132e-01   1.57829057e-01]\n"
     ]
    },
    {
     "data": {
      "image/png": "[encoded data removed]",
      "text/plain": [
       "<matplotlib.figure.Figure at 0x981d4a8>"
      ]
     },
     "metadata": {},
     "output_type": "display_data"
    },
    {
     "data": {
      "text/plain": [
       "(array([  1.41421356e+00,   1.41421356e+00,  -7.07106781e-01,\n",
       "         -7.07106781e-01,  -7.07106781e-01,  -7.07106781e-01,\n",
       "         -7.07106781e-01,  -7.07106781e-01,   0.00000000e+00,\n",
       "          0.00000000e+00,   0.00000000e+00,   0.00000000e+00,\n",
       "          0.00000000e+00,   0.00000000e+00,  -1.41421356e+00,\n",
       "         -1.41421356e+00,   7.07106781e-01,   7.07106781e-01,\n",
       "         -7.07106781e-01,  -7.07106781e-01,   0.00000000e+00,\n",
       "          0.00000000e+00,   1.41421356e+00,   1.41421356e+00,\n",
       "          7.07106781e-01,   7.07106781e-01,   0.00000000e+00,\n",
       "          0.00000000e+00,  -7.07106781e-01,  -7.07106781e-01,\n",
       "          1.41421356e+00,   1.41421356e+00,  -7.07106781e-01,\n",
       "         -7.07106781e-01,   7.07106781e-01,   7.07106781e-01,\n",
       "          7.07106781e-01,   7.07106781e-01,   0.00000000e+00,\n",
       "          0.00000000e+00,   2.12132034e+00,   2.12132034e+00,\n",
       "         -1.41421356e+00,  -1.41421356e+00,   2.12132034e+00,\n",
       "          2.12132034e+00,   7.07106781e-01,   7.07106781e-01,\n",
       "          7.07106781e-01,   7.07106781e-01,  -1.41421356e+00,\n",
       "         -1.41421356e+00,  -1.41421356e+00,  -1.41421356e+00,\n",
       "         -7.07106781e-01,  -7.07106781e-01,  -1.41421356e+00,\n",
       "         -1.41421356e+00,   0.00000000e+00,   0.00000000e+00,\n",
       "         -2.12132034e+00,  -2.12132034e+00,   0.00000000e+00,\n",
       "          0.00000000e+00,  -1.41421356e+00,  -1.41421356e+00,\n",
       "         -7.07106781e-01,  -7.07106781e-01,  -1.41421356e+00,\n",
       "         -1.41421356e+00,  -2.12132034e+00,  -2.12132034e+00,\n",
       "          0.00000000e+00,   0.00000000e+00,   7.07106781e-01,\n",
       "          7.07106781e-01,   0.00000000e+00,   0.00000000e+00,\n",
       "          7.07106781e-01,   7.07106781e-01,  -7.07106781e-01,\n",
       "         -7.07106781e-01,  -7.07106781e-01,  -7.07106781e-01,\n",
       "         -7.07106781e-01,  -7.07106781e-01,  -7.07106781e-01,\n",
       "         -7.07106781e-01,   7.07106781e-01,   7.07106781e-01,\n",
       "          1.41421356e+00,   1.41421356e+00,   7.07106781e-01,\n",
       "          7.07106781e-01,   7.07106781e-01,   7.07106781e-01,\n",
       "         -7.07106781e-01,  -7.07106781e-01,   1.41421356e+00,\n",
       "          1.41421356e+00,   7.07106781e-01,   1.41421356e+00,\n",
       "         -1.41421356e+00,   2.12132034e+00,   1.11022302e-16,\n",
       "          1.41421356e+00,   1.11022302e-16,  -1.11022302e-16,\n",
       "          2.12132034e+00,  -2.12132034e+00,   7.07106781e-01,\n",
       "          1.41421356e+00,  -1.41421356e+00,   2.12132034e+00,\n",
       "          1.11022302e-16,   1.41421356e+00,   1.11022302e-16,\n",
       "         -1.11022302e-16,   2.12132034e+00,  -2.12132034e+00,\n",
       "          2.00000000e+00,  -1.00000000e+00,  -1.00000000e+00,\n",
       "         -1.00000000e+00,  -0.00000000e+00,  -0.00000000e+00,\n",
       "         -0.00000000e+00,  -2.00000000e+00,   1.00000000e+00,\n",
       "         -1.00000000e+00,  -0.00000000e+00,   2.00000000e+00,\n",
       "          1.00000000e+00,  -0.00000000e+00,  -1.00000000e+00,\n",
       "          2.00000000e+00,  -1.00000000e+00,   1.00000000e+00,\n",
       "          1.00000000e+00,  -0.00000000e+00,   3.00000000e+00,\n",
       "         -2.00000000e+00,   3.00000000e+00,   1.00000000e+00,\n",
       "          1.00000000e+00,  -2.00000000e+00,  -2.00000000e+00,\n",
       "         -1.00000000e+00,  -2.00000000e+00,  -0.00000000e+00,\n",
       "         -3.00000000e+00,  -0.00000000e+00,  -2.00000000e+00,\n",
       "         -1.00000000e+00,  -2.00000000e+00,  -3.00000000e+00,\n",
       "         -0.00000000e+00,   1.00000000e+00,  -0.00000000e+00,\n",
       "          1.00000000e+00,  -1.00000000e+00,  -1.00000000e+00,\n",
       "         -1.00000000e+00,  -1.00000000e+00,   1.00000000e+00,\n",
       "          2.00000000e+00,   1.00000000e+00,   1.00000000e+00,\n",
       "         -1.00000000e+00,   2.00000000e+00,  -1.00000000e+00,\n",
       "         -2.00000000e+00,   2.00000000e+00,  -3.00000000e+00,\n",
       "         -0.00000000e+00,  -2.00000000e+00,  -0.00000000e+00,\n",
       "         -0.00000000e+00,  -3.00000000e+00,   3.00000000e+00]),\n",
       " array([ 1.13686838,  1.13686838, -1.13686838, -1.13686838, -1.13686838,\n",
       "        -1.13686838, -1.13686838, -1.13686838,  0.        ,  0.        ,\n",
       "         0.        ,  0.        ,  0.        ,  0.        , -1.70530257,\n",
       "        -1.70530257,  0.56843419,  0.56843419, -1.13686838, -1.13686838,\n",
       "         0.        ,  0.        ,  1.13686838,  1.13686838,  0.56843419,\n",
       "         0.56843419,  0.        ,  0.        , -1.13686838, -1.13686838,\n",
       "         1.13686838,  1.13686838, -1.13686838, -1.13686838,  0.56843419,\n",
       "         0.56843419,  0.56843419,  0.56843419,  0.        ,  0.        ,\n",
       "         2.27373675,  2.27373675, -1.13686838, -1.13686838,  2.27373675,\n",
       "         2.27373675,  0.56843419,  0.56843419,  0.56843419,  0.56843419,\n",
       "        -1.70530257, -1.70530257, -1.70530257, -1.70530257, -1.13686838,\n",
       "        -1.13686838, -1.70530257, -1.70530257,  0.        ,  0.        ,\n",
       "        -2.27373675, -2.27373675,  0.        ,  0.        , -1.70530257,\n",
       "        -1.70530257, -1.13686838, -1.13686838, -1.70530257, -1.70530257,\n",
       "        -2.27373675, -2.27373675,  0.        ,  0.        ,  0.56843419,\n",
       "         0.56843419,  0.        ,  0.        ,  0.56843419,  0.56843419,\n",
       "        -1.13686838, -1.13686838, -1.13686838, -1.13686838, -1.13686838,\n",
       "        -1.13686838, -1.13686838, -1.13686838,  0.56843419,  0.56843419,\n",
       "         1.13686838,  1.13686838,  0.56843419,  0.56843419,  0.56843419,\n",
       "         0.56843419, -1.13686838, -1.13686838,  1.13686838,  1.13686838,\n",
       "         0.56843419,  1.13686838, -1.70530257,  2.27373675,  0.        ,\n",
       "         1.13686838,  0.        ,  0.        ,  2.27373675, -2.27373675,\n",
       "         0.56843419,  1.13686838, -1.70530257,  1.70530257,  0.        ,\n",
       "         1.13686838,  0.        ,  0.        ,  1.70530257, -2.27373675,\n",
       "         1.70530257, -1.13686838, -1.13686838, -1.13686838,  0.        ,\n",
       "         0.        ,  0.        , -2.27373675,  1.13686838, -1.13686838,\n",
       "         0.        ,  1.70530257,  1.13686838,  0.        , -1.13686838,\n",
       "         1.70530257, -1.13686838,  1.13686838,  1.13686838,  0.        ,\n",
       "         2.84217094, -2.27373675,  2.84217094,  1.13686838,  1.13686838,\n",
       "        -2.27373675, -2.27373675, -1.13686838, -2.27373675,  0.        ,\n",
       "        -3.41060513,  0.        , -2.27373675, -1.13686838, -2.27373675,\n",
       "        -3.41060513,  0.        ,  1.13686838,  0.        ,  1.13686838,\n",
       "        -1.13686838, -1.13686838, -1.13686838, -1.13686838,  1.13686838,\n",
       "         2.27373675,  1.13686838,  1.13686838, -1.13686838,  1.70530257,\n",
       "        -1.13686838, -2.27373675,  2.27373675, -3.41060513,  0.        ,\n",
       "        -2.27373675,  0.        ,  0.        , -3.41060513,  2.84217094]))"
      ]
     },
     "execution_count": 13,
     "metadata": {},
     "output_type": "execute_result"
    }
   ],
   "source": [
    "num_students=50\n",
    "num_questions = 10\n",
    "embedding_dimension = 2\n",
    "s=np.random.random((num_students,embedding_dimension))\n",
    "a=np.random.random((embedding_dimension,num_questions))\n",
    "gms=np.random.random((num_students,1))\n",
    "gmq=np.random.random((1,num_questions))\n",
    "s[:]=1\n",
    "a[:]=1\n",
    "gms[:]=0\n",
    "gmq[:]=0\n",
    "p=lse.prob(s,a,gms,gmq)\n",
    "print 'p',p\n",
    "y=np.random.random(p.shape)<p\n",
    "print 'y',y\n",
    "x,_dict = lse.stretch2(OrderedDict([('s',s),('a',a),('gms',gms),('gmq',gmq)]))\n",
    "# print _dict\n",
    "cost,gradient=lse.auxiliary(x,y,0,_dict)\n",
    "num_gradient = np.zeros(x.shape)\n",
    "delta_x=1e-13\n",
    "for i in range(x.size):\n",
    "    x[i]+=delta_x\n",
    "    num_gradient[i]=(lse.auxiliary(x,y,0,_dict)[0]-cost)/delta_x\n",
    "    x[i]-=delta_x\n",
    "print 'gradient by function: ',gradient\n",
    "print 'gradient by num: ',num_gradient\n",
    "abs_erros=np.abs(gradient - num_gradient)\n",
    "print 'error: ', abs_erros\n",
    "pylab.hist(abs_erros)\n",
    "pylab.show()\n",
    "gradient,num_gradient"
   ]
  },
  {
   "cell_type": "code",
   "execution_count": null,
   "metadata": {
    "collapsed": true
   },
   "outputs": [],
   "source": []
  }
 ],
 "metadata": {
  "kernelspec": {
   "display_name": "Python 2",
   "language": "python",
   "name": "python2"
  },
  "language_info": {
   "codemirror_mode": {
    "name": "ipython",
    "version": 2
   },
   "file_extension": ".py",
   "mimetype": "text/x-python",
   "name": "python",
   "nbconvert_exporter": "python",
   "pygments_lexer": "ipython2",
   "version": "2.7.13"
  }
 },
 "nbformat": 4,
 "nbformat_minor": 2
}
