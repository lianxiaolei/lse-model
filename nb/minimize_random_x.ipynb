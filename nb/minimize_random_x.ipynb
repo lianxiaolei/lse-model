{
 "cells": [
  {
   "cell_type": "markdown",
   "metadata": {},
   "source": [
    "使用minimize求难度及能力时，初始值改为随机，发现题目数量小于100时误差较大。即使初始值为真值，误差仍在0.6左右。模型改为一维，误差降为0.2.说明模型本身误差较大。"
   ]
  },
  {
   "cell_type": "code",
   "execution_count": 73,
   "metadata": {
    "collapsed": true
   },
   "outputs": [],
   "source": [
    "from __future__ import division\n",
    "import os\n",
    "import sys\n",
    "import glob\n",
    "import matplotlib.pyplot as plt\n",
    "import numpy as np\n",
    "import pandas as pd\n",
    "%matplotlib inline\n",
    "%precision 4\n",
    "plt.style.use('ggplot')\n",
    "np.random.seed(1234)\n",
    "import pymc\n",
    "import scipy.stats as stats\n",
    "from scipy.optimize import minimize, rosen, rosen_der"
   ]
  },
  {
   "cell_type": "code",
   "execution_count": 321,
   "metadata": {
    "collapsed": false
   },
   "outputs": [],
   "source": [
    "def min_thete_b(y,w,a):\n",
    "    start1 = y.shape[0]\n",
    "    start2 = y.shape[0]*2\n",
    "    start3 = y.shape[0]*2+y.shape[1]\n",
    "    bnds = ((-3, 3), (-3, 3))*(sum(y.shape))\n",
    "    def f(x):\n",
    "        t1 = np.array(x[:start1]).reshape(y.shape[0],1)\n",
    "        b1 = np.array([[x[start2:start3]]])\n",
    "        t2 = np.array(x[start1:start2]).reshape(y.shape[0],1)\n",
    "        b2 = np.array([[-6]*y.shape[1]])\n",
    "        p1 = (1./(1+ np.exp(-(t1-b1)))).reshape(y.shape)\n",
    "        p2 = (1./(1+ np.exp(-(t2-b2)))).reshape(y.shape)\n",
    "        f1 = -(y*(np.log(p1)+np.log(p2))+(1-y)*np.log(1-p1*p2)).sum()/y.shape[1]+w*((np.array([x])**2).sum())\n",
    "        ft1 = -((y-p1*p2)*(1-p1)/(1-p1*p2)).sum(axis=1)/y.shape[1]+2*w*np.array(x[:start1])\n",
    "        ft2 = -((y-p1*p2)*(1-p2)/(1-p1*p2)).sum(axis=1)/y.shape[1]+2*w*np.array(x[start1:start2])\n",
    "        fb1 = ((y-p1*p2)*(1-p1)/(1-p1*p2)).sum(axis=0)/y.shape[1]+2*w*np.array(x[start2:start3])\n",
    "        fb2 = ((y-p1*p2)*(1-p2)/(1-p1*p2)).sum(axis=0)/y.shape[1]+2*w*np.array(x[start3:])\n",
    "        \n",
    "        f2 = np.concatenate((ft1,ft2,fb1,fb2))\n",
    "        return f1,f2\n",
    "    res = minimize(f, a, bounds=bnds, method='L-BFGS-B',jac=True,options={\"disp\":True,\"gtol\":1e-40,\"ftol\":1e-40})\n",
    "    min_t1 = np.array(res.x[:start1]).reshape(y.shape[0],1)\n",
    "    min_b1 = np.array([[res.x[start2:start3]]])\n",
    "    min_t2 = np.array(res.x[start1:start2]).reshape(y.shape[0],1)\n",
    "    min_b2 = np.array([[-6]*y.shape[1]])\n",
    "    return min_t1,min_t2,min_b1,min_b2,res.fun "
   ]
  },
  {
   "cell_type": "code",
   "execution_count": 326,
   "metadata": {
    "collapsed": true
   },
   "outputs": [],
   "source": [
    "def min_thete_b6(y,w,a):\n",
    "    start1 = y.shape[0]\n",
    "    start2 = y.shape[0]*2\n",
    "    start3 = y.shape[0]*2+y.shape[1]\n",
    "    bnds = ((-3, 3), (-3, 3))*(sum(y.shape))\n",
    "    def f(x):\n",
    "        t1 = np.array(x[:start1]).reshape(y.shape[0],1)\n",
    "        b1 = np.array([[x[start2:start3]]])\n",
    "        t2 = np.array(x[start1:start2]).reshape(y.shape[0],1)\n",
    "        b2 = np.array([[-6]*y.shape[1]])\n",
    "        p1 = (1./(1+ np.exp(-(t1-b1)))).reshape(y.shape)\n",
    "        p2 = (1./(1+ np.exp(-(t2-b2)))).reshape(y.shape)\n",
    "        f1 = -(y*(np.log(p1)+np.log(p2))+(1-y)*np.log(1-p1*p2)).sum()/y.shape[1]+w*((np.array([x])**2).sum())\n",
    "        ft1 = -((y-p1*p2)*(1-p1)/(1-p1*p2)).sum(axis=1)/y.shape[1]+2*w*np.array(x[:start1])\n",
    "        ft2 = -((y-p1*p2)*(1-p2)/(1-p1*p2)).sum(axis=1)/y.shape[1]+2*w*np.array(x[start1:start2])\n",
    "        fb1 = ((y-p1*p2)*(1-p1)/(1-p1*p2)).sum(axis=0)/y.shape[1]+2*w*np.array(x[start2:start3])       \n",
    "        f2 = np.concatenate((ft1,ft2,fb1))\n",
    "        return f1,f2\n",
    "    res = minimize(f, a, method='BFGS',jac=True,options={\"disp\":True})\n",
    "    min_t1 = np.array(res.x[:start1]).reshape(y.shape[0],1)\n",
    "    min_b1 = np.array([[res.x[start2:start3]]])\n",
    "    min_t2 = np.array(res.x[start1:start2]).reshape(y.shape[0],1)\n",
    "    min_b2 = np.array([[-6]*y.shape[1]])\n",
    "    print res\n",
    "    return min_t1,min_t2,min_b1,min_b2,res.fun "
   ]
  },
  {
   "cell_type": "code",
   "execution_count": 342,
   "metadata": {
    "collapsed": false
   },
   "outputs": [],
   "source": [
    "n_items=100\n",
    "n_stu=100\n",
    "real_b1 = np.random.normal(0,1,(1,n_items))\n",
    "real_t1 = np.random.normal(0,1,(n_stu,1))\n",
    "real_b2 = np.random.normal(0,1,(1,n_items))\n",
    "real_t2 = np.random.normal(0,1,(n_stu,1))\n",
    "real_p1 = 1.0/ (1.0 + np.exp(-(real_t1-real_b1)))\n",
    "real_p2 = 1.0/ (1.0 + np.exp(-(real_t2-real_b2)))\n",
    "real_p = real_p1*real_p2\n",
    "uv=np.random.random((n_stu,n_items))<real_p1*real_p2\n",
    "w = 0.01\n",
    "n1=0\n",
    "n2=1"
   ]
  },
  {
   "cell_type": "code",
   "execution_count": 343,
   "metadata": {
    "collapsed": false
   },
   "outputs": [
    {
     "name": "stdout",
     "output_type": "stream",
     "text": [
      "Warning: Desired error not necessarily achieved due to precision loss.\n",
      "         Current function value: 47.950282\n",
      "         Iterations: 42\n",
      "         Function evaluations: 120\n",
      "         Gradient evaluations: 108\n"
     ]
    }
   ],
   "source": [
    "# a = np.random.normal(n1, n2, 2*sum(uv.shape))\n",
    "a = np.concatenate((real_t1.flat,real_t2.flat,real_b1.flat,real_b2.flat))\n",
    "min_t1,min_t2,min_b1,min_b2,cost = min_thete_b(uv,w,a)"
   ]
  },
  {
   "cell_type": "code",
   "execution_count": 344,
   "metadata": {
    "collapsed": false
   },
   "outputs": [
    {
     "name": "stdout",
     "output_type": "stream",
     "text": [
      "0.103841003739\n",
      "0.201671698188\n",
      "0.678780090695\n"
     ]
    }
   ],
   "source": [
    "min_p1 = 1.0/ (1.0 + np.exp(-(min_t1-min_b1))).reshape(uv.shape)\n",
    "min_p2 = 1.0/ (1.0 + np.exp(-(min_t2-real_b2))).reshape(uv.shape)\n",
    "min_p = min_p1*min_p2\n",
    "print absm(real_p,min_p)\n",
    "print (absm(real_p1,min_p1)+absm(real_p2,min_p2))/2\n",
    "print absm(real_t1,min_t1)"
   ]
  },
  {
   "cell_type": "code",
   "execution_count": 345,
   "metadata": {
    "collapsed": true
   },
   "outputs": [],
   "source": [
    "real_f1 = -(uv*(np.log(real_p1)+np.log(real_p2))+(1-uv)*np.log(1-real_p1*real_p2)).sum()/uv.shape[1]+w*((np.array([a])**2).sum())"
   ]
  },
  {
   "cell_type": "code",
   "execution_count": 346,
   "metadata": {
    "collapsed": false
   },
   "outputs": [
    {
     "name": "stdout",
     "output_type": "stream",
     "text": [
      "50.0959406514\n"
     ]
    }
   ],
   "source": [
    "print real_f1"
   ]
  },
  {
   "cell_type": "markdown",
   "metadata": {},
   "source": [
    "b2均设为-6，使二维退化为一维"
   ]
  },
  {
   "cell_type": "code",
   "execution_count": 330,
   "metadata": {
    "collapsed": false
   },
   "outputs": [],
   "source": [
    "n_items=100\n",
    "n_stu=100\n",
    "real_b1 = np.random.normal(0,1,(1,n_items))\n",
    "real_t1 = np.random.normal(0,1,(n_stu,1))\n",
    "real_b2 = np.array([[-6]*n_stu])\n",
    "real_t2 = np.random.normal(0,1,(n_stu,1))\n",
    "real_p1 = 1.0/ (1.0 + np.exp(-(real_t1-real_b1)))\n",
    "real_p2 = 1.0/ (1.0 + np.exp(-(real_t2-real_b2)))\n",
    "real_p = real_p1*real_p2\n",
    "uv=np.random.random((n_stu,n_items))<real_p1*real_p2\n",
    "w = 0.01\n",
    "n1=0\n",
    "n2=1"
   ]
  },
  {
   "cell_type": "code",
   "execution_count": 331,
   "metadata": {
    "collapsed": false
   },
   "outputs": [
    {
     "name": "stdout",
     "output_type": "stream",
     "text": [
      "Optimization terminated successfully.\n",
      "         Current function value: 55.813613\n",
      "         Iterations: 39\n",
      "         Function evaluations: 41\n",
      "         Gradient evaluations: 41\n",
      "      fun: 55.81361281144219\n",
      " hess_inv: array([[  1.3452e+00,   3.5204e-02,   1.8546e-02, ...,  -3.0028e-03,\n",
      "          3.5175e-02,   3.1979e-02],\n",
      "       [  3.5204e-02,   1.0733e+00,   1.9356e-02, ...,   7.6420e-04,\n",
      "          7.8890e-03,  -7.9843e-03],\n",
      "       [  1.8546e-02,   1.9356e-02,   1.0219e+00, ...,   6.1991e-03,\n",
      "          5.7620e-03,   1.3075e-02],\n",
      "       ..., \n",
      "       [ -3.0028e-03,   7.6420e-04,   6.1991e-03, ...,   1.0815e+00,\n",
      "         -3.3201e-02,  -2.6287e-02],\n",
      "       [  3.5175e-02,   7.8890e-03,   5.7620e-03, ...,  -3.3201e-02,\n",
      "          1.0643e+00,   6.4317e-02],\n",
      "       [  3.1979e-02,  -7.9843e-03,   1.3075e-02, ...,  -2.6287e-02,\n",
      "          6.4317e-02,   1.0887e+00]])\n",
      "      jac: array([ -2.7328e-06,   9.4235e-07,   5.7365e-07,   9.1451e-07,\n",
      "         6.5148e-07,   1.0730e-06,   6.0429e-09,  -8.4964e-07,\n",
      "        -1.8563e-06,  -9.5841e-07,   1.9917e-06,  -8.1282e-07,\n",
      "         6.2935e-07,  -1.1420e-06,   9.7825e-07,  -9.7691e-07,\n",
      "        -1.3782e-06,  -3.3222e-07,  -1.3254e-06,  -6.4242e-07,\n",
      "        -2.1076e-07,   1.1995e-06,  -5.4378e-07,  -1.9511e-06,\n",
      "        -6.0636e-07,   2.8242e-07,  -2.8842e-07,   1.0298e-06,\n",
      "        -6.5141e-07,  -5.4440e-07,   5.2984e-06,   1.1694e-06,\n",
      "         6.8252e-07,   6.2372e-07,  -2.9401e-07,   4.9826e-07,\n",
      "        -9.2384e-07,  -4.0892e-07,  -4.7641e-08,   7.6746e-07,\n",
      "         1.4339e-06,   1.1297e-06,  -2.4777e-08,   1.2857e-06,\n",
      "        -4.3435e-07,  -1.0370e-06,   2.2800e-07,   1.0904e-06,\n",
      "         2.7351e-07,  -1.4877e-06,   5.6471e-07,  -1.2716e-06,\n",
      "         8.3903e-07,   2.0334e-07,   2.5464e-07,   1.7618e-06,\n",
      "        -2.2224e-08,   7.1744e-07,   7.5177e-07,  -8.4853e-07,\n",
      "         9.4887e-07,  -7.3972e-07,  -1.0713e-06,  -7.3687e-07,\n",
      "         1.6930e-07,   1.1181e-06,   4.0869e-07,   1.2844e-06,\n",
      "        -5.1564e-07,   8.6000e-07,  -2.7404e-06,  -3.5129e-07,\n",
      "        -6.4540e-07,   1.2132e-07,   2.9368e-07,  -3.0301e-07,\n",
      "         1.4258e-06,  -5.1360e-07,   1.2850e-06,   3.2337e-06,\n",
      "        -2.2482e-07,  -3.0347e-07,  -6.2012e-07,  -5.3354e-07,\n",
      "         9.0740e-07,  -1.0390e-06,  -9.1388e-07,   9.9721e-07,\n",
      "         1.1912e-07,   8.2461e-08,  -1.0796e-06,   1.9967e-06,\n",
      "         8.3424e-07,   8.7153e-07,   3.7031e-07,  -1.6672e-06,\n",
      "         1.3644e-07,   6.8081e-07,  -5.5045e-07,  -5.8553e-07,\n",
      "        -7.7911e-07,   1.7592e-07,   3.7069e-08,  -1.1389e-07,\n",
      "        -2.2588e-08,  -2.1880e-08,  -8.4854e-07,  -1.9730e-07,\n",
      "        -2.1491e-06,  -1.7345e-07,   3.3992e-08,  -4.2795e-07,\n",
      "         4.4787e-07,   4.7649e-07,   4.5206e-08,  -5.5517e-07,\n",
      "         4.2537e-08,   2.7997e-07,   1.3984e-06,   6.3381e-07,\n",
      "        -4.7199e-07,  -2.9309e-07,   3.9233e-07,  -4.9418e-08,\n",
      "         1.0253e-07,  -5.5349e-06,  -2.1355e-07,   6.1676e-07,\n",
      "        -6.6674e-07,  -1.1434e-07,  -2.3591e-06,  -7.1530e-08,\n",
      "        -7.2217e-08,  -2.6407e-07,   7.4577e-07,  -1.8017e-07,\n",
      "         4.6115e-08,  -7.0134e-07,   5.4412e-08,   1.4416e-07,\n",
      "        -3.4320e-07,  -1.8879e-07,  -1.8262e-07,  -4.4459e-08,\n",
      "        -8.3571e-07,   4.6580e-09,   1.8795e-06,  -2.6955e-07,\n",
      "         1.0456e-06,   1.0164e-07,  -4.3487e-07,  -2.5897e-08,\n",
      "        -3.6748e-07,  -5.1523e-08,   3.1576e-08,  -7.7125e-08,\n",
      "        -7.0942e-07,   3.3397e-07,  -5.1404e-08,  -2.0158e-07,\n",
      "        -3.0168e-07,  -5.4215e-11,   7.1727e-08,  -5.6530e-08,\n",
      "        -2.9113e-07,   6.9929e-07,  -1.3763e-07,  -3.9474e-08,\n",
      "         1.4771e-07,   3.1798e-08,   3.0038e-08,  -2.1092e-08,\n",
      "        -4.1810e-07,  -7.8675e-08,  -4.4333e-07,  -1.6420e-08,\n",
      "         2.8525e-08,  -8.8532e-08,   1.1008e-07,  -1.1434e-07,\n",
      "        -1.7783e-07,  -1.1006e-06,  -2.3244e-07,  -1.0508e-08,\n",
      "        -1.9500e-07,   1.4482e-08,   4.3200e-08,  -4.7022e-07,\n",
      "        -3.6692e-07,   3.6469e-08,  -1.4603e-07,   2.9713e-07,\n",
      "         8.8264e-07,   6.7559e-07,   1.5856e-06,  -1.1977e-07,\n",
      "         2.4424e-07,  -3.5352e-07,  -1.8156e-07,  -6.4804e-08,\n",
      "         4.7263e-07,  -7.3885e-08,   3.0683e-07,  -3.5459e-08,\n",
      "         1.5912e-07,  -3.4126e-07,  -2.8618e-07,   6.2135e-07,\n",
      "        -2.0482e-07,  -5.0323e-07,  -3.7869e-07,  -1.1440e-06,\n",
      "        -2.4610e-07,   1.5219e-06,  -3.6490e-07,  -2.5558e-07,\n",
      "        -8.4377e-08,  -7.6148e-07,  -4.7901e-07,   1.4152e-06,\n",
      "        -4.8681e-07,   7.6124e-07,   1.0200e-07,  -2.6374e-07,\n",
      "        -2.4904e-07,   1.7908e-07,   2.0663e-07,  -8.3235e-07,\n",
      "         2.7170e-09,   2.0057e-07,   6.8079e-08,   2.2600e-07,\n",
      "         1.0401e-06,   1.8729e-06,   1.2336e-06,  -5.8452e-08,\n",
      "         1.0062e-06,   4.1990e-07,  -4.7451e-08,  -9.1343e-07,\n",
      "        -2.3781e-07,  -7.2084e-07,   3.1566e-07,  -3.2154e-07,\n",
      "        -3.5202e-07,  -1.0085e-08,  -3.4371e-07,   1.2878e-08,\n",
      "         2.6925e-07,  -7.1065e-07,  -3.8399e-07,  -4.4189e-07,\n",
      "        -1.3221e-08,   1.8020e-07,   2.4334e-08,  -2.2880e-07,\n",
      "        -2.5121e-07,  -8.0448e-08,  -5.7277e-07,  -2.9458e-07,\n",
      "        -3.4547e-07,  -1.3917e-07,  -8.6156e-07,  -7.3122e-07,\n",
      "        -3.0247e-07,  -2.5202e-07,  -3.0305e-07,  -2.7651e-07,\n",
      "        -3.5077e-07,  -3.0096e-07,  -3.3632e-07,  -4.8359e-07,\n",
      "         2.9209e-08,  -1.5503e-08,   4.8396e-07,   2.3892e-07,\n",
      "         2.9367e-07,   1.7817e-07,  -1.3290e-06,  -8.7041e-07,\n",
      "         1.4356e-07,  -8.0005e-07,  -4.1455e-07,   6.1528e-06,\n",
      "        -2.2054e-07,   5.5642e-07,  -3.8466e-07,  -7.0281e-07,\n",
      "         2.2256e-06,  -1.8158e-06,  -8.6512e-07,   3.5474e-07,\n",
      "        -4.2722e-07,   2.2646e-07,   4.5789e-07,  -7.2770e-08,\n",
      "        -2.0679e-07,   2.0823e-07,  -5.2065e-07,   1.6193e-07])\n",
      "  message: 'Optimization terminated successfully.'\n",
      "     nfev: 41\n",
      "      nit: 39\n",
      "     njev: 41\n",
      "   status: 0\n",
      "  success: True\n",
      "        x: array([ -1.5398e+00,   1.6292e-01,   2.9074e-01,   7.9621e-02,\n",
      "        -4.5703e-02,   6.7807e-01,  -1.2485e+00,  -8.4014e-01,\n",
      "        -2.1486e-01,  -8.8827e-01,   1.0980e+00,  -6.5396e-01,\n",
      "        -8.8258e-02,  -7.4611e-01,   4.6103e-01,  -6.9957e-01,\n",
      "        -1.4787e+00,  -2.5694e-01,  -5.1890e-01,  -2.1550e-01,\n",
      "        -4.3072e-01,   8.6027e-01,  -7.4525e-01,  -8.8839e-01,\n",
      "        -4.3054e-01,   1.5217e+00,   1.3563e+00,   7.6799e-01,\n",
      "        -6.0856e-01,  -3.4332e-01,  -1.8759e+00,   6.3400e-01,\n",
      "         1.6427e-01,   2.0518e-01,  -4.3211e-03,  -1.3105e-01,\n",
      "        -6.5301e-01,  -7.4548e-01,   1.2508e+00,   9.0577e-01,\n",
      "         9.0736e-01,   3.3262e-01,  -1.0888e+00,  -4.3049e-01,\n",
      "        -2.5661e-01,  -8.8861e-01,   7.2322e-01,   7.6788e-01,\n",
      "         1.5809e+00,  -7.9228e-01,   2.4769e-01,  -1.1410e+00,\n",
      "         4.1807e-01,  -6.0798e-01,   1.2190e-01,   9.5508e-01,\n",
      "        -1.2971e-01,   4.5955e-01,   5.0270e-01,  -6.0808e-01,\n",
      "         7.6847e-01,  -9.3730e-01,  -7.9251e-01,  -6.0810e-01,\n",
      "        -1.7286e-01,   5.4850e-01,  -1.1945e+00,   9.5377e-01,\n",
      "         3.8152e-02,   9.0771e-01,  -1.6029e+00,  -3.0025e-01,\n",
      "        -5.1821e-01,  -1.3610e+00,   1.5238e+00,  -3.0009e-01,\n",
      "         7.2164e-01,  -1.0375e+00,   9.5351e-01,   1.6424e+00,\n",
      "        -2.1553e-01,   8.0422e-02,  -6.0825e-01,  -1.0374e+00,\n",
      "         5.0238e-01,  -7.9256e-01,  -6.0813e-01,   7.6810e-01,\n",
      "         2.4768e-01,  -2.5800e-01,  -1.7350e+00,   1.0993e+00,\n",
      "         3.7453e-01,   4.6226e-01,   1.5804e+00,  -9.8714e-01,\n",
      "        -1.3038e+00,   5.4755e-01,  -1.4189e+00,  -3.5321e-03,\n",
      "        -4.8561e-03,   1.4077e-02,  -1.0164e-03,   6.0754e-03,\n",
      "        -2.1873e-03,   1.6317e-02,  -3.9073e-03,  -3.3857e-03,\n",
      "        -2.3278e-03,  -4.1716e-03,   2.1751e-02,   3.5165e-03,\n",
      "         2.6553e-03,   1.7949e-03,   1.1516e-03,   4.2715e-04,\n",
      "        -3.5262e-03,  -8.4421e-03,   3.2443e-03,   4.9741e-03,\n",
      "         2.4723e-03,   8.5946e-03,  -7.0997e-03,  -3.0232e-03,\n",
      "         5.5580e-04,   4.2020e-02,   2.2610e-02,   1.5284e-02,\n",
      "         3.8609e-03,  -3.1289e-03,  -6.5892e-03,   1.3719e-02,\n",
      "        -9.8007e-04,   1.1910e-02,   5.3802e-03,   9.0803e-03,\n",
      "        -6.4593e-03,  -4.8030e-03,   1.6407e-02,   1.9254e-02,\n",
      "         3.6441e-03,   4.4179e-03,  -2.3773e-03,   6.6136e-05,\n",
      "        -1.2223e-02,  -7.7788e-04,   1.1703e-02,   1.6288e-02,\n",
      "         3.7068e-02,  -6.4925e-03,   7.8149e-03,  -2.5576e-03,\n",
      "         1.7508e-03,  -2.2183e-03,   2.8643e-03,  -1.7714e-03,\n",
      "        -5.9785e-03,   1.7219e-02,   1.6761e-02,  -1.1338e-03,\n",
      "         1.0338e-02,  -2.8534e-03,  -4.0809e-03,  -9.8622e-04,\n",
      "         3.1362e-03,  -9.0862e-03,  -9.9268e-04,   1.0915e-02,\n",
      "         1.6273e-04,   1.2981e-04,  -4.8743e-03,  -3.2833e-03,\n",
      "        -4.2964e-03,  -2.3365e-03,   2.5450e-02,  -4.9765e-03,\n",
      "         2.7998e-02,  -1.5525e-03,   1.3523e-02,   2.7292e-02,\n",
      "         5.2147e-03,  -3.0122e-03,   6.5090e-04,  -3.1869e-03,\n",
      "         2.0248e-02,  -3.6122e-03,  -6.4533e-04,   1.4046e-02,\n",
      "         7.9330e-03,   3.3295e-03,  -3.8261e-03,   9.5273e-03,\n",
      "         1.1087e-02,  -1.2214e-02,   4.0904e-02,  -1.1398e-03,\n",
      "        -5.7629e-03,   9.7006e-04,  -4.7384e-03,  -3.5328e-03,\n",
      "         7.5053e-01,   5.6466e-01,  -5.6481e-01,   5.6426e-01,\n",
      "        -3.4625e-01,  -1.2179e+00,   4.7384e-01,  -6.5184e-01,\n",
      "         8.0677e-02,   3.8523e-01,   9.9570e-01,   2.1101e-01,\n",
      "        -8.9558e-02,   1.4943e+00,   4.2946e-01,   2.6070e+00,\n",
      "         5.1882e-01,   4.2953e-01,   2.1024e-01,   8.1590e-02,\n",
      "         3.8449e-01,   8.4668e-01,   6.0986e-01,   4.7458e-01,\n",
      "         8.0798e-02,  -1.3206e-01,  -6.0765e-01,  -4.6762e-02,\n",
      "        -6.9681e-01,   2.9800e-01,  -1.3215e-01,  -1.7523e-01,\n",
      "         7.9841e-01,   1.7534e+00,   8.9591e-01,   3.8237e-02,\n",
      "        -8.9579e-02,  -5.6239e-01,   6.1033e-01,  -9.7322e-01,\n",
      "         8.1168e-02,   1.0993e+00,  -6.0851e-01,   2.1050e-01,\n",
      "        -2.1832e-01,   8.4647e-01,   1.6696e-01,  -7.4112e-01,\n",
      "        -3.0314e-01,  -9.2546e-01,   9.9557e-01,   2.5369e-01,\n",
      "        -9.0487e-02,  -3.0322e-01,  -6.0814e-01,   4.7434e-01,\n",
      "         4.7396e-01,  -1.1692e+00,   1.2612e+00,  -1.4856e+00,\n",
      "        -1.1682e+00,  -8.9732e-02,   1.4340e+00,  -9.2602e-01,\n",
      "         1.2444e-01,   1.2466e-01,   1.6667e-01,   2.4010e+00,\n",
      "         2.0984e-01,   3.8507e-01,   2.1056e-01,  -1.1192e+00,\n",
      "         7.9828e-01,  -1.2700e+00,  -4.7736e-01,  -3.4598e-01,\n",
      "        -4.7716e-01,  -2.5939e-01,   8.0868e-02,  -1.2187e+00,\n",
      "         6.5708e-01,  -1.6042e+00,   2.5424e-01,  -6.9627e-01,\n",
      "         5.6503e-01,   9.9560e-01,   4.2980e-01,  -1.1216e+00,\n",
      "         1.5564e+00,  -4.3243e-01,   1.2062e+00,  -4.3314e-01,\n",
      "        -1.2708e+00,  -3.0333e-01,   1.1522e+00,   5.1901e-01,\n",
      "         5.1957e-01,   5.6442e-01,  -5.6471e-01,  -1.4329e+00])\n"
     ]
    }
   ],
   "source": [
    "a = np.random.normal(n1, n2, sum(uv.shape)+uv.shape[0])\n",
    "min_t1,min_t2,min_b1,min_b2,cost = min_thete_b6(uv,w,a)"
   ]
  },
  {
   "cell_type": "code",
   "execution_count": 332,
   "metadata": {
    "collapsed": false
   },
   "outputs": [
    {
     "name": "stdout",
     "output_type": "stream",
     "text": [
      "0.0473600173291\n",
      "0.0251211628832\n",
      "0.203784695984\n"
     ]
    }
   ],
   "source": [
    "min_p1 = 1.0/ (1.0 + np.exp(-(min_t1-min_b1))).reshape(uv.shape)\n",
    "min_p2 = 1.0/ (1.0 + np.exp(-(min_t2-real_b2))).reshape(uv.shape)\n",
    "min_p = min_p1*min_p2\n",
    "print absm(real_p,min_p)\n",
    "print (absm(real_p1,min_p1)+absm(real_p2,min_p2))/2\n",
    "print absm(real_t1,min_t1)"
   ]
  },
  {
   "cell_type": "markdown",
   "metadata": {},
   "source": [
    "一维误差很低"
   ]
  },
  {
   "cell_type": "code",
   "execution_count": 185,
   "metadata": {
    "collapsed": false
   },
   "outputs": [],
   "source": [
    "def min_thete(y,w,b1,b2):\n",
    "    start1 = y.shape[0]\n",
    "    a = np.array([1]*2*(y.shape[0]))\n",
    "    bnds = ((-3, 3), (-3, 3))*(y.shape[0])\n",
    "    def f(x):\n",
    "        t1 = np.array(x[:start1]).reshape(y.shape[0],1)\n",
    "        t2 = np.array(x[start1:]).reshape(y.shape[0],1)\n",
    "        p1 = (1./(1+ np.exp(-(t1-b1)))).reshape(y.shape)\n",
    "        p2 = (1./(1+ np.exp(-(t2-b2)))).reshape(y.shape)\n",
    "        f1 = -(y*np.log(p1*p2)+(1-y)*np.log(1-p1*p2)).sum()/y.shape[1]+w*((np.array([x])**2).sum())\n",
    "        ft1 = -((y-p1*p2)*(1-p1)/(1-p1*p2)).sum(axis=1)/y.shape[1]+2*w*np.array(x[:start1])\n",
    "        ft2 = -((y-p1*p2)*(1-p2)/(1-p1*p2)).sum(axis=1)/y.shape[1]+2*w*np.array(x[start1:])\n",
    "        f2 = np.concatenate((ft1,ft2))\n",
    "        return f1, f2\n",
    "    res = minimize(f, (a), bounds=bnds,method='L-BFGS-B',jac=True)\n",
    "    min_t1 = np.array(res.x[:start1]).reshape(y.shape[0],1)\n",
    "    min_t2 = np.array(res.x[start1:]).reshape(y.shape[0],1)\n",
    "    return min_t1, min_t2   "
   ]
  },
  {
   "cell_type": "code",
   "execution_count": 186,
   "metadata": {
    "collapsed": false
   },
   "outputs": [],
   "source": [
    "n_items=2000\n",
    "n_stu=100\n",
    "real_b1 = np.random.normal(0,1,(1,n_items))\n",
    "real_t1 = np.random.normal(0,1,(n_stu,1))\n",
    "real_b2 = np.random.normal(0,1,(1,n_items))\n",
    "real_t2 = np.random.normal(0,1,(n_stu,1))\n",
    "uv=np.random.random((n_stu,n_items))<1.0/ (1.0 + np.exp(-(real_t1-real_b1)))/ (1.0 + np.exp(-(real_t2-real_b2)))\n",
    "def absm(a,b):\n",
    "    return np.abs(a-b).mean()"
   ]
  },
  {
   "cell_type": "code",
   "execution_count": null,
   "metadata": {
    "collapsed": true
   },
   "outputs": [],
   "source": [
    "n_stu=100\n",
    "real_b1 = np.random.normal(0,1,(1,n_items))\n",
    "real_t1 = np.random.normal(0,1,(n_stu,1))\n",
    "real_b2 = np.random.normal(0,1,(1,n_items))\n",
    "real_t2 = np.random.normal(0,1,(n_stu,1))\n",
    "real_p1 = 1.0/ (1.0 + np.exp(-(real_t1-real_b1)))\n",
    "real_p2 = 1.0/ (1.0 + np.exp(-(real_t2-real_b2)))\n",
    "real_p = real_p1*real_p2\n",
    "uv=np.random.random((n_stu,n_items))<real_p1*real_p2\n",
    "#     for w in [0.000001,0.00001,0.0001,0.001,0.01,0.1,1]:\n",
    "    for w in [0.01]:\n",
    "        for n1 in [-3,-2,-1,0,1,2,3]:\n",
    "            for n2 in [0.1,1,10]:\n",
    "                a = np.random.normal(n1, n2, 2*(sum(uv.shape)))\n",
    "                min_t1,min_t2,min_b1,min_b2,cost = min_thete_b(uv,w,a)\n",
    "                print cost\n",
    "            a = np.array([n1]*2*(sum(uv.shape)))\n",
    "            min_t1,min_t2,min_b1,min_b2,cost = min_thete_b(uv,w,a)\n",
    "            print cost"
   ]
  },
  {
   "cell_type": "code",
   "execution_count": 303,
   "metadata": {
    "collapsed": false
   },
   "outputs": [
    {
     "name": "stdout",
     "output_type": "stream",
     "text": [
      "-----100----\n",
      "45.2776066914\n",
      "45.2776066914\n",
      "nan\n",
      "45.3085400216\n"
     ]
    },
    {
     "name": "stderr",
     "output_type": "stream",
     "text": [
      "C:\\Program1\\Anaconda2\\lib\\site-packages\\ipykernel\\__main__.py:15: RuntimeWarning: divide by zero encountered in log\n",
      "C:\\Program1\\Anaconda2\\lib\\site-packages\\ipykernel\\__main__.py:16: RuntimeWarning: invalid value encountered in true_divide\n",
      "C:\\Program1\\Anaconda2\\lib\\site-packages\\ipykernel\\__main__.py:17: RuntimeWarning: invalid value encountered in true_divide\n",
      "C:\\Program1\\Anaconda2\\lib\\site-packages\\ipykernel\\__main__.py:18: RuntimeWarning: invalid value encountered in true_divide\n",
      "C:\\Program1\\Anaconda2\\lib\\site-packages\\ipykernel\\__main__.py:19: RuntimeWarning: invalid value encountered in true_divide\n"
     ]
    },
    {
     "name": "stdout",
     "output_type": "stream",
     "text": [
      "45.2776066914\n",
      "45.2776066914\n",
      "45.2776066914\n",
      "45.3085400216\n",
      "45.2776066914\n",
      "45.2776066914\n",
      "45.2776066914\n",
      "45.3085400216\n",
      "45.2776066914\n",
      "45.2776066914\n",
      "45.2776066914\n",
      "45.3085400216\n",
      "45.2776066914\n",
      "45.2776066914\n",
      "nan\n",
      "45.3085400216\n",
      "45.2776066914\n",
      "45.2776066914\n",
      "45.2776066914\n",
      "45.3085400216\n",
      "45.2776066914\n",
      "45.2776066914\n",
      "45.2776066914\n",
      "45.3085400216\n"
     ]
    }
   ],
   "source": [
    "for n_items in [100]:\n",
    "    print \"-----\"+str(n_items)+\"----\"\n",
    "    n_stu=100\n",
    "    real_b1 = np.random.normal(0,1,(1,n_items))\n",
    "    real_t1 = np.random.normal(0,1,(n_stu,1))\n",
    "    real_b2 = np.random.normal(0,1,(1,n_items))\n",
    "    real_t2 = np.random.normal(0,1,(n_stu,1))\n",
    "    real_p1 = 1.0/ (1.0 + np.exp(-(real_t1-real_b1)))\n",
    "    real_p2 = 1.0/ (1.0 + np.exp(-(real_t2-real_b2)))\n",
    "    real_p = real_p1*real_p2\n",
    "    uv=np.random.random((n_stu,n_items))<real_p1*real_p2\n",
    "#     for w in [0.000001,0.00001,0.0001,0.001,0.01,0.1,1]:\n",
    "    for w in [0.01]:\n",
    "        for n1 in [-3,-2,-1,0,1,2,3]:\n",
    "            for n2 in [0.1,1,10]:\n",
    "                a = np.random.normal(n1, n2, 2*(sum(uv.shape)))\n",
    "                min_t1,min_t2,min_b1,min_b2,cost = min_thete_b(uv,w,a)\n",
    "                print cost\n",
    "            a = np.array([n1]*2*(sum(uv.shape)))\n",
    "            min_t1,min_t2,min_b1,min_b2,cost = min_thete_b(uv,w,a)\n",
    "            print cost"
   ]
  },
  {
   "cell_type": "markdown",
   "metadata": {},
   "source": [
    "初始值对似然无影响，说明已取到极大似然"
   ]
  },
  {
   "cell_type": "code",
   "execution_count": null,
   "metadata": {
    "collapsed": false
   },
   "outputs": [],
   "source": [
    "for n_items in [100]:\n",
    "    print \"-----\"+str(n_items)+\"----\"\n",
    "    n_stu=100\n",
    "    real_b1 = np.random.normal(0,1,(1,n_items))\n",
    "    real_t1 = np.random.normal(0,1,(n_stu,1))\n",
    "    real_b2 = np.random.normal(0,1,(1,n_items))\n",
    "    real_t2 = np.random.normal(0,1,(n_stu,1))\n",
    "    real_p1 = 1.0/ (1.0 + np.exp(-(real_t1-real_b1)))\n",
    "    real_p2 = 1.0/ (1.0 + np.exp(-(real_t2-real_b2)))\n",
    "    real_p = real_p1*real_p2\n",
    "    uv=np.random.random((n_stu,n_items))<real_p1*real_p2\n",
    "#     for w in [0.000001,0.00001,0.0001,0.001,0.01,0.1,1]:\n",
    "    for w in [0.01]:\n",
    "        for n1 in [-3,-2,-1,0,1,2,3]:\n",
    "            for n2 in [0.1,1,10]:\n",
    "                a = np.random.normal(n1, n2, 2*(sum(uv.shape)))\n",
    "                min_t1,min_t2,min_b1,min_b2,cost = min_thete_b(uv,w,a)\n",
    "                min_p1 = 1.0/ (1.0 + np.exp(-(min_t1-min_b1))).reshape(uv.shape)\n",
    "                min_p2 = 1.0/ (1.0 + np.exp(-(min_t2-real_b2))).reshape(uv.shape)\n",
    "                min_p = min_p1*min_p2\n",
    "                print absm(real_p,min_p)\n",
    "            a = np.array([n1]*2*(sum(uv.shape)))\n",
    "            min_t1,min_t2,min_b1,min_b2,cost = min_thete_b(uv,w,a)\n",
    "            min_p1 = 1.0/ (1.0 + np.exp(-(min_t1-min_b1))).reshape(uv.shape)\n",
    "            min_p2 = 1.0/ (1.0 + np.exp(-(min_t2-real_b2))).reshape(uv.shape)\n",
    "            min_p = min_p1*min_p2\n",
    "            print absm(real_p,min_p),n1\n",
    "                "
   ]
  },
  {
   "cell_type": "markdown",
   "metadata": {},
   "source": [
    "p误差在0.07以下,初始值对p影响不大,是否和分布有关，固定值比随机更好.题目数量越大，初始值影响越小.题目数量越小，初始值影响越大"
   ]
  },
  {
   "cell_type": "code",
   "execution_count": 299,
   "metadata": {
    "collapsed": false
   },
   "outputs": [
    {
     "name": "stdout",
     "output_type": "stream",
     "text": [
      "-----100----\n",
      "0.144526716602\n",
      "0.144526711128\n",
      "0.130161146464\n",
      "0.128495961363 4\n",
      "0.130161138255\n",
      "0.144526693328\n",
      "0.144526713568\n",
      "0.128495962045 4\n",
      "0.130161142511\n",
      "0.14452669693\n",
      "0.130161131389\n",
      "0.128495961858 4\n",
      "0.130161139226\n",
      "0.130161140811\n",
      "0.144526698893\n",
      "0.12849596186 4\n",
      "0.14452670768\n",
      "0.13016114459\n",
      "0.144526691436\n",
      "0.128495961862 4\n",
      "0.130161149246\n",
      "0.144526699478\n",
      "0.130161144609\n",
      "0.128495961612 4\n",
      "0.144526707333\n",
      "0.144526714628\n",
      "0.130161134778\n",
      "0.128495961632 4\n"
     ]
    }
   ],
   "source": [
    "for n_items in [100]:\n",
    "    print \"-----\"+str(n_items)+\"----\"\n",
    "    n_stu=100\n",
    "    real_b1 = np.random.normal(0,1,(1,n_items))\n",
    "    real_t1 = np.random.normal(0,1,(n_stu,1))\n",
    "    real_b2 = np.random.normal(0,1,(1,n_items))\n",
    "    real_t2 = np.random.normal(0,1,(n_stu,1))\n",
    "    real_p1 = 1.0/ (1.0 + np.exp(-(real_t1-real_b1)))\n",
    "    real_p2 = 1.0/ (1.0 + np.exp(-(real_t2-real_b2)))\n",
    "    real_p = real_p1*real_p2\n",
    "    uv=np.random.random((n_stu,n_items))<real_p1*real_p2\n",
    "#     for w in [0.000001,0.00001,0.0001,0.001,0.01,0.1,1]:\n",
    "    for w in [0.01]:\n",
    "        for n1 in [-3,-2,-1,0,1,2,3]:\n",
    "            for n2 in [0.1,1,10]:\n",
    "                a = np.random.normal(n1, n2, 2*(sum(uv.shape)))\n",
    "                min_t1,min_t2,min_b1,min_b2,cost = min_thete_b(uv,w,a)\n",
    "                min_p1 = 1.0/ (1.0 + np.exp(-(min_t1-min_b1))).reshape(uv.shape)\n",
    "                min_p2 = 1.0/ (1.0 + np.exp(-(min_t2-real_b2))).reshape(uv.shape)\n",
    "                print (absm(real_p1,min_p1)+absm(real_p2,min_p2))/2\n",
    "            a = np.array([n1]*2*(sum(uv.shape)))\n",
    "            min_t1,min_t2,min_b1,min_b2,cost = min_thete_b(uv,w,a)\n",
    "            min_p1 = 1.0/ (1.0 + np.exp(-(min_t1-min_b1))).reshape(uv.shape)\n",
    "            min_p2 = 1.0/ (1.0 + np.exp(-(min_t2-real_b2))).reshape(uv.shape)\n",
    "            print (absm(real_p1,min_p1)+absm(real_p2,min_p2))/2,n"
   ]
  },
  {
   "cell_type": "markdown",
   "metadata": {},
   "source": [
    "p1,p2误差在0.12-0.16,影响不大.题目数量越大，初始值影响越小.题目数量越小，初始值影响越大"
   ]
  },
  {
   "cell_type": "code",
   "execution_count": 268,
   "metadata": {
    "collapsed": false
   },
   "outputs": [
    {
     "ename": "AttributeError",
     "evalue": "'tuple' object has no attribute 'show'",
     "output_type": "error",
     "traceback": [
      "\u001b[1;31m---------------------------------------------------------------------------\u001b[0m",
      "\u001b[1;31mAttributeError\u001b[0m                            Traceback (most recent call last)",
      "\u001b[1;32m<ipython-input-268-3f2880b574e5>\u001b[0m in \u001b[0;36m<module>\u001b[1;34m()\u001b[0m\n\u001b[1;32m----> 1\u001b[1;33m \u001b[0mplt\u001b[0m\u001b[1;33m.\u001b[0m\u001b[0mhist\u001b[0m\u001b[1;33m(\u001b[0m\u001b[0mmin_p1\u001b[0m\u001b[1;33m)\u001b[0m\u001b[1;33m.\u001b[0m\u001b[0mshow\u001b[0m\u001b[1;33m(\u001b[0m\u001b[1;33m)\u001b[0m\u001b[1;33m\u001b[0m\u001b[0m\n\u001b[0m",
      "\u001b[1;31mAttributeError\u001b[0m: 'tuple' object has no attribute 'show'"
     ]
    },
    {
     "data": {
      "image/png": "[encoded data removed]",
      "text/plain": [
       "<matplotlib.figure.Figure at 0x11e29048>"
      ]
     },
     "metadata": {},
     "output_type": "display_data"
    }
   ],
   "source": [
    "plt.hist(min_p1).show()"
   ]
  },
  {
   "cell_type": "code",
   "execution_count": 300,
   "metadata": {
    "collapsed": false
   },
   "outputs": [
    {
     "name": "stdout",
     "output_type": "stream",
     "text": [
      "-----100----\n",
      "0.769561782449\n",
      "0.76956171538\n",
      "1.08577326525\n",
      "0.891416259731 -3\n",
      "1.08577324823\n",
      "0.76956170073\n",
      "1.08577326259\n",
      "0.891416260135 -2\n",
      "1.08577327742\n",
      "0.769561695273\n",
      "1.08577325242\n",
      "0.891416261026 -1\n",
      "0.769561740551\n",
      "1.08577323525\n",
      "0.769561758967\n",
      "0.891416260452 0\n",
      "0.769561660348\n",
      "1.08577329828\n",
      "1.08577325188\n",
      "0.891416261026 1\n",
      "1.08577328265\n",
      "0.769561721611\n",
      "1.08577324089\n",
      "0.891416259914 2\n",
      "0.769561683487\n",
      "1.08577327447\n",
      "1.085773261\n",
      "0.891416260569 3\n"
     ]
    }
   ],
   "source": [
    "for n_items in [100]:\n",
    "    print \"-----\"+str(n_items)+\"----\"\n",
    "    n_stu=100\n",
    "    real_b1 = np.random.normal(0,1,(1,n_items))\n",
    "    real_t1 = np.random.normal(0,1,(n_stu,1))\n",
    "    real_b2 = np.random.normal(0,1,(1,n_items))\n",
    "    real_t2 = np.random.normal(0,1,(n_stu,1))\n",
    "    real_p1 = 1.0/ (1.0 + np.exp(-(real_t1-real_b1)))\n",
    "    real_p2 = 1.0/ (1.0 + np.exp(-(real_t2-real_b2)))\n",
    "    real_p = real_p1*real_p2\n",
    "    uv=np.random.random((n_stu,n_items))<real_p1*real_p2\n",
    "#     for w in [0.000001,0.00001,0.0001,0.001,0.01,0.1,1]:\n",
    "    for w in [0.01]:\n",
    "        for n1 in [-3,-2,-1,0,1,2,3]:\n",
    "            for n2 in [0.1,1,10]:\n",
    "                a = np.random.normal(n1, n2, 2*(sum(uv.shape)))\n",
    "                min_t1,min_t2,min_b1,min_b2,cost = min_thete_b(uv,w,a)\n",
    "                min_p1 = 1.0/ (1.0 + np.exp(-(min_t1-min_b1))).reshape(uv.shape)\n",
    "                min_p2 = 1.0/ (1.0 + np.exp(-(min_t2-real_b2))).reshape(uv.shape)\n",
    "                print (absm(real_t1-real_b1,min_t1-min_b1)+absm(real_t2-real_b2,min_t2-min_b2))/2\n",
    "            a = np.array([n1]*2*(sum(uv.shape)))\n",
    "            min_t1,min_t2,min_b1,min_b2,cost = min_thete_b(uv,w,a)\n",
    "            min_p1 = 1.0/ (1.0 + np.exp(-(min_t1-min_b1))).reshape(uv.shape)\n",
    "            min_p2 = 1.0/ (1.0 + np.exp(-(min_t2-real_b2))).reshape(uv.shape)\n",
    "            print (absm(real_t1-real_b1,min_t1-min_b1)+absm(real_t2-real_b2,min_t2-min_b2))/2,n1"
   ]
  },
  {
   "cell_type": "markdown",
   "metadata": {},
   "source": [
    "t-b误差在0.8-0.9左右，初始值影响不大.题目数量越大，初始值影响越小"
   ]
  },
  {
   "cell_type": "code",
   "execution_count": 295,
   "metadata": {
    "collapsed": false
   },
   "outputs": [
    {
     "name": "stdout",
     "output_type": "stream",
     "text": [
      "-----100----\n",
      "0.76165314559\n",
      "0.761653185984\n",
      "0.761653196447\n",
      "0.656512682687 -3\n",
      "0.61400837632\n",
      "0.761653194632\n",
      "0.614008385831\n",
      "0.656512682756 -2\n",
      "0.614008347521\n",
      "0.761653170944\n",
      "0.614008420237\n",
      "0.656512682911 -1\n",
      "0.614008416264\n",
      "0.614008407843\n",
      "0.614008404083\n",
      "0.656512682941 0\n",
      "0.761653171211\n",
      "0.614008425206\n",
      "0.761653167359\n",
      "0.65651268289 1\n",
      "0.7616531368\n",
      "0.614008416378\n",
      "0.761653165446\n",
      "0.65651268258 2\n",
      "0.761653180364\n",
      "0.761653217874\n",
      "0.61400841392\n",
      "0.656512683091 3\n"
     ]
    }
   ],
   "source": [
    "for n_items in [100]:\n",
    "    print \"-----\"+str(n_items)+\"----\"\n",
    "    n_stu=100\n",
    "    real_b1 = np.random.normal(0,1,(1,n_items))\n",
    "    real_t1 = np.random.normal(0,1,(n_stu,1))\n",
    "    real_b2 = np.random.normal(0,1,(1,n_items))\n",
    "    real_t2 = np.random.normal(0,1,(n_stu,1))\n",
    "    real_p1 = 1.0/ (1.0 + np.exp(-(real_t1-real_b1)))\n",
    "    real_p2 = 1.0/ (1.0 + np.exp(-(real_t2-real_b2)))\n",
    "    real_p = real_p1*real_p2\n",
    "    uv=np.random.random((n_stu,n_items))<real_p1*real_p2\n",
    "    for w in [0.01]:\n",
    "        for n1 in [-3,-2,-1,0,1,2,3]:\n",
    "            for n2 in [0.1,1,10]:\n",
    "                a = np.random.normal(n1, n2, 2*(sum(uv.shape)))\n",
    "                min_t1,min_t2,min_b1,min_b2,cost = min_thete_b(uv,w,a)\n",
    "                print (absm(real_b1,min_b1)+absm(real_b2,min_b2)+absm(real_t1,min_t1)+absm(real_t2,min_t2))/4\n",
    "            a = np.array([n1]*2*(sum(uv.shape)))\n",
    "            min_t1,min_t2,min_b1,min_b2,cost = min_thete_b(uv,w,a)\n",
    "            print (absm(real_b1,min_b1)+absm(real_b2,min_b2)+absm(real_t1,min_t1)+absm(real_t2,min_t2))/4,n1"
   ]
  },
  {
   "cell_type": "markdown",
   "metadata": {},
   "source": [
    "t,b误差在0.6-0.7左右，初始值影响不大.题目数量越大，初始值影响越小"
   ]
  },
  {
   "cell_type": "code",
   "execution_count": 104,
   "metadata": {
    "collapsed": false
   },
   "outputs": [
    {
     "data": {
      "text/plain": [
       "array([[1, 1],\n",
       "       [4, 4]])"
      ]
     },
     "execution_count": 104,
     "metadata": {},
     "output_type": "execute_result"
    }
   ],
   "source": [
    "np.array([[1,1],[2,2]])*np.array([[1,1],[2,2]])"
   ]
  },
  {
   "cell_type": "code",
   "execution_count": 145,
   "metadata": {
    "collapsed": false
   },
   "outputs": [],
   "source": [
    "x = np.concatenate((real_t1.reshape(n_stu),real_t2.reshape(n_stu),real_b1.reshape(n_items),real_b2.reshape(n_items)))\n",
    "y = uv\n",
    "w = 0.01\n",
    "start1 = y.shape[0]\n",
    "start2 = y.shape[0]*2\n",
    "start3 = y.shape[0]*2+y.shape[1]\n",
    "t1 = np.array(x[:start1]).reshape(y.shape[0],1)\n",
    "b1 = np.array([[x[start2:start3]]])\n",
    "t2 = np.array(x[start1:start2]).reshape(y.shape[0],1)\n",
    "b2 = np.array([[x[start3:]]])\n",
    "p1 = 1./(1+ np.exp(-(t1-b1))).reshape(100,50)\n",
    "p2 = 1./(1+ np.exp(-(t2-b2))).reshape(100,50)\n",
    "f1 = -(y*np.log(p1*p2)+(1-y)*np.log(1-p1*p2)).sum()/y.shape[1]+w*((np.array([x])**2).sum())\n",
    "ft1 = -((y-p1*p2)*(1-p1)/(1-p1*p2)).sum(axis=1)/y.shape[1]+2*w*np.array(x[:start1])\n",
    "ft2 = -((y-p1*p2)*(1-p2)/(1-p1*p2)).sum(axis=1)/y.shape[1]+2*w*np.array(x[start1:start2])\n",
    "fb1 = ((y-p1*p2)*(1-p1)/(1-p1*p2)).sum(axis=0)/y.shape[1]+2*w*np.array(x[start2:start3])\n",
    "fb2 = ((y-p1*p2)*(1-p2)/(1-p1*p2)).sum(axis=0)/y.shape[1]+2*w*np.array(x[start3:])\n",
    "f2 = np.concatenate((ft1,ft2,fb1,fb2))"
   ]
  },
  {
   "cell_type": "code",
   "execution_count": 192,
   "metadata": {
    "collapsed": false
   },
   "outputs": [
    {
     "data": {
      "text/plain": [
       "array([[1],\n",
       "       [2],\n",
       "       [3]])"
      ]
     },
     "execution_count": 192,
     "metadata": {},
     "output_type": "execute_result"
    }
   ],
   "source": [
    "np.array([1,2,3]).reshape(-1,1)"
   ]
  },
  {
   "cell_type": "code",
   "execution_count": 193,
   "metadata": {
    "collapsed": false
   },
   "outputs": [
    {
     "data": {
      "text/plain": [
       "array([ 0.7044, -1.9106,  1.0013,  0.627 , -0.8164,  0.4819,  1.0721,\n",
       "        0.9205, -0.1907,  0.1093,  0.6094, -0.7593,  0.1324, -1.8441,\n",
       "       -0.3716,  0.4098, -0.3475, -0.6369, -0.7117,  0.0792, -0.322 ,\n",
       "        2.1848, -0.0058, -0.6223,  0.0321, -0.1122, -0.8908, -0.3365,\n",
       "       -1.1124,  1.2354, -0.2664, -0.1507,  0.7078, -0.9453, -1.1156,\n",
       "        1.1329,  0.5634, -0.9705,  0.228 ,  0.0315, -1.2903,  1.0516,\n",
       "        1.1725, -0.1146,  0.7072, -0.5564,  1.5593, -0.9738,  1.3965,\n",
       "       -1.5915, -1.4378, -0.3122, -1.2419,  1.3278,  0.8942, -0.9207,\n",
       "       -1.1358,  0.4718, -0.7244,  1.1833,  0.5082, -0.3543, -0.7908,\n",
       "        0.9566, -1.42  , -0.736 ,  1.2543, -0.5837, -1.5117,  1.0466,\n",
       "       -1.2752, -1.1805,  0.7367,  0.4302,  1.0047,  1.4533,  1.6236,\n",
       "       -0.8788,  0.4316,  0.1586, -0.4265, -0.2976, -0.0847,  0.392 ,\n",
       "        0.6819, -1.1503,  0.6058, -1.2869,  0.576 , -2.7136,  2.5716,\n",
       "        0.9982,  1.0751,  1.7485, -1.3515,  0.1077,  0.9926, -0.802 ,\n",
       "        1.0499,  0.1531])"
      ]
     },
     "execution_count": 193,
     "metadata": {},
     "output_type": "execute_result"
    }
   ],
   "source": [
    "real_t1.reshape(n_stu)"
   ]
  },
  {
   "cell_type": "code",
   "execution_count": null,
   "metadata": {
    "collapsed": true
   },
   "outputs": [],
   "source": []
  }
 ],
 "metadata": {
  "kernelspec": {
   "display_name": "Python 2",
   "language": "python",
   "name": "python2"
  },
  "language_info": {
   "codemirror_mode": {
    "name": "ipython",
    "version": 2
   },
   "file_extension": ".py",
   "mimetype": "text/x-python",
   "name": "python",
   "nbconvert_exporter": "python",
   "pygments_lexer": "ipython2",
   "version": "2.7.13"
  }
 },
 "nbformat": 4,
 "nbformat_minor": 2
}
